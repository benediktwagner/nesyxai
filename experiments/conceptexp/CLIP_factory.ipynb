{
  "cells": [
    {
      "cell_type": "code",
      "execution_count": null,
      "metadata": {
        "collapsed": true,
        "pycharm": {
          "name": "#%%\n"
        },
        "id": "WP0010FhNrR0"
      },
      "outputs": [],
      "source": [
        "import torch\n",
        "from PIL import Image\n",
        "import requests\n",
        "from transformers import CLIPProcessor, CLIPModel, CLIPFeatureExtractor,CLIPVisionModel,CLIPVisionConfig\n",
        "\n",
        "from torchvision.datasets import CIFAR100, ImageFolder\n",
        "from torch.utils.data import DataLoader\n",
        "import torchvision.transforms as T\n",
        "import os"
      ]
    },
    {
      "cell_type": "code",
      "execution_count": null,
      "outputs": [
        {
          "name": "stderr",
          "output_type": "stream",
          "text": [
            "ftfy or spacy is not installed using BERT BasicTokenizer instead of ftfy.\n"
          ]
        }
      ],
      "source": [
        "\n",
        "model = CLIPModel.from_pretrained(\"openai/clip-vit-base-patch32\")\n",
        "processor = CLIPProcessor.from_pretrained(\"openai/clip-vit-base-patch32\")\n",
        "#cifar100 = CIFAR100(root=os.path.expanduser(\"~/.cache\"), download=True, train=False)"
      ],
      "metadata": {
        "pycharm": {
          "name": "#%%\n"
        },
        "id": "hovaSCUENrR2",
        "outputId": "8fd938f4-34f7-41b7-90f0-096c24e4758f"
      }
    },
    {
      "cell_type": "code",
      "execution_count": null,
      "outputs": [],
      "source": [
        "transformes = T.Compose([T.Resize(255),\n",
        "                                T.CenterCrop(224),\n",
        "                                T.ToTensor()])\n",
        "\n",
        "ims = ImageFolder(\"//home/ben/Downloads/factory_doran/\",transform=transformes)\n",
        "dataloader = torch.utils.data.DataLoader(ims, batch_size=1, shuffle=True)"
      ],
      "metadata": {
        "pycharm": {
          "name": "#%%\n"
        },
        "id": "1pzfa9n4NrR3"
      }
    },
    {
      "cell_type": "code",
      "execution_count": null,
      "outputs": [],
      "source": [
        "image_cart = []\n",
        "image_conc = []\n",
        "image_fact = []\n",
        "image_mach = []\n",
        "image_rand = []\n",
        "image_test = []\n",
        "\n",
        "for image, class_id in dataloader:\n",
        "    if class_id==0:\n",
        "        image_cart.append(image.squeeze())\n",
        "    elif class_id==1:\n",
        "        image_conc.append(image.squeeze())\n",
        "    elif class_id==2:\n",
        "        image_fact.append(image.squeeze())\n",
        "    elif class_id==3:\n",
        "        image_mach.append(image.squeeze())\n",
        "    elif class_id==4:\n",
        "        image_rand.append(image.squeeze())\n",
        "    elif class_id==5:\n",
        "        image_test.append(image.squeeze())\n"
      ],
      "metadata": {
        "pycharm": {
          "name": "#%%\n"
        },
        "id": "vpXsWXYBNrR4"
      }
    },
    {
      "cell_type": "code",
      "execution_count": null,
      "outputs": [],
      "source": [
        ""
      ],
      "metadata": {
        "pycharm": {
          "name": "#%%\n"
        },
        "id": "x7sI-F_fNrR5"
      }
    },
    {
      "cell_type": "code",
      "execution_count": null,
      "outputs": [],
      "source": [
        "import logictensornetworks as ltn\n",
        "Not = ltn.Wrapper_Connective(ltn.fuzzy_ops.Not_Std())\n",
        "And = ltn.Wrapper_Connective(ltn.fuzzy_ops.And_Prod())\n",
        "Or = ltn.Wrapper_Connective(ltn.fuzzy_ops.Or_ProbSum())\n",
        "Implies = ltn.Wrapper_Connective(ltn.fuzzy_ops.Implies_Reichenbach())\n",
        "Forall = ltn.Wrapper_Quantifier(ltn.fuzzy_ops.Aggreg_pMeanError(p=2,stable=True),semantics=\"forall\")\n",
        "\n",
        "formula_aggregator = ltn.fuzzy_ops.Aggreg_pMeanError(p=2,stable=True)"
      ],
      "metadata": {
        "pycharm": {
          "name": "#%%\n"
        },
        "id": "AhdHDFBSNrR6"
      }
    },
    {
      "cell_type": "code",
      "execution_count": null,
      "outputs": [],
      "source": [
        "inputs_cart = processor(images=image_cart, return_tensors=\"pt\", padding=True)\n",
        "inputs_conc = processor(images=image_conc, return_tensors=\"pt\", padding=True)\n",
        "inputs_fact = processor(images=image_fact, return_tensors=\"pt\", padding=True)\n",
        "inputs_mach = processor(images=image_mach, return_tensors=\"pt\", padding=True)\n",
        "inputs_rand = processor(images=image_rand, return_tensors=\"pt\", padding=True)\n",
        "inputs_test = processor(images=image_test, return_tensors=\"pt\", padding=True)"
      ],
      "metadata": {
        "pycharm": {
          "name": "#%%\n"
        },
        "id": "aA9xwfsJNrR6"
      }
    },
    {
      "cell_type": "code",
      "execution_count": null,
      "outputs": [],
      "source": [
        "for parameter in model.parameters():\n",
        "    parameter.requires_grad = False"
      ],
      "metadata": {
        "pycharm": {
          "name": "#%%\n"
        },
        "id": "IaCgB_xgNrR7"
      }
    },
    {
      "cell_type": "code",
      "execution_count": null,
      "outputs": [],
      "source": [
        "feats_cart = model.get_image_features(**inputs_cart)\n",
        "feats_conc = model.get_image_features(**inputs_conc)\n",
        "feats_fact = model.get_image_features(**inputs_fact)\n",
        "feats_mach = model.get_image_features(**inputs_mach)\n",
        "feats_rand = model.get_image_features(**inputs_rand)\n",
        "feats_test = model.get_image_features(**inputs_test)"
      ],
      "metadata": {
        "pycharm": {
          "name": "#%%\n"
        },
        "id": "msbtvqViNrR8"
      }
    },
    {
      "cell_type": "code",
      "execution_count": null,
      "outputs": [],
      "source": [
        "cart = ltn.Predicate.MLP([512],hidden_layer_sizes=[10])\n",
        "conc = ltn.Predicate.MLP([512],hidden_layer_sizes=[10])\n",
        "fact = ltn.Predicate.MLP([512],hidden_layer_sizes=[10])\n",
        "mach = ltn.Predicate.MLP([512],hidden_layer_sizes=[10])\n",
        "\n",
        "def axioms():\n",
        "    x_A = ltn.variable(\"x_A\",feats_cart)\n",
        "    x_B = ltn.variable(\"x_B\",feats_conc)\n",
        "    x_C = ltn.variable(\"x_C\",feats_fact)\n",
        "    x_D = ltn.variable(\"x_D\",feats_mach)\n",
        "    x_R = ltn.variable(\"x_R\",feats_rand)\n",
        "\n",
        "    axioms = [\n",
        "        Forall(x_A, cart(x_A)),\n",
        "        Forall(x_R, Not(cart(x_R))),\n",
        "        Forall(x_B, conc(x_B)),\n",
        "        Forall(x_R, Not(conc(x_R))),\n",
        "        Forall(x_C, fact(x_C)),\n",
        "        Forall(x_R, Not(fact(x_R))),\n",
        "        Forall(x_D, mach(x_D)),\n",
        "        Forall(x_R, Not(mach(x_R))),\n",
        "    ]\n",
        "    axioms = torch.stack(axioms)\n",
        "    sat_level = formula_aggregator(axioms, axis=0)\n",
        "    return sat_level, axioms"
      ],
      "metadata": {
        "pycharm": {
          "name": "#%%\n"
        },
        "id": "UPJIuxP1NrR9"
      }
    },
    {
      "cell_type": "code",
      "execution_count": null,
      "outputs": [
        {
          "data": {
            "text/plain": "(tensor(0.4936, grad_fn=<RsubBackward1>),\n tensor([0.4413, 0.5573, 0.4712, 0.5292, 0.4962, 0.4951, 0.4130, 0.5655],\n        grad_fn=<StackBackward>))"
          },
          "execution_count": 51,
          "metadata": {},
          "output_type": "execute_result"
        }
      ],
      "source": [
        "axioms()"
      ],
      "metadata": {
        "pycharm": {
          "name": "#%%\n"
        },
        "id": "Yt420diGNrR-",
        "outputId": "02b078ab-344e-4d87-c2f0-3e8b934f93c5"
      }
    },
    {
      "cell_type": "code",
      "execution_count": null,
      "outputs": [],
      "source": [
        "from torch.optim import Adam\n",
        "\n",
        "trainable_variables = list(cart.parameters())\\\n",
        "                      +list(conc.parameters())\\\n",
        "                      +list(fact.parameters())\\\n",
        "                      +list(mach.parameters())\n",
        "optimizer = Adam(trainable_variables, lr=0.001)"
      ],
      "metadata": {
        "pycharm": {
          "name": "#%%\n"
        },
        "id": "lyX824ptNrR-"
      }
    },
    {
      "cell_type": "code",
      "execution_count": null,
      "outputs": [
        {
          "name": "stdout",
          "output_type": "stream",
          "text": [
            "Epoch 0: Sat Level 0.998\n",
            "Epoch 10: Sat Level 0.999\n",
            "Epoch 20: Sat Level 0.999\n",
            "Epoch 30: Sat Level 0.999\n",
            "Epoch 40: Sat Level 0.999\n"
          ]
        }
      ],
      "source": [
        "for epoch in range(50):\n",
        "    optimizer.zero_grad()\n",
        "    loss_value = 1. - axioms()[0]\n",
        "    loss_value.backward()\n",
        "    optimizer.step()\n",
        "    if epoch%10 == 0:\n",
        "        print(\"Epoch %d: Sat Level %.3f\"%(epoch, axioms()[0]))"
      ],
      "metadata": {
        "pycharm": {
          "name": "#%%\n"
        },
        "id": "GkKNAgPTNrR_",
        "outputId": "7c64dcdd-df07-4678-f4d2-db197471493a"
      }
    },
    {
      "cell_type": "code",
      "execution_count": null,
      "outputs": [
        {
          "data": {
            "text/plain": "tensor(0.9248, grad_fn=<RsubBackward1>)"
          },
          "execution_count": 34,
          "metadata": {},
          "output_type": "execute_result"
        }
      ],
      "source": [
        "x_A = ltn.variable(\"x_A\",feats_cart)\n",
        "x_B = ltn.variable(\"x_A\",feats_conc)\n",
        "x_test = ltn.variable(\"x_test\", feats_test)\n",
        "\n",
        "Forall(x_A, cart(x_A))"
      ],
      "metadata": {
        "pycharm": {
          "name": "#%%\n"
        },
        "id": "JeDVk1MNNrSA",
        "outputId": "08980f69-bdd8-4732-c666-1af479465765"
      }
    },
    {
      "cell_type": "code",
      "execution_count": null,
      "outputs": [
        {
          "data": {
            "text/plain": "tensor(0.6873, grad_fn=<RsubBackward1>)"
          },
          "execution_count": 19,
          "metadata": {},
          "output_type": "execute_result"
        }
      ],
      "source": [
        "Forall(x_A, conc(x_A))"
      ],
      "metadata": {
        "pycharm": {
          "name": "#%%\n"
        },
        "id": "bcow4jlpNrSB",
        "outputId": "eecbfc34-c03b-42d4-c15b-d112150b270c"
      }
    },
    {
      "cell_type": "code",
      "execution_count": null,
      "outputs": [
        {
          "data": {
            "text/plain": "tensor([0.9699], grad_fn=<ViewBackward>)"
          },
          "execution_count": 35,
          "metadata": {},
          "output_type": "execute_result"
        }
      ],
      "source": [
        "fact(x_test)"
      ],
      "metadata": {
        "pycharm": {
          "name": "#%%\n"
        },
        "id": "XSNR4rj2NrSC",
        "outputId": "f73cb4a8-813f-4479-986f-0bbc8c9ccbd0"
      }
    },
    {
      "cell_type": "code",
      "execution_count": null,
      "outputs": [
        {
          "data": {
            "text/plain": "tensor([0.5433], grad_fn=<ViewBackward>)"
          },
          "execution_count": 45,
          "metadata": {},
          "output_type": "execute_result"
        }
      ],
      "source": [
        "cart(x_test)"
      ],
      "metadata": {
        "pycharm": {
          "name": "#%%\n"
        },
        "id": "aVKr4LZQNrSC",
        "outputId": "6d6243cf-f31f-4100-b324-5258d28470bb"
      }
    },
    {
      "cell_type": "code",
      "execution_count": null,
      "outputs": [
        {
          "data": {
            "text/plain": "tensor([0.9999], grad_fn=<ViewBackward>)"
          },
          "execution_count": 95,
          "metadata": {},
          "output_type": "execute_result"
        }
      ],
      "source": [
        "fact(x_test)"
      ],
      "metadata": {
        "pycharm": {
          "name": "#%%\n"
        },
        "id": "U835YA8hNrSD",
        "outputId": "de434d75-fe3e-4c76-b1ad-c26ead6b6f08"
      }
    },
    {
      "cell_type": "code",
      "execution_count": null,
      "outputs": [
        {
          "data": {
            "text/plain": "tensor([0.9768], grad_fn=<ViewBackward>)"
          },
          "execution_count": 94,
          "metadata": {},
          "output_type": "execute_result"
        }
      ],
      "source": [
        "conc(x_test)"
      ],
      "metadata": {
        "pycharm": {
          "name": "#%%\n"
        },
        "id": "L7fIKFpzNrSD",
        "outputId": "4b94a278-81a3-406b-b7f9-5de9fa40c757"
      }
    },
    {
      "cell_type": "code",
      "execution_count": null,
      "outputs": [
        {
          "data": {
            "text/plain": "tensor([0.9121], grad_fn=<ViewBackward>)"
          },
          "execution_count": 39,
          "metadata": {},
          "output_type": "execute_result"
        }
      ],
      "source": [
        "mach(x_test)"
      ],
      "metadata": {
        "pycharm": {
          "name": "#%%\n"
        },
        "id": "VZpYydD4NrSE",
        "outputId": "2f246a42-04b2-41e4-fc4d-c0e2a63e448c"
      }
    },
    {
      "cell_type": "code",
      "execution_count": null,
      "outputs": [
        {
          "data": {
            "text/plain": "tensor([0.7623], grad_fn=<ViewBackward>)"
          },
          "execution_count": 93,
          "metadata": {},
          "output_type": "execute_result"
        }
      ],
      "source": [
        "cart(x_test)\n"
      ],
      "metadata": {
        "pycharm": {
          "name": "#%%\n"
        },
        "id": "pLR_bE8lNrSE",
        "outputId": "c3979232-c0fa-4ca9-e80f-e00f934410d1"
      }
    },
    {
      "cell_type": "code",
      "execution_count": null,
      "outputs": [
        {
          "data": {
            "text/plain": "tensor([0.7733], grad_fn=<ViewBackward>)"
          },
          "execution_count": 98,
          "metadata": {},
          "output_type": "execute_result"
        }
      ],
      "source": [
        "cart(x_test)"
      ],
      "metadata": {
        "pycharm": {
          "name": "#%%\n"
        },
        "id": "_GxRd6zzNrSE",
        "outputId": "f221959a-4c4f-4910-c718-31d431e6ebf7"
      }
    },
    {
      "cell_type": "code",
      "execution_count": null,
      "outputs": [
        {
          "data": {
            "text/plain": "tensor([0.9979], grad_fn=<ViewBackward>)"
          },
          "execution_count": 96,
          "metadata": {},
          "output_type": "execute_result"
        }
      ],
      "source": [
        "mach(x_test)\n"
      ],
      "metadata": {
        "pycharm": {
          "name": "#%%\n"
        },
        "id": "aWNxa5JcNrSE",
        "outputId": "be99f081-3287-443f-c0b3-505d9595f001"
      }
    },
    {
      "cell_type": "code",
      "execution_count": null,
      "outputs": [
        {
          "data": {
            "text/plain": "tensor(0.9838, grad_fn=<RsubBackward1>)"
          },
          "execution_count": 106,
          "metadata": {},
          "output_type": "execute_result"
        }
      ],
      "source": [
        "Forall = ltn.Wrapper_Quantifier(ltn.fuzzy_ops.Aggreg_pMeanError(p=-1,stable=True),semantics=\"forall\")\n",
        "\n",
        "x_fac = ltn.variable(\"x_test\", feats_fact)\n",
        "\n",
        "Forall(x_fac,conc(x_fac))"
      ],
      "metadata": {
        "pycharm": {
          "name": "#%%\n"
        },
        "id": "n3MkYBioNrSF",
        "outputId": "a80f6d9c-e696-40ed-8cfc-44f17c17f4c6"
      }
    },
    {
      "cell_type": "code",
      "execution_count": null,
      "outputs": [
        {
          "data": {
            "text/plain": "tensor(0.7580, grad_fn=<RsubBackward1>)"
          },
          "execution_count": 101,
          "metadata": {},
          "output_type": "execute_result"
        }
      ],
      "source": [
        "\n",
        "Forall(x_fac,mach(x_fac))"
      ],
      "metadata": {
        "pycharm": {
          "name": "#%%\n"
        },
        "id": "3mxdnIdeNrSF",
        "outputId": "ad979a11-13a6-4266-8cef-97b11183a5ed"
      }
    },
    {
      "cell_type": "code",
      "execution_count": null,
      "outputs": [
        {
          "data": {
            "text/plain": "tensor([0.9989, 0.9873, 0.3530, 0.1932, 0.1671, 0.3399, 0.8151, 0.9932, 0.4081,\n        0.9863, 0.9466, 0.8921, 0.5812, 0.5889, 0.8007, 0.9762, 0.5686, 0.5620,\n        0.0939, 0.0296], grad_fn=<ViewBackward>)"
          },
          "execution_count": 107,
          "metadata": {},
          "output_type": "execute_result"
        }
      ],
      "source": [
        "conc(x_fac)"
      ],
      "metadata": {
        "pycharm": {
          "name": "#%%\n"
        },
        "id": "lhpZF9ztNrSG",
        "outputId": "f4463f18-5c73-4315-cc20-ddfe84205d1e"
      }
    },
    {
      "cell_type": "code",
      "execution_count": null,
      "outputs": [
        {
          "data": {
            "text/plain": "tensor([0.9989, 0.9736, 0.9072, 0.9952, 0.9993, 0.2331, 1.0000, 0.9994, 0.9765,\n        0.9998, 0.9998, 0.4997, 0.4342, 0.9999, 0.9541, 0.9937, 0.9848, 0.9954,\n        0.9884, 0.9980], grad_fn=<ViewBackward>)"
          },
          "execution_count": 108,
          "metadata": {},
          "output_type": "execute_result"
        }
      ],
      "source": [
        "mach(x_fac)"
      ],
      "metadata": {
        "pycharm": {
          "name": "#%%\n"
        },
        "id": "tZ9fssfWNrSG",
        "outputId": "a8da5203-df97-4755-acd7-4d02d6e02721"
      }
    },
    {
      "cell_type": "code",
      "execution_count": null,
      "outputs": [],
      "source": [
        ""
      ],
      "metadata": {
        "pycharm": {
          "name": "#%%\n"
        },
        "id": "Q6XW1NxpNrSG"
      }
    },
    {
      "cell_type": "code",
      "execution_count": null,
      "outputs": [
        {
          "data": {
            "text/plain": "tensor(0.9992, grad_fn=<RsubBackward1>)"
          },
          "execution_count": 109,
          "metadata": {},
          "output_type": "execute_result"
        }
      ],
      "source": [
        "Forall(x_fac,mach(x_fac))"
      ],
      "metadata": {
        "pycharm": {
          "name": "#%%\n"
        },
        "id": "uq5xBeJ4NrSH",
        "outputId": "d50335a0-d961-4d5d-ae50-12286ce096fb"
      }
    },
    {
      "cell_type": "code",
      "execution_count": null,
      "outputs": [],
      "source": [
        ""
      ],
      "metadata": {
        "pycharm": {
          "name": "#%%\n"
        },
        "id": "PYH2sJSnNrSH"
      }
    },
    {
      "cell_type": "code",
      "execution_count": null,
      "outputs": [
        {
          "data": {
            "text/plain": "tensor(0.8891, grad_fn=<RsubBackward1>)"
          },
          "execution_count": 110,
          "metadata": {},
          "output_type": "execute_result"
        }
      ],
      "source": [
        "Forall(x_fac,cart(x_fac))"
      ],
      "metadata": {
        "pycharm": {
          "name": "#%%\n"
        },
        "id": "adyUFNnGNrSH",
        "outputId": "f89ac59b-325d-401c-d015-7340a8702658"
      }
    },
    {
      "cell_type": "code",
      "execution_count": null,
      "outputs": [
        {
          "data": {
            "text/plain": "tensor(0.9995, grad_fn=<RsubBackward1>)"
          },
          "execution_count": 112,
          "metadata": {},
          "output_type": "execute_result"
        }
      ],
      "source": [
        "Forall(x_fac,Implies(mach(x_fac),fact(x_fac)))"
      ],
      "metadata": {
        "pycharm": {
          "name": "#%%\n"
        },
        "id": "cQpzxgI_NrSI",
        "outputId": "79d88fe1-e317-4b45-a880-e68540b7422e"
      }
    },
    {
      "cell_type": "code",
      "execution_count": null,
      "outputs": [
        {
          "data": {
            "text/plain": "tensor(0.9996, grad_fn=<RsubBackward1>)"
          },
          "execution_count": 115,
          "metadata": {},
          "output_type": "execute_result"
        }
      ],
      "source": [
        "Forall(x_fac,Implies(And(conc(x_fac),mach(x_fac)),fact(x_fac)))"
      ],
      "metadata": {
        "pycharm": {
          "name": "#%%\n"
        },
        "id": "cgxm1KAsNrSI",
        "outputId": "daf806a9-7f4d-41aa-ca6e-c3ca14285214"
      }
    },
    {
      "cell_type": "code",
      "execution_count": null,
      "outputs": [],
      "source": [
        "Forall(x_fac,mach(x_fac))"
      ],
      "metadata": {
        "pycharm": {
          "name": "#%%\n"
        },
        "id": "TW6lr7UPNrSI"
      }
    },
    {
      "cell_type": "code",
      "execution_count": null,
      "outputs": [],
      "source": [
        "Forall(x_fac,mach(x_fac))\n",
        "\n"
      ],
      "metadata": {
        "pycharm": {
          "name": "#%%\n"
        },
        "id": "yjL6U_gYNrSJ"
      }
    },
    {
      "cell_type": "code",
      "execution_count": null,
      "outputs": [],
      "source": [
        "Forall = ltn.Wrapper_Quantifier(ltn.fuzzy_ops.Aggreg_pMeanError(p=1,stable=True),semantics=\"forall\")"
      ],
      "metadata": {
        "pycharm": {
          "name": "#%%\n"
        },
        "id": "BuUl3j_dNrSJ"
      }
    },
    {
      "cell_type": "code",
      "execution_count": null,
      "outputs": [],
      "source": [
        ""
      ],
      "metadata": {
        "pycharm": {
          "name": "#%%\n"
        },
        "id": "M7zDYcEqNrSK"
      }
    },
    {
      "cell_type": "code",
      "execution_count": null,
      "outputs": [],
      "source": [
        ""
      ],
      "metadata": {
        "pycharm": {
          "name": "#%%\n"
        },
        "id": "ISgzUAksNrSK"
      }
    },
    {
      "cell_type": "code",
      "execution_count": null,
      "outputs": [],
      "source": [
        ""
      ],
      "metadata": {
        "pycharm": {
          "name": "#%%\n"
        },
        "id": "Xl70ljVkNrSK"
      }
    },
    {
      "cell_type": "code",
      "execution_count": null,
      "outputs": [],
      "source": [
        "inputs_cart_t = processor(text=[\"A photo of boxes\", \"A photo of concrete floor\", \"A photo of a factory\",\"A photo of a machine\"],images=image_cart, return_tensors=\"pt\", padding=True)\n",
        "inputs_conc_t = processor(text=[\"A photo of boxes\", \"A photo of concrete floor\", \"A photo of a factory\",\"A photo of a machine\"],images=image_conc, return_tensors=\"pt\", padding=True)\n",
        "inputs_fact_t = processor(text=[\"A photo of boxes\", \"A photo of concrete floor\", \"A photo of a factory\",\"A photo of a machine\"],images=image_fact, return_tensors=\"pt\", padding=True)\n",
        "inputs_mach_t = processor(text=[\"A photo of boxes\", \"A photo of concrete floor\", \"A photo of a factory\",\"A photo of a machine\"],images=image_mach, return_tensors=\"pt\", padding=True)\n",
        "inputs_test_t = processor(text=[\"A photo of boxes\", \"A photo of concrete floor\", \"A photo of a factory\",\"A photo of a machine\",\"A photo of a dog\"],images=image_test, return_tensors=\"pt\", padding=True)"
      ],
      "metadata": {
        "pycharm": {
          "name": "#%%\n"
        },
        "id": "OD9JI8eLNrSK"
      }
    },
    {
      "cell_type": "code",
      "execution_count": null,
      "outputs": [],
      "source": [
        "outs = model(**inputs_test_t)"
      ],
      "metadata": {
        "pycharm": {
          "name": "#%%\n"
        },
        "id": "GjAlAJ7nNrSL"
      }
    },
    {
      "cell_type": "code",
      "execution_count": null,
      "outputs": [
        {
          "data": {
            "text/plain": "torch.Size([1, 4])"
          },
          "execution_count": 118,
          "metadata": {},
          "output_type": "execute_result"
        }
      ],
      "source": [
        "outs.logits_per_image.shape\n",
        "soft = outs.logits_per_image.softmax(dim=1)\n",
        "soft.shape"
      ],
      "metadata": {
        "pycharm": {
          "name": "#%%\n"
        },
        "id": "w5JmXneYNrSL",
        "outputId": "0d3afca0-a6c4-415a-8580-f39b40d8fb30"
      }
    },
    {
      "cell_type": "code",
      "execution_count": null,
      "outputs": [
        {
          "data": {
            "text/plain": "tensor([[21.8592, 22.2974, 27.8345, 24.8549, 25.5312]])"
          },
          "execution_count": 133,
          "metadata": {},
          "output_type": "execute_result"
        }
      ],
      "source": [
        "outs.logits_per_image"
      ],
      "metadata": {
        "pycharm": {
          "name": "#%%\n"
        },
        "id": "v5DUP5gJNrSL",
        "outputId": "5f0b66a7-429c-491b-ad2b-c438adc0342e"
      }
    },
    {
      "cell_type": "code",
      "execution_count": null,
      "outputs": [],
      "source": [
        "from torch import nn\n",
        "\n",
        "class LTNextract(nn.Module):\n",
        "    def __init__(self, index):\n",
        "        super(LTNextract,self).__init__()\n",
        "        self.index = index\n",
        "\n",
        "    def forward(self, inputs):\n",
        "        soft = inputs.softmax(dim=1)\n",
        "        output = soft[:,self.index]\n",
        "        return output"
      ],
      "metadata": {
        "pycharm": {
          "name": "#%%\n"
        },
        "id": "t0a18pHQNrSL"
      }
    },
    {
      "cell_type": "code",
      "execution_count": null,
      "outputs": [],
      "source": [
        "cart_t = ltn.Predicate(LTNextract(0))\n",
        "conc_t = ltn.Predicate(LTNextract(1))\n",
        "fact_t = ltn.Predicate(LTNextract(2))\n",
        "mach_t = ltn.Predicate(LTNextract(3))\n",
        "def axioms():\n",
        "    x_A = ltn.variable(\"x_A\",outs.logits_per_image)\n",
        "    # x_B = ltn.variable(\"x_B\",outs.logits_per_image)\n",
        "    axioms = [\n",
        "        Forall(x_A, cart_t(x_A)),\n",
        "        # Forall(x_B, Not(apps(x_B))),\n",
        "        # Forall(x_A, Not(crabs(x_A))),\n",
        "        Forall(x_A, conc_t(x_A)),\n",
        "        Forall(x_A, fact_t(x_A)),\n",
        "        Forall(x_A, mach_t(x_A))\n",
        "    ]\n",
        "    axioms = torch.stack(axioms)\n",
        "    sat_level = formula_aggregator(axioms, axis=0)\n",
        "    return sat_level, axioms"
      ],
      "metadata": {
        "pycharm": {
          "name": "#%%\n"
        },
        "id": "SptIrr7NNrSL"
      }
    },
    {
      "cell_type": "code",
      "execution_count": null,
      "outputs": [
        {
          "data": {
            "text/plain": "(tensor(0.1490), tensor([0.0024, 0.0037, 0.9457, 0.0481]))"
          },
          "execution_count": 124,
          "metadata": {},
          "output_type": "execute_result"
        }
      ],
      "source": [
        "# PYDEVD_USE_CYTHON = \"YES\"\n",
        "axioms()"
      ],
      "metadata": {
        "pycharm": {
          "name": "#%%\n"
        },
        "id": "NV83kx9ZNrSM",
        "outputId": "30b00f6a-5757-46f0-fa2e-269ca3dbd7b6"
      }
    },
    {
      "cell_type": "code",
      "execution_count": null,
      "outputs": [
        {
          "data": {
            "text/plain": "LTNextract()"
          },
          "execution_count": 122,
          "metadata": {},
          "output_type": "execute_result"
        }
      ],
      "source": [
        "outs.logits_per_text[0].shape\n",
        "LTNextract(outs.logits_per_text)"
      ],
      "metadata": {
        "pycharm": {
          "name": "#%%\n"
        },
        "id": "HJPH7AFqNrSM",
        "outputId": "1ca7071f-c011-4bb8-cf17-578a19fa503a"
      }
    },
    {
      "cell_type": "code",
      "execution_count": null,
      "outputs": [],
      "source": [
        "x_A = ltn.variable(\"x_A\",outs.logits_per_text)\n",
        "x_A.softmax(dim=1)[0]"
      ],
      "metadata": {
        "pycharm": {
          "name": "#%%\n"
        },
        "id": "s8ZcbHhONrSN"
      }
    },
    {
      "cell_type": "code",
      "execution_count": null,
      "outputs": [],
      "source": [
        "x_A[0]"
      ],
      "metadata": {
        "pycharm": {
          "name": "#%%\n"
        },
        "id": "26zgne9fNrSN"
      }
    },
    {
      "cell_type": "code",
      "execution_count": null,
      "outputs": [],
      "source": [
        "Forall(x_A, x_A.softmax(dim=1)[0])\n"
      ],
      "metadata": {
        "pycharm": {
          "name": "#%%\n"
        },
        "id": "jJ0tMVqxNrSN"
      }
    },
    {
      "cell_type": "code",
      "execution_count": null,
      "outputs": [],
      "source": [
        "test = LTNextract(1)\n",
        "test(outs.logits_per_text)"
      ],
      "metadata": {
        "pycharm": {
          "name": "#%%\n"
        },
        "id": "rVYcFTaTNrSO"
      }
    },
    {
      "cell_type": "code",
      "execution_count": null,
      "outputs": [],
      "source": [
        "outs.logits_per_image.softmax(dim=1)[0]"
      ],
      "metadata": {
        "pycharm": {
          "name": "#%%\n"
        },
        "id": "1XWlRyjoNrSX"
      }
    },
    {
      "cell_type": "code",
      "execution_count": null,
      "outputs": [],
      "source": [
        "# DERIVE ANTON YMS/DISTINCT FROM CONCEPTNET\n",
        "inputs_test_t_cart = processor(text=[\"A photo of boxes\", \"A photo of cylinders\", \"A photo of a bin\",\"A photo of papers\"],images=image_test, return_tensors=\"pt\", padding=True)\n",
        "inputs_test_t_conc = processor(text=[\"A photo of concrete floor\", \"A photo of wooden floor\", \"A photo of tiled floor\",\"A photo of linoleum floor\"],images=image_test, return_tensors=\"pt\", padding=True)\n",
        "inputs_test_t_fact = processor(text=[\"A photo of a factory\",\"A photo of an artist\", \"A photo of a company\", \"A photo of a farm\"],images=image_test, return_tensors=\"pt\", padding=True)\n",
        "inputs_test_t_mach = processor(text=[\"A photo of a machine\", \"A photo of a human\", \"A photo of a people\",\"A photo of organic things\"],images=image_test, return_tensors=\"pt\", padding=True)"
      ],
      "metadata": {
        "pycharm": {
          "name": "#%%\n"
        },
        "id": "141eiF4bNrSX"
      }
    },
    {
      "cell_type": "code",
      "execution_count": null,
      "outputs": [],
      "source": [
        "outs_cart = model(**inputs_test_t_cart)\n",
        "outs_conc = model(**inputs_test_t_conc)\n",
        "outs_fact = model(**inputs_test_t_fact)\n",
        "outs_mach = model(**inputs_test_t_mach)\n"
      ],
      "metadata": {
        "pycharm": {
          "name": "#%%\n"
        },
        "id": "A8aNwiTDNrSY"
      }
    },
    {
      "cell_type": "code",
      "execution_count": null,
      "outputs": [
        {
          "data": {
            "text/plain": "torch.Size([1, 4])"
          },
          "execution_count": 144,
          "metadata": {},
          "output_type": "execute_result"
        }
      ],
      "source": [
        ""
      ],
      "metadata": {
        "pycharm": {
          "name": "#%%\n"
        },
        "id": "dtdD3yNhNrSY",
        "outputId": "45f6faf1-deeb-4972-ce36-ccecb7537f2d"
      }
    },
    {
      "cell_type": "code",
      "execution_count": null,
      "outputs": [
        {
          "data": {
            "text/plain": "tensor([[0.3778, 0.0308, 0.0341, 0.5573]])"
          },
          "execution_count": 154,
          "metadata": {},
          "output_type": "execute_result"
        }
      ],
      "source": [
        "outs_conc.logits_per_image.shape\n",
        "soft = outs_conc.logits_per_image.softmax(dim=1)\n",
        "soft"
      ],
      "metadata": {
        "pycharm": {
          "name": "#%%\n"
        },
        "id": "MXOV7anVNrSY",
        "outputId": "0ffc3f01-4054-45df-b91e-289351372971"
      }
    },
    {
      "cell_type": "code",
      "execution_count": null,
      "outputs": [
        {
          "data": {
            "text/plain": "tensor([[22.2974, 19.7899, 19.8936, 22.6863]])"
          },
          "execution_count": 153,
          "metadata": {},
          "output_type": "execute_result"
        }
      ],
      "source": [
        "outs_conc.logits_per_image"
      ],
      "metadata": {
        "pycharm": {
          "name": "#%%\n"
        },
        "id": "S1KoBjK8NrSZ",
        "outputId": "072ee884-27b2-49b1-82fd-4711a860f6ff"
      }
    },
    {
      "cell_type": "code",
      "execution_count": null,
      "outputs": [],
      "source": [
        "from torch import nn\n",
        "\n",
        "class LTNextract(nn.Module):\n",
        "    def __init__(self, index):\n",
        "        super(LTNextract,self).__init__()\n",
        "        self.index = index\n",
        "\n",
        "    def forward(self, inputs):\n",
        "        soft = inputs.softmax(dim=1)\n",
        "        output = soft[:,self.index]\n",
        "        return output"
      ],
      "metadata": {
        "pycharm": {
          "name": "#%%\n"
        },
        "id": "69Qychb_NrSZ"
      }
    },
    {
      "cell_type": "code",
      "execution_count": null,
      "outputs": [],
      "source": [
        "concept = ltn.Predicate(LTNextract(0))\n",
        "c_adv1 = ltn.Predicate(LTNextract(1))\n",
        "c_adv2 = ltn.Predicate(LTNextract(2))\n",
        "c_adv3 = ltn.Predicate(LTNextract(3))\n",
        "\n",
        "def axioms():\n",
        "    x_A = ltn.variable(\"x_A\",outs_conc.logits_per_image)\n",
        "    # x_B = ltn.variable(\"x_B\",outs.logits_per_image)\n",
        "    axioms = [\n",
        "        Forall(x_A, concept(x_A)),\n",
        "        # Forall(x_B, Not(apps(x_B))),\n",
        "        # Forall(x_A, Not(crabs(x_A))),\n",
        "        Forall(x_A, Not(c_adv1(x_A))),\n",
        "        Forall(x_A, Not(c_adv2(x_A))),\n",
        "        Forall(x_A, Not(c_adv3(x_A)))\n",
        "    ]\n",
        "    axioms = torch.stack(axioms)\n",
        "    sat_level = formula_aggregator(axioms, axis=0)\n",
        "    return sat_level, axioms"
      ],
      "metadata": {
        "pycharm": {
          "name": "#%%\n"
        },
        "id": "glce_m_fNrSa"
      }
    },
    {
      "cell_type": "code",
      "execution_count": null,
      "outputs": [
        {
          "data": {
            "text/plain": "(tensor(0.5816), tensor([0.3777, 0.9691, 0.9658, 0.4427]))"
          },
          "execution_count": 164,
          "metadata": {},
          "output_type": "execute_result"
        }
      ],
      "source": [
        "# PYDEVD_USE_CYTHON = \"YES\"\n",
        "axioms()"
      ],
      "metadata": {
        "pycharm": {
          "name": "#%%\n"
        },
        "id": "FOWNdlOaNrSa",
        "outputId": "78628668-5921-4bca-bff5-969c66daf78a"
      }
    },
    {
      "cell_type": "code",
      "execution_count": null,
      "outputs": [
        {
          "data": {
            "text/plain": "(tensor(0.6336), tensor([0.4013, 0.7105, 0.9985, 0.6921]))"
          },
          "execution_count": 165,
          "metadata": {},
          "output_type": "execute_result"
        }
      ],
      "source": [
        "def axioms():\n",
        "    x_A = ltn.variable(\"x_A\",outs_cart.logits_per_image)\n",
        "    # x_B = ltn.variable(\"x_B\",outs.logits_per_image)\n",
        "    axioms = [\n",
        "        Forall(x_A, concept(x_A)),\n",
        "        # Forall(x_B, Not(apps(x_B))),\n",
        "        # Forall(x_A, Not(crabs(x_A))),\n",
        "        Forall(x_A, Not(c_adv1(x_A))),\n",
        "        Forall(x_A, Not(c_adv2(x_A))),\n",
        "        Forall(x_A, Not(c_adv3(x_A)))\n",
        "    ]\n",
        "    axioms = torch.stack(axioms)\n",
        "    sat_level = formula_aggregator(axioms, axis=0)\n",
        "    return sat_level, axioms\n",
        "axioms()"
      ],
      "metadata": {
        "pycharm": {
          "name": "#%%\n"
        },
        "id": "sikzSs8bNrSb",
        "outputId": "4c53dff6-42ea-431c-d3a3-6839c86068ff"
      }
    },
    {
      "cell_type": "code",
      "execution_count": null,
      "outputs": [
        {
          "data": {
            "text/plain": "(tensor(0.9694), tensor([0.9567, 0.9998, 0.9568, 0.9999]))"
          },
          "execution_count": 166,
          "metadata": {},
          "output_type": "execute_result"
        }
      ],
      "source": [
        "def axioms():\n",
        "    x_A = ltn.variable(\"x_A\",outs_fact.logits_per_image)\n",
        "    # x_B = ltn.variable(\"x_B\",outs.logits_per_image)\n",
        "    axioms = [\n",
        "        Forall(x_A, concept(x_A)),\n",
        "        # Forall(x_B, Not(apps(x_B))),\n",
        "        # Forall(x_A, Not(crabs(x_A))),\n",
        "        Forall(x_A, Not(c_adv1(x_A))),\n",
        "        Forall(x_A, Not(c_adv2(x_A))),\n",
        "        Forall(x_A, Not(c_adv3(x_A)))\n",
        "    ]\n",
        "    axioms = torch.stack(axioms)\n",
        "    sat_level = formula_aggregator(axioms, axis=0)\n",
        "    return sat_level, axioms\n",
        "axioms()\n"
      ],
      "metadata": {
        "pycharm": {
          "name": "#%%\n"
        },
        "id": "hu9PXM4mNrSb",
        "outputId": "b58b9aa5-f9a4-49f3-a23f-f93d40622dbd"
      }
    },
    {
      "cell_type": "code",
      "execution_count": null,
      "outputs": [
        {
          "data": {
            "text/plain": "(tensor(0.9938), tensor([0.9895, 0.9962, 0.9954, 0.9978]))"
          },
          "execution_count": 167,
          "metadata": {},
          "output_type": "execute_result"
        }
      ],
      "source": [
        "def axioms():\n",
        "    x_A = ltn.variable(\"x_A\",outs_mach.logits_per_image)\n",
        "    # x_B = ltn.variable(\"x_B\",outs.logits_per_image)\n",
        "    axioms = [\n",
        "        Forall(x_A, concept(x_A)),\n",
        "        # Forall(x_B, Not(apps(x_B))),\n",
        "        # Forall(x_A, Not(crabs(x_A))),\n",
        "        Forall(x_A, Not(c_adv1(x_A))),\n",
        "        Forall(x_A, Not(c_adv2(x_A))),\n",
        "        Forall(x_A, Not(c_adv3(x_A)))\n",
        "    ]\n",
        "    axioms = torch.stack(axioms)\n",
        "    sat_level = formula_aggregator(axioms, axis=0)\n",
        "    return sat_level, axioms\n",
        "axioms()"
      ],
      "metadata": {
        "pycharm": {
          "name": "#%%\n"
        },
        "id": "GH6GHzpFNrSb",
        "outputId": "d44fa779-34ee-4aea-8ccc-97be9a5df948"
      }
    },
    {
      "cell_type": "code",
      "execution_count": null,
      "outputs": [
        {
          "data": {
            "text/plain": "(tensor(0.8739), tensor([0.7907, 0.8832, 0.9837, 0.9237]))"
          },
          "execution_count": 182,
          "metadata": {},
          "output_type": "execute_result"
        }
      ],
      "source": [
        "inputs_test_t_cart_alt = processor(text=[\"A photo containing boxes\", \"A photo containing cylinders\", \"A photo containing bin\",\"A photo containing cans\"],images=image_test, return_tensors=\"pt\", padding=True)\n",
        "outs_cart_alt = model(**inputs_test_t_cart_alt)\n",
        "def axioms():\n",
        "    x_A = ltn.variable(\"x_A\",outs_cart_alt.logits_per_image)\n",
        "    # x_B = ltn.variable(\"x_B\",outs.logits_per_image)\n",
        "    axioms = [\n",
        "        Forall(x_A, concept(x_A)),\n",
        "        # Forall(x_B, Not(apps(x_B))),\n",
        "        # Forall(x_A, Not(crabs(x_A))),\n",
        "        Forall(x_A, Not(c_adv1(x_A))),\n",
        "        Forall(x_A, Not(c_adv2(x_A))),\n",
        "        Forall(x_A, Not(c_adv3(x_A)))\n",
        "    ]\n",
        "    axioms = torch.stack(axioms)\n",
        "    sat_level = formula_aggregator(axioms, axis=0)\n",
        "    return sat_level, axioms\n",
        "axioms()"
      ],
      "metadata": {
        "pycharm": {
          "name": "#%%\n"
        },
        "id": "Vbj4-yXfNrSc",
        "outputId": "b2e5aede-cf22-4a5e-91ef-fbda7ec059de"
      }
    },
    {
      "cell_type": "code",
      "execution_count": null,
      "outputs": [
        {
          "data": {
            "text/plain": "tensor(0.9707)"
          },
          "execution_count": 185,
          "metadata": {},
          "output_type": "execute_result"
        }
      ],
      "source": [
        "inputs_test_f_cart = processor(text=[\"A photo containing boxes\", \"A photo containing cylinders\", \"A photo containing bin\",\"A photo containing cans\"],images=image_fact, return_tensors=\"pt\", padding=True)\n",
        "inputs_test_f_conc = processor(text=[\"A photo of concrete floor\", \"A photo of wooden floor\", \"A photo of tiled floor\",\"A photo of linoleum floor\"],images=image_fact, return_tensors=\"pt\", padding=True)\n",
        "inputs_test_f_fact = processor(text=[\"A photo of a factory\",\"A photo of an artist\", \"A photo of a company\", \"A photo of a farm\"],images=image_fact, return_tensors=\"pt\", padding=True)\n",
        "inputs_test_f_mach = processor(text=[\"A photo of a machine\", \"A photo of a human\", \"A photo of a people\",\"A photo of organic things\"],images=image_fact, return_tensors=\"pt\", padding=True)\n",
        "\n",
        "outs_cart = model(**inputs_test_f_cart)\n",
        "outs_conc = model(**inputs_test_f_conc)\n",
        "outs_fact = model(**inputs_test_f_fact)\n",
        "outs_mach = model(**inputs_test_f_mach)\n",
        "\n",
        "x_A = ltn.variable(\"x_A\",outs_cart.logits_per_image)\n",
        "x_B = ltn.variable(\"x_A\",outs_conc.logits_per_image)\n",
        "x_C = ltn.variable(\"x_A\",outs_fact.logits_per_image)\n",
        "x_D = ltn.variable(\"x_A\",outs_mach.logits_per_image)\n",
        "\n",
        "Forall((x_A,x_B,x_C,x_D),Implies(And(And(concept(x_A),concept(x_B)),concept(x_D)),concept(x_C)))"
      ],
      "metadata": {
        "pycharm": {
          "name": "#%%\n"
        },
        "id": "gFF624xFNrSc",
        "outputId": "0c63874f-15c8-4200-98b9-efa67ebcb338"
      }
    },
    {
      "cell_type": "code",
      "execution_count": null,
      "outputs": [
        {
          "data": {
            "text/plain": "tensor(0.3106)"
          },
          "execution_count": 186,
          "metadata": {},
          "output_type": "execute_result"
        }
      ],
      "source": [
        "Forall((x_A,x_B,x_C,x_D),Implies(concept(x_C),And(And(concept(x_A),concept(x_B)),concept(x_D))))"
      ],
      "metadata": {
        "pycharm": {
          "name": "#%%\n"
        },
        "id": "17oTfGoONrSd",
        "outputId": "f958055a-7812-4983-a2e1-73295a71ac2a"
      }
    },
    {
      "cell_type": "code",
      "execution_count": null,
      "outputs": [],
      "source": [
        "def axioms():\n",
        "    x_A = ltn.variable(\"x_A\",outs_cart_alt.logits_per_image)\n",
        "    x_B = ltn.variable(\"x_A\",outs_mach.logits_per_image)\n",
        "    x_C = ltn.variable(\"x_A\",outs_fact.logits_per_image)\n",
        "    x_D = ltn.variable(\"x_A\",outs_conc.logits_per_image)\n",
        "    # x_B = ltn.variable(\"x_B\",outs.logits_per_image)\n",
        "    axioms = [\n",
        "        Forall(x_A, concept(x_A)),\n",
        "        # Forall(x_B, Not(apps(x_B))),\n",
        "        # Forall(x_A, Not(crabs(x_A))),\n",
        "        Forall(x_A, Not(c_adv1(x_A))),\n",
        "        Forall(x_A, Not(c_adv2(x_A))),\n",
        "        Forall(x_A, Not(c_adv3(x_A)))\n",
        "    ]\n",
        "    axioms = torch.stack(axioms)\n",
        "    sat_level = formula_aggregator(axioms, axis=0)\n",
        "    return sat_level, axioms\n",
        "axioms()"
      ],
      "metadata": {
        "pycharm": {
          "name": "#%%\n"
        },
        "id": "m4kCpHOONrSd"
      }
    },
    {
      "cell_type": "code",
      "execution_count": null,
      "outputs": [],
      "source": [
        "x_A = ltn.variable(\"x_A\",outs_conc.logits_per_text)\n",
        "x_A.softmax(dim=0)"
      ],
      "metadata": {
        "pycharm": {
          "name": "#%%\n"
        },
        "id": "HR83A8CLNrSd"
      }
    },
    {
      "cell_type": "code",
      "execution_count": null,
      "outputs": [],
      "source": [
        "x_A[0]"
      ],
      "metadata": {
        "pycharm": {
          "name": "#%%\n"
        },
        "id": "ksGEvJWmNrSe"
      }
    },
    {
      "cell_type": "code",
      "execution_count": null,
      "outputs": [],
      "source": [
        "Forall(x_A, x_A.softmax(dim=1)[0])\n"
      ],
      "metadata": {
        "pycharm": {
          "name": "#%%\n"
        },
        "id": "HqQxJFtKNrSe"
      }
    },
    {
      "cell_type": "code",
      "execution_count": null,
      "outputs": [],
      "source": [
        "test = LTNextract(1)\n",
        "test(outs.logits_per_text)"
      ],
      "metadata": {
        "pycharm": {
          "name": "#%%\n"
        },
        "id": "yiT4MvxaNrSe"
      }
    },
    {
      "cell_type": "code",
      "execution_count": null,
      "outputs": [],
      "source": [
        "outs.logits_per_image.softmax(dim=1)[0]"
      ],
      "metadata": {
        "pycharm": {
          "name": "#%%\n"
        },
        "id": "c4NTKRNYNrSf"
      }
    },
    {
      "cell_type": "code",
      "execution_count": null,
      "outputs": [],
      "source": [
        ""
      ],
      "metadata": {
        "pycharm": {
          "name": "#%%\n"
        },
        "id": "nCvDeKTKNrSf"
      }
    }
  ],
  "metadata": {
    "kernelspec": {
      "display_name": "Python 3",
      "language": "python",
      "name": "python3"
    },
    "language_info": {
      "codemirror_mode": {
        "name": "ipython",
        "version": 2
      },
      "file_extension": ".py",
      "mimetype": "text/x-python",
      "name": "python",
      "nbconvert_exporter": "python",
      "pygments_lexer": "ipython2",
      "version": "2.7.6"
    },
    "colab": {
      "name": "CLIP_factory.ipynb",
      "provenance": []
    }
  },
  "nbformat": 4,
  "nbformat_minor": 0
}