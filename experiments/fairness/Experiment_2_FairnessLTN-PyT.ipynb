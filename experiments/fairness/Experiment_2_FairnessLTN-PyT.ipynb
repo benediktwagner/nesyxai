{
 "cells": [
  {
   "cell_type": "markdown",
   "metadata": {
    "colab_type": "text",
    "id": "EZIfSDxS3yTm"
   },
   "source": [
    "\n",
    "# Explaining Measures of Fairness with SHAP\n",
    "\n",
    "\n",
    "https://github.com/slundberg/shap/blob/master/notebooks/general/Explaining%20Quantitative%20Measures%20of%20Fairness.ipynb\n"
   ]
  },
  {
   "cell_type": "code",
   "execution_count": 1,
   "metadata": {
    "colab": {
     "base_uri": "https://localhost:8080/",
     "height": 34
    },
    "colab_type": "code",
    "executionInfo": {
     "elapsed": 410,
     "status": "ok",
     "timestamp": 1589448704798,
     "user": {
      "displayName": "Benedikt J. Wagner",
      "photoUrl": "",
      "userId": "17708217500073810160"
     },
     "user_tz": -60
    },
    "id": "AvrA1KH0agxw",
    "outputId": "deb10165-5e84-4840-f2af-dbd4d4ac85a7"
   },
   "outputs": [],
   "source": [
    "#%tensorflow_version 1.x\n",
    "import logging;logging.basicConfig(level=logging.INFO);\n",
    "# from tqdm import tqdm_notebook as tqdm"
   ]
  },
  {
   "cell_type": "code",
   "execution_count": null,
   "metadata": {
    "colab": {
     "base_uri": "https://localhost:8080/",
     "height": 340
    },
    "colab_type": "code",
    "executionInfo": {
     "elapsed": 10398,
     "status": "ok",
     "timestamp": 1589448716771,
     "user": {
      "displayName": "Benedikt J. Wagner",
      "photoUrl": "",
      "userId": "17708217500073810160"
     },
     "user_tz": -60
    },
    "id": "fmEe1OO43m7Z",
    "outputId": "5cc3507d-65d1-4804-b7f9-e70147958b1f"
   },
   "outputs": [],
   "source": []
  },
  {
   "cell_type": "code",
   "execution_count": 2,
   "metadata": {
    "colab": {},
    "colab_type": "code",
    "id": "AzIEY2wvKTlM"
   },
   "outputs": [],
   "source": [
    "# here we define a function that we can call to execute our simulation under\n",
    "# a variety of different alternative scenarios\n",
    "import scipy as sp\n",
    "import numpy as np\n",
    "import matplotlib.pyplot as pl\n",
    "import pandas as pd\n",
    "import shap\n",
    "%config InlineBackend.figure_format = 'retina'\n",
    "def run_credit_experiment(N, job_history_sex_impact=0, reported_income_sex_impact=0, income_sex_impact=0,\n",
    "                          late_payments_sex_impact=0, default_rate_sex_impact=0,\n",
    "                          include_brandx_purchase_score=False, include_sex=False):\n",
    "    np.random.seed(0)\n",
    "    sex = np.random.randint(0, 2, N) == 1 # randomly half men and half women\n",
    "    \n",
    "    # four hypothetical causal factors influence customer quality\n",
    "    # they are all scaled to the same units between 0-1\n",
    "    income_stability = np.random.rand(N)\n",
    "    income_amount = np.random.rand(N)\n",
    "    if income_sex_impact > 0:\n",
    "        income_amount -= income_sex_impact/90000 * sex * np.random.rand(N)\n",
    "        income_amount -= income_amount.min()\n",
    "        income_amount /= income_amount.max()\n",
    "    spending_restraint = np.random.rand(N)\n",
    "    consistency = np.random.rand(N)\n",
    "    \n",
    "    # intuitively this product says that high customer quality comes from simultaneously\n",
    "    # being strong in all factors \n",
    "    customer_quality = income_stability * income_amount * spending_restraint * consistency \n",
    "    \n",
    "    # job history is a random function of the underlying income stability feature\n",
    "    job_history = np.maximum(\n",
    "        10 * income_stability + 2 * np.random.rand(N) - job_history_sex_impact * sex * np.random.rand(N)\n",
    "    , 0)\n",
    "    \n",
    "    # reported income is a random function of the underlying income amount feature\n",
    "    reported_income =  np.maximum(\n",
    "        10000 + 90000*income_amount + np.random.randn(N) * 10000 - \\\n",
    "        reported_income_sex_impact * sex * np.random.rand(N)\n",
    "    , 0)\n",
    "    \n",
    "    # credit inquiries is a random function of the underlying spending restraint and income amount features\n",
    "    credit_inquiries = np.round(6 * np.maximum(-spending_restraint + income_amount, 0)) + \\\n",
    "                       np.round(np.random.rand(N) > 0.1)\n",
    "    \n",
    "    # credit inquiries is a random function of the underlying consistency and income stability features\n",
    "    late_payments = np.maximum(\n",
    "        np.round(3 * np.maximum((1-consistency) + 0.2 * (1-income_stability), 0)) + \\\n",
    "        np.round(np.random.rand(N) > 0.1) - np.round(late_payments_sex_impact * sex * np.random.rand(N))\n",
    "    , 0)\n",
    "    \n",
    "    # bundle everything into a data frame and define the labels based on the default rate and customer quality\n",
    "    X = pd.DataFrame({\n",
    "        \"Job history\": job_history,\n",
    "        \"Reported income\": reported_income,\n",
    "        \"Credit inquiries\": credit_inquiries,\n",
    "        \"Late payments\": late_payments\n",
    "    }, dtype=np.float32)\n",
    "    default_rate = 0.40 + sex * default_rate_sex_impact\n",
    "    y = customer_quality < np.percentile(customer_quality, default_rate * 100) \n",
    "    \n",
    "    cquality = customer_quality\n",
    "\n",
    "    if include_brandx_purchase_score:\n",
    "        brandx_purchase_score = sex + 0.8 * np.random.randn(N)\n",
    "        X[\"Brand X purchase score\"] = brandx_purchase_score\n",
    "    \n",
    "    if include_sex:\n",
    "        X[\"Sex\"] = sex + 0\n",
    "    \n",
    "    # build model\n",
    "    import xgboost\n",
    "    model = xgboost.XGBClassifier(max_depth=1, n_estimators=500,subsample=0.5,learning_rate=0.05)\n",
    "    model.fit(X, y)\n",
    "    # print(model.evals_result())\n",
    "\n",
    "    # build explanation\n",
    "    import shap\n",
    "    explainer = shap.TreeExplainer(model, shap.sample(X, 100))\n",
    "    shap_values = explainer.shap_values(X)\n",
    "    \n",
    "    return shap_values, sex, X, explainer.expected_value, y, cquality"
   ]
  },
  {
   "cell_type": "markdown",
   "metadata": {
    "colab_type": "text",
    "id": "Dh0p1ml93v_w"
   },
   "source": [
    "\n",
    "Scenario A: No reporting errors\n",
    "\n",
    "Our first experiment is a simple baseline check where we refrain from introducing any sex-specific reporting errors. While we could use any model output to measure demographic parity, we use the continuous log-odds score from a binary XGBoost classifier. As expected, this baseline experiment results in no significant demographic parity difference between the credit scores of men and women. We can see this by plotting the difference between the average credit score for women and men as a bar plot and noting that zero is close to the margin of error (note that negative values mean women have a lower average predicted risk than men, and positive values mean that women have a higher average predicted risk than men):\n"
   ]
  },
  {
   "cell_type": "code",
   "execution_count": 3,
   "metadata": {
    "colab": {
     "base_uri": "https://localhost:8080/",
     "height": 34
    },
    "colab_type": "code",
    "executionInfo": {
     "elapsed": 19669,
     "status": "ok",
     "timestamp": 1589448748595,
     "user": {
      "displayName": "Benedikt J. Wagner",
      "photoUrl": "",
      "userId": "17708217500073810160"
     },
     "user_tz": -60
    },
    "id": "V6kiGKWBKRqq",
    "outputId": "ac284d79-d9f2-4393-b2d3-6b53adfae2be"
   },
   "outputs": [
    {
     "name": "stderr",
     "output_type": "stream",
     "text": [
      " 98%|===================| 9785/10000 [00:17<00:00]        "
     ]
    }
   ],
   "source": [
    "N = 10000\n",
    "shap_values_A, sex_A, X_A, ev_A, y_A, cquality_A = run_credit_experiment(N)\n",
    "model_outputs_A = ev_A + shap_values_A.sum(1)\n",
    "glabel = \"Demographic parity difference\\nof model output for women vs. men\"\n",
    "xmin = -0.8\n",
    "xmax = 0.8\n",
    "# shap.group_difference_plot(shap_values_A.sum(1), sex_A, xmin=xmin, xmax=xmax, xlabel=glabel)"
   ]
  },
  {
   "cell_type": "code",
   "execution_count": 4,
   "metadata": {
    "colab": {
     "base_uri": "https://localhost:8080/",
     "height": 282
    },
    "colab_type": "code",
    "executionInfo": {
     "elapsed": 15639,
     "status": "ok",
     "timestamp": 1589448748954,
     "user": {
      "displayName": "Benedikt J. Wagner",
      "photoUrl": "",
      "userId": "17708217500073810160"
     },
     "user_tz": -60
    },
    "id": "W51yDG1q_7J_",
    "outputId": "891c9c26-1273-4772-c3f2-093486d7fc55"
   },
   "outputs": [
    {
     "data": {
      "text/plain": [
       "<BarContainer object of 1 artists>"
      ]
     },
     "execution_count": 4,
     "metadata": {},
     "output_type": "execute_result"
    },
    {
     "data": {
      "image/png": "[encoded data removed]",
      "text/plain": [
       "<Figure size 432x288 with 1 Axes>"
      ]
     },
     "metadata": {
      "image/png": {
       "height": 248,
       "width": 369
      },
      "needs_background": "light"
     },
     "output_type": "display_data"
    }
   ],
   "source": [
    "import matplotlib.pyplot as plt\n",
    "fig, ax = plt.subplots()\n",
    "ax.set_xlim(xmin, xmax)\n",
    "ax.get_yaxis().set_visible(False)\n",
    "ax.set_xlabel = glabel\n",
    "ax.barh(0,height=0.1, width=(shap_values_A.sum(1)[sex_A].mean()-shap_values_A.sum(1)[sex_A==False].mean()))"
   ]
  },
  {
   "cell_type": "code",
   "execution_count": 5,
   "metadata": {
    "colab": {
     "base_uri": "https://localhost:8080/",
     "height": 34
    },
    "colab_type": "code",
    "executionInfo": {
     "elapsed": 14907,
     "status": "ok",
     "timestamp": 1589448748954,
     "user": {
      "displayName": "Benedikt J. Wagner",
      "photoUrl": "",
      "userId": "17708217500073810160"
     },
     "user_tz": -60
    },
    "id": "AnvtIVdDTXjH",
    "outputId": "c3aae0cf-d09b-4a19-e922-ca8c71802953"
   },
   "outputs": [
    {
     "data": {
      "text/plain": [
       "0.1624641465381311"
      ]
     },
     "execution_count": 5,
     "metadata": {},
     "output_type": "execute_result"
    }
   ],
   "source": [
    "shap_values_A.sum(1)[sex_A].mean()"
   ]
  },
  {
   "cell_type": "code",
   "execution_count": 6,
   "metadata": {
    "colab": {
     "base_uri": "https://localhost:8080/",
     "height": 34
    },
    "colab_type": "code",
    "executionInfo": {
     "elapsed": 12550,
     "status": "ok",
     "timestamp": 1589448748955,
     "user": {
      "displayName": "Benedikt J. Wagner",
      "photoUrl": "",
      "userId": "17708217500073810160"
     },
     "user_tz": -60
    },
    "id": "L-cAYI5uAz8n",
    "outputId": "5b34bfd8-8e71-40e4-a752-49bf289975d7"
   },
   "outputs": [
    {
     "data": {
      "text/plain": [
       "0.24873828156229713"
      ]
     },
     "execution_count": 6,
     "metadata": {},
     "output_type": "execute_result"
    }
   ],
   "source": [
    "shap_values_A.sum(1)[sex_A==False].mean()"
   ]
  },
  {
   "cell_type": "code",
   "execution_count": 7,
   "metadata": {
    "colab": {
     "base_uri": "https://localhost:8080/",
     "height": 282
    },
    "colab_type": "code",
    "executionInfo": {
     "elapsed": 12135,
     "status": "ok",
     "timestamp": 1589448749145,
     "user": {
      "displayName": "Benedikt J. Wagner",
      "photoUrl": "",
      "userId": "17708217500073810160"
     },
     "user_tz": -60
    },
    "id": "G9bmB2r3DTAf",
    "outputId": "fff9024a-713a-4cfb-d2e6-5f66c9259d4a"
   },
   "outputs": [
    {
     "data": {
      "text/plain": [
       "<BarContainer object of 4 artists>"
      ]
     },
     "execution_count": 7,
     "metadata": {},
     "output_type": "execute_result"
    },
    {
     "data": {
      "image/png": "[encoded data removed]",
      "text/plain": [
       "<Figure size 432x288 with 1 Axes>"
      ]
     },
     "metadata": {
      "image/png": {
       "height": 248,
       "width": 369
      },
      "needs_background": "light"
     },
     "output_type": "display_data"
    }
   ],
   "source": [
    "fig, ax = plt.subplots()\n",
    "ax.set_xlim(xmin, xmax)\n",
    "ax.get_yaxis().set_visible(False)\n",
    "ax.set_xlabel = glabel\n",
    "wdt = [shap_values_A[:,0][sex_A].mean() - shap_values_A[:,0][sex_A==False].mean(),\n",
    "       shap_values_A[:,1][sex_A].mean() - shap_values_A[:,1][sex_A==False].mean(),\n",
    "       shap_values_A[:,2][sex_A].mean() - shap_values_A[:,2][sex_A==False].mean(),\n",
    "       shap_values_A[:,3][sex_A].mean() - shap_values_A[:,3][sex_A==False].mean()]\n",
    "ax.barh(y=[1,2,3,4], width=wdt)"
   ]
  },
  {
   "cell_type": "code",
   "execution_count": 8,
   "metadata": {
    "colab": {
     "base_uri": "https://localhost:8080/",
     "height": 34
    },
    "colab_type": "code",
    "executionInfo": {
     "elapsed": 20002,
     "status": "ok",
     "timestamp": 1589448767308,
     "user": {
      "displayName": "Benedikt J. Wagner",
      "photoUrl": "",
      "userId": "17708217500073810160"
     },
     "user_tz": -60
    },
    "id": "CZID7ms5FM2s",
    "outputId": "7dc4205a-3a75-4a18-adca-8a9b13d1f229"
   },
   "outputs": [
    {
     "name": "stderr",
     "output_type": "stream",
     "text": [
      " 95%|=================== | 9493/10000 [00:16<00:00]       "
     ]
    }
   ],
   "source": [
    "shap_values_B, sex_B, X_B, ev_B, y, cquality = run_credit_experiment(N, reported_income_sex_impact=30000)"
   ]
  },
  {
   "cell_type": "code",
   "execution_count": 9,
   "metadata": {
    "colab": {
     "base_uri": "https://localhost:8080/",
     "height": 282
    },
    "colab_type": "code",
    "executionInfo": {
     "elapsed": 19687,
     "status": "ok",
     "timestamp": 1589448767574,
     "user": {
      "displayName": "Benedikt J. Wagner",
      "photoUrl": "",
      "userId": "17708217500073810160"
     },
     "user_tz": -60
    },
    "id": "tTVP-nVHDVsb",
    "outputId": "cce84f18-5008-4161-e678-53b19cbf5a02"
   },
   "outputs": [
    {
     "data": {
      "text/plain": [
       "<BarContainer object of 1 artists>"
      ]
     },
     "execution_count": 9,
     "metadata": {},
     "output_type": "execute_result"
    },
    {
     "data": {
      "image/png": "[encoded data removed]",
      "text/plain": [
       "<Figure size 432x288 with 1 Axes>"
      ]
     },
     "metadata": {
      "image/png": {
       "height": 248,
       "width": 369
      },
      "needs_background": "light"
     },
     "output_type": "display_data"
    }
   ],
   "source": [
    "fig, ax = plt.subplots()\n",
    "ax.set_xlim(xmin, xmax)\n",
    "ax.get_yaxis().set_visible(False)\n",
    "ax.set_xlabel = glabel\n",
    "ax.barh(0,height=0.1, width=(shap_values_B.sum(1)[sex_B].mean()-shap_values_B.sum(1)[sex_B==False].mean()))"
   ]
  },
  {
   "cell_type": "code",
   "execution_count": 10,
   "metadata": {
    "colab": {
     "base_uri": "https://localhost:8080/",
     "height": 282
    },
    "colab_type": "code",
    "executionInfo": {
     "elapsed": 19475,
     "status": "ok",
     "timestamp": 1589448767775,
     "user": {
      "displayName": "Benedikt J. Wagner",
      "photoUrl": "",
      "userId": "17708217500073810160"
     },
     "user_tz": -60
    },
    "id": "9zzgB2lxFVVo",
    "outputId": "3156297c-449a-4b58-bea7-9e4dbc3d3d3d"
   },
   "outputs": [
    {
     "data": {
      "text/plain": [
       "<BarContainer object of 4 artists>"
      ]
     },
     "execution_count": 10,
     "metadata": {},
     "output_type": "execute_result"
    },
    {
     "data": {
      "image/png": "[encoded data removed]",
      "text/plain": [
       "<Figure size 432x288 with 1 Axes>"
      ]
     },
     "metadata": {
      "image/png": {
       "height": 248,
       "width": 369
      },
      "needs_background": "light"
     },
     "output_type": "display_data"
    }
   ],
   "source": [
    "fig, ax = plt.subplots()\n",
    "ax.set_xlim(xmin, xmax)\n",
    "ax.get_yaxis().set_visible(False)\n",
    "ax.set_xlabel = glabel\n",
    "wdt = [shap_values_B[:,0][sex_B].mean() - shap_values_B[:,0][sex_B==False].mean(),\n",
    "       shap_values_B[:,1][sex_B].mean() - shap_values_B[:,1][sex_B==False].mean(),\n",
    "       shap_values_B[:,2][sex_B].mean() - shap_values_B[:,2][sex_B==False].mean(),\n",
    "       shap_values_B[:,3][sex_B].mean() - shap_values_B[:,3][sex_B==False].mean()]\n",
    "ax.barh(y=[1,2,3,4], width=wdt)"
   ]
  },
  {
   "cell_type": "code",
   "execution_count": 11,
   "metadata": {
    "colab": {
     "base_uri": "https://localhost:8080/",
     "height": 297
    },
    "colab_type": "code",
    "executionInfo": {
     "elapsed": 347,
     "status": "ok",
     "timestamp": 1589453644821,
     "user": {
      "displayName": "Benedikt J. Wagner",
      "photoUrl": "",
      "userId": "17708217500073810160"
     },
     "user_tz": -60
    },
    "id": "UScYJzSF0SnV",
    "outputId": "1ff06934-8409-4c71-9aea-d0e69c68f5a3"
   },
   "outputs": [
    {
     "data": {
      "text/html": [
       "<div>\n",
       "<style scoped>\n",
       "    .dataframe tbody tr th:only-of-type {\n",
       "        vertical-align: middle;\n",
       "    }\n",
       "\n",
       "    .dataframe tbody tr th {\n",
       "        vertical-align: top;\n",
       "    }\n",
       "\n",
       "    .dataframe thead th {\n",
       "        text-align: right;\n",
       "    }\n",
       "</style>\n",
       "<table border=\"1\" class=\"dataframe\">\n",
       "  <thead>\n",
       "    <tr style=\"text-align: right;\">\n",
       "      <th></th>\n",
       "      <th>Job history</th>\n",
       "      <th>Reported income</th>\n",
       "      <th>Credit inquiries</th>\n",
       "      <th>Late payments</th>\n",
       "    </tr>\n",
       "  </thead>\n",
       "  <tbody>\n",
       "    <tr>\n",
       "      <th>count</th>\n",
       "      <td>5085.000000</td>\n",
       "      <td>5085.000000</td>\n",
       "      <td>5085.000000</td>\n",
       "      <td>5085.000000</td>\n",
       "    </tr>\n",
       "    <tr>\n",
       "      <th>mean</th>\n",
       "      <td>5.982969</td>\n",
       "      <td>55364.871094</td>\n",
       "      <td>1.919961</td>\n",
       "      <td>2.704031</td>\n",
       "    </tr>\n",
       "    <tr>\n",
       "      <th>std</th>\n",
       "      <td>2.939514</td>\n",
       "      <td>27905.386719</td>\n",
       "      <td>1.467885</td>\n",
       "      <td>0.955909</td>\n",
       "    </tr>\n",
       "    <tr>\n",
       "      <th>min</th>\n",
       "      <td>0.130696</td>\n",
       "      <td>0.000000</td>\n",
       "      <td>0.000000</td>\n",
       "      <td>0.000000</td>\n",
       "    </tr>\n",
       "    <tr>\n",
       "      <th>25%</th>\n",
       "      <td>3.513459</td>\n",
       "      <td>32867.007812</td>\n",
       "      <td>1.000000</td>\n",
       "      <td>2.000000</td>\n",
       "    </tr>\n",
       "    <tr>\n",
       "      <th>50%</th>\n",
       "      <td>6.001924</td>\n",
       "      <td>55276.941406</td>\n",
       "      <td>1.000000</td>\n",
       "      <td>3.000000</td>\n",
       "    </tr>\n",
       "    <tr>\n",
       "      <th>75%</th>\n",
       "      <td>8.491962</td>\n",
       "      <td>78249.960938</td>\n",
       "      <td>3.000000</td>\n",
       "      <td>3.000000</td>\n",
       "    </tr>\n",
       "    <tr>\n",
       "      <th>max</th>\n",
       "      <td>11.892733</td>\n",
       "      <td>122166.125000</td>\n",
       "      <td>7.000000</td>\n",
       "      <td>5.000000</td>\n",
       "    </tr>\n",
       "  </tbody>\n",
       "</table>\n",
       "</div>"
      ],
      "text/plain": [
       "       Job history  Reported income  Credit inquiries  Late payments\n",
       "count  5085.000000      5085.000000       5085.000000    5085.000000\n",
       "mean      5.982969     55364.871094          1.919961       2.704031\n",
       "std       2.939514     27905.386719          1.467885       0.955909\n",
       "min       0.130696         0.000000          0.000000       0.000000\n",
       "25%       3.513459     32867.007812          1.000000       2.000000\n",
       "50%       6.001924     55276.941406          1.000000       3.000000\n",
       "75%       8.491962     78249.960938          3.000000       3.000000\n",
       "max      11.892733    122166.125000          7.000000       5.000000"
      ]
     },
     "execution_count": 11,
     "metadata": {},
     "output_type": "execute_result"
    }
   ],
   "source": [
    "X_A[sex_A].describe()"
   ]
  },
  {
   "cell_type": "code",
   "execution_count": 12,
   "metadata": {
    "colab": {
     "base_uri": "https://localhost:8080/",
     "height": 297
    },
    "colab_type": "code",
    "executionInfo": {
     "elapsed": 355,
     "status": "ok",
     "timestamp": 1589453650764,
     "user": {
      "displayName": "Benedikt J. Wagner",
      "photoUrl": "",
      "userId": "17708217500073810160"
     },
     "user_tz": -60
    },
    "id": "TzDE5ZoG0Svp",
    "outputId": "f22e4e09-9b35-40a0-8498-940502c48a5b"
   },
   "outputs": [
    {
     "data": {
      "text/html": [
       "<div>\n",
       "<style scoped>\n",
       "    .dataframe tbody tr th:only-of-type {\n",
       "        vertical-align: middle;\n",
       "    }\n",
       "\n",
       "    .dataframe tbody tr th {\n",
       "        vertical-align: top;\n",
       "    }\n",
       "\n",
       "    .dataframe thead th {\n",
       "        text-align: right;\n",
       "    }\n",
       "</style>\n",
       "<table border=\"1\" class=\"dataframe\">\n",
       "  <thead>\n",
       "    <tr style=\"text-align: right;\">\n",
       "      <th></th>\n",
       "      <th>Job history</th>\n",
       "      <th>Reported income</th>\n",
       "      <th>Credit inquiries</th>\n",
       "      <th>Late payments</th>\n",
       "    </tr>\n",
       "  </thead>\n",
       "  <tbody>\n",
       "    <tr>\n",
       "      <th>count</th>\n",
       "      <td>5085.000000</td>\n",
       "      <td>5085.000000</td>\n",
       "      <td>5085.000000</td>\n",
       "      <td>5085.000000</td>\n",
       "    </tr>\n",
       "    <tr>\n",
       "      <th>mean</th>\n",
       "      <td>5.982969</td>\n",
       "      <td>41147.488281</td>\n",
       "      <td>1.919961</td>\n",
       "      <td>2.704031</td>\n",
       "    </tr>\n",
       "    <tr>\n",
       "      <th>std</th>\n",
       "      <td>2.939514</td>\n",
       "      <td>27658.023438</td>\n",
       "      <td>1.467885</td>\n",
       "      <td>0.955909</td>\n",
       "    </tr>\n",
       "    <tr>\n",
       "      <th>min</th>\n",
       "      <td>0.130696</td>\n",
       "      <td>0.000000</td>\n",
       "      <td>0.000000</td>\n",
       "      <td>0.000000</td>\n",
       "    </tr>\n",
       "    <tr>\n",
       "      <th>25%</th>\n",
       "      <td>3.513459</td>\n",
       "      <td>17575.347656</td>\n",
       "      <td>1.000000</td>\n",
       "      <td>2.000000</td>\n",
       "    </tr>\n",
       "    <tr>\n",
       "      <th>50%</th>\n",
       "      <td>6.001924</td>\n",
       "      <td>40528.519531</td>\n",
       "      <td>1.000000</td>\n",
       "      <td>3.000000</td>\n",
       "    </tr>\n",
       "    <tr>\n",
       "      <th>75%</th>\n",
       "      <td>8.491962</td>\n",
       "      <td>62866.207031</td>\n",
       "      <td>3.000000</td>\n",
       "      <td>3.000000</td>\n",
       "    </tr>\n",
       "    <tr>\n",
       "      <th>max</th>\n",
       "      <td>11.892733</td>\n",
       "      <td>113080.007812</td>\n",
       "      <td>7.000000</td>\n",
       "      <td>5.000000</td>\n",
       "    </tr>\n",
       "  </tbody>\n",
       "</table>\n",
       "</div>"
      ],
      "text/plain": [
       "       Job history  Reported income  Credit inquiries  Late payments\n",
       "count  5085.000000      5085.000000       5085.000000    5085.000000\n",
       "mean      5.982969     41147.488281          1.919961       2.704031\n",
       "std       2.939514     27658.023438          1.467885       0.955909\n",
       "min       0.130696         0.000000          0.000000       0.000000\n",
       "25%       3.513459     17575.347656          1.000000       2.000000\n",
       "50%       6.001924     40528.519531          1.000000       3.000000\n",
       "75%       8.491962     62866.207031          3.000000       3.000000\n",
       "max      11.892733    113080.007812          7.000000       5.000000"
      ]
     },
     "execution_count": 12,
     "metadata": {},
     "output_type": "execute_result"
    }
   ],
   "source": [
    "X_B[sex_B].describe()"
   ]
  },
  {
   "cell_type": "code",
   "execution_count": null,
   "metadata": {
    "colab": {},
    "colab_type": "code",
    "id": "YulqQF_OGOp4"
   },
   "outputs": [],
   "source": [
    "X_A[\"customer quality\"] = cquality_A"
   ]
  },
  {
   "cell_type": "code",
   "execution_count": null,
   "metadata": {
    "colab": {
     "base_uri": "https://localhost:8080/",
     "height": 34
    },
    "colab_type": "code",
    "executionInfo": {
     "elapsed": 14429,
     "status": "ok",
     "timestamp": 1589448767776,
     "user": {
      "displayName": "Benedikt J. Wagner",
      "photoUrl": "",
      "userId": "17708217500073810160"
     },
     "user_tz": -60
    },
    "id": "PmQPHTl_p3lE",
    "outputId": "a847dbb3-d271-4b91-d047-6af47b070fda"
   },
   "outputs": [
    {
     "name": "stderr",
     "output_type": "stream",
     "text": [
      "INFO:numexpr.utils:NumExpr defaulting to 2 threads.\n"
     ]
    }
   ],
   "source": [
    "X_A_norm = (X_A-X_A.mean())/X_A.std()"
   ]
  },
  {
   "cell_type": "code",
   "execution_count": null,
   "metadata": {
    "colab": {
     "base_uri": "https://localhost:8080/",
     "height": 419
    },
    "colab_type": "code",
    "executionInfo": {
     "elapsed": 1642,
     "status": "ok",
     "timestamp": 1589448767777,
     "user": {
      "displayName": "Benedikt J. Wagner",
      "photoUrl": "",
      "userId": "17708217500073810160"
     },
     "user_tz": -60
    },
    "id": "j-YY_zsPqCjn",
    "outputId": "bcc3fa33-ddb4-48c4-a318-61787632aa20"
   },
   "outputs": [
    {
     "data": {
      "text/html": [
       "<div>\n",
       "<style scoped>\n",
       "    .dataframe tbody tr th:only-of-type {\n",
       "        vertical-align: middle;\n",
       "    }\n",
       "\n",
       "    .dataframe tbody tr th {\n",
       "        vertical-align: top;\n",
       "    }\n",
       "\n",
       "    .dataframe thead th {\n",
       "        text-align: right;\n",
       "    }\n",
       "</style>\n",
       "<table border=\"1\" class=\"dataframe\">\n",
       "  <thead>\n",
       "    <tr style=\"text-align: right;\">\n",
       "      <th></th>\n",
       "      <th>Job history</th>\n",
       "      <th>Reported income</th>\n",
       "      <th>Credit inquiries</th>\n",
       "      <th>Late payments</th>\n",
       "      <th>customer quality</th>\n",
       "    </tr>\n",
       "  </thead>\n",
       "  <tbody>\n",
       "    <tr>\n",
       "      <th>0</th>\n",
       "      <td>-0.427087</td>\n",
       "      <td>-0.582467</td>\n",
       "      <td>-0.614798</td>\n",
       "      <td>-0.728137</td>\n",
       "      <td>0.409819</td>\n",
       "    </tr>\n",
       "    <tr>\n",
       "      <th>1</th>\n",
       "      <td>-1.003804</td>\n",
       "      <td>0.304794</td>\n",
       "      <td>0.061696</td>\n",
       "      <td>1.333114</td>\n",
       "      <td>-0.326963</td>\n",
       "    </tr>\n",
       "    <tr>\n",
       "      <th>2</th>\n",
       "      <td>-1.205119</td>\n",
       "      <td>-0.485338</td>\n",
       "      <td>-0.614798</td>\n",
       "      <td>1.333114</td>\n",
       "      <td>-0.666909</td>\n",
       "    </tr>\n",
       "    <tr>\n",
       "      <th>3</th>\n",
       "      <td>-0.382481</td>\n",
       "      <td>0.217698</td>\n",
       "      <td>-0.614798</td>\n",
       "      <td>1.333114</td>\n",
       "      <td>-0.474036</td>\n",
       "    </tr>\n",
       "    <tr>\n",
       "      <th>4</th>\n",
       "      <td>-1.192619</td>\n",
       "      <td>1.840064</td>\n",
       "      <td>-0.614798</td>\n",
       "      <td>0.302489</td>\n",
       "      <td>0.841483</td>\n",
       "    </tr>\n",
       "    <tr>\n",
       "      <th>...</th>\n",
       "      <td>...</td>\n",
       "      <td>...</td>\n",
       "      <td>...</td>\n",
       "      <td>...</td>\n",
       "      <td>...</td>\n",
       "    </tr>\n",
       "    <tr>\n",
       "      <th>9995</th>\n",
       "      <td>-0.781408</td>\n",
       "      <td>-0.330326</td>\n",
       "      <td>-0.614798</td>\n",
       "      <td>1.333114</td>\n",
       "      <td>-0.511602</td>\n",
       "    </tr>\n",
       "    <tr>\n",
       "      <th>9996</th>\n",
       "      <td>-1.344931</td>\n",
       "      <td>0.351454</td>\n",
       "      <td>1.414685</td>\n",
       "      <td>0.302489</td>\n",
       "      <td>-0.626715</td>\n",
       "    </tr>\n",
       "    <tr>\n",
       "      <th>9997</th>\n",
       "      <td>0.159818</td>\n",
       "      <td>0.402830</td>\n",
       "      <td>0.061696</td>\n",
       "      <td>1.333114</td>\n",
       "      <td>-0.269739</td>\n",
       "    </tr>\n",
       "    <tr>\n",
       "      <th>9998</th>\n",
       "      <td>-0.603928</td>\n",
       "      <td>0.846213</td>\n",
       "      <td>1.414685</td>\n",
       "      <td>-0.728137</td>\n",
       "      <td>0.674810</td>\n",
       "    </tr>\n",
       "    <tr>\n",
       "      <th>9999</th>\n",
       "      <td>-1.641035</td>\n",
       "      <td>-0.780890</td>\n",
       "      <td>-0.614798</td>\n",
       "      <td>1.333114</td>\n",
       "      <td>-0.653144</td>\n",
       "    </tr>\n",
       "  </tbody>\n",
       "</table>\n",
       "<p>10000 rows × 5 columns</p>\n",
       "</div>"
      ],
      "text/plain": [
       "      Job history  Reported income  ...  Late payments  customer quality\n",
       "0       -0.427087        -0.582467  ...      -0.728137          0.409819\n",
       "1       -1.003804         0.304794  ...       1.333114         -0.326963\n",
       "2       -1.205119        -0.485338  ...       1.333114         -0.666909\n",
       "3       -0.382481         0.217698  ...       1.333114         -0.474036\n",
       "4       -1.192619         1.840064  ...       0.302489          0.841483\n",
       "...           ...              ...  ...            ...               ...\n",
       "9995    -0.781408        -0.330326  ...       1.333114         -0.511602\n",
       "9996    -1.344931         0.351454  ...       0.302489         -0.626715\n",
       "9997     0.159818         0.402830  ...       1.333114         -0.269739\n",
       "9998    -0.603928         0.846213  ...      -0.728137          0.674810\n",
       "9999    -1.641035        -0.780890  ...       1.333114         -0.653144\n",
       "\n",
       "[10000 rows x 5 columns]"
      ]
     },
     "execution_count": 14,
     "metadata": {
      "tags": []
     },
     "output_type": "execute_result"
    }
   ],
   "source": [
    "X_A_norm"
   ]
  },
  {
   "cell_type": "code",
   "execution_count": null,
   "metadata": {
    "colab": {
     "base_uri": "https://localhost:8080/",
     "height": 34
    },
    "colab_type": "code",
    "executionInfo": {
     "elapsed": 768,
     "status": "ok",
     "timestamp": 1589448767777,
     "user": {
      "displayName": "Benedikt J. Wagner",
      "photoUrl": "",
      "userId": "17708217500073810160"
     },
     "user_tz": -60
    },
    "id": "QgRv3w4dTNH4",
    "outputId": "b3a3f88f-9fad-4126-f56e-d286d8132f5a"
   },
   "outputs": [
    {
     "name": "stdout",
     "output_type": "stream",
     "text": [
      "(4000, 4) (6000, 4)\n"
     ]
    }
   ],
   "source": [
    "defs = X_A_norm[y_A].iloc[:,:-1]\n",
    "non_defs = X_A_norm[y_A==False].iloc[:,:-1]\n",
    "print(defs.shape,non_defs.shape)"
   ]
  },
  {
   "cell_type": "code",
   "execution_count": null,
   "metadata": {
    "colab": {},
    "colab_type": "code",
    "id": "ARn1_J3maXSb"
   },
   "outputs": [],
   "source": [
    "import logictensornetworks_wrapper as ltnw"
   ]
  },
  {
   "cell_type": "code",
   "execution_count": null,
   "metadata": {
    "colab": {},
    "colab_type": "code",
    "id": "9eivhsLTa1SB"
   },
   "outputs": [],
   "source": [
    "inp_def = defs.astype(np.float32).to_numpy()\n",
    "inp_ndef = non_defs.astype(np.float32).to_numpy()"
   ]
  },
  {
   "cell_type": "code",
   "execution_count": null,
   "metadata": {
    "colab": {
     "base_uri": "https://localhost:8080/",
     "height": 34
    },
    "colab_type": "code",
    "executionInfo": {
     "elapsed": 293,
     "status": "ok",
     "timestamp": 1589448774039,
     "user": {
      "displayName": "Benedikt J. Wagner",
      "photoUrl": "",
      "userId": "17708217500073810160"
     },
     "user_tz": -60
    },
    "id": "ISBb8Z_fUgYr",
    "outputId": "a4505d27-07f7-41e8-96f8-812247ff3e4a"
   },
   "outputs": [
    {
     "name": "stdout",
     "output_type": "stream",
     "text": [
      "<class 'numpy.ndarray'> (4000, 4)\n"
     ]
    }
   ],
   "source": [
    "print(type(inp_def),inp_def.shape)"
   ]
  },
  {
   "cell_type": "code",
   "execution_count": null,
   "metadata": {
    "colab": {
     "base_uri": "https://localhost:8080/",
     "height": 136
    },
    "colab_type": "code",
    "executionInfo": {
     "elapsed": 376,
     "status": "ok",
     "timestamp": 1589448775281,
     "user": {
      "displayName": "Benedikt J. Wagner",
      "photoUrl": "",
      "userId": "17708217500073810160"
     },
     "user_tz": -60
    },
    "id": "KtNPin8u3Vu5",
    "outputId": "29ebd12f-ccab-40c1-d4e5-092cc23d434e"
   },
   "outputs": [
    {
     "data": {
      "text/plain": [
       "tensor([[-0.4271, -0.5825, -0.6148, -0.7281],\n",
       "        [-1.0038,  0.3048,  0.0617,  1.3331],\n",
       "        [-0.3825,  0.2177, -0.6148,  1.3331],\n",
       "        ...,\n",
       "        [ 0.3591, -1.1149, -0.6148,  0.3025],\n",
       "        [ 0.1598,  0.4028,  0.0617,  1.3331],\n",
       "        [-0.6039,  0.8462,  1.4147, -0.7281]])"
      ]
     },
     "execution_count": 19,
     "metadata": {
      "tags": []
     },
     "output_type": "execute_result"
    }
   ],
   "source": [
    "ltnw.variable(\"?data_def\",inp_def)\n",
    "ltnw.variable(\"?data_ndef\",inp_ndef)"
   ]
  },
  {
   "cell_type": "code",
   "execution_count": null,
   "metadata": {
    "colab": {
     "base_uri": "https://localhost:8080/",
     "height": 187
    },
    "colab_type": "code",
    "executionInfo": {
     "elapsed": 8831,
     "status": "ok",
     "timestamp": 1589448784729,
     "user": {
      "displayName": "Benedikt J. Wagner",
      "photoUrl": "",
      "userId": "17708217500073810160"
     },
     "user_tz": -60
    },
    "id": "TOCJDVs-KYhD",
    "outputId": "b0c32f50-443e-4a81-807f-a771df63de75"
   },
   "outputs": [
    {
     "data": {
      "text/plain": [
       "Predicate(\n",
       "  (attention): SelfAttention(\n",
       "    (tokeys): Linear(in_features=10, out_features=10, bias=False)\n",
       "    (toqueries): Linear(in_features=10, out_features=10, bias=False)\n",
       "    (tovalues): Linear(in_features=10, out_features=10, bias=False)\n",
       "    (unifyheads): Linear(in_features=10, out_features=10, bias=True)\n",
       "  )\n",
       "  (fc1): Linear(in_features=4, out_features=2, bias=True)\n",
       "  (fc2): Linear(in_features=2, out_features=1, bias=True)\n",
       ")"
      ]
     },
     "execution_count": 20,
     "metadata": {
      "tags": []
     },
     "output_type": "execute_result"
    }
   ],
   "source": [
    "ltnw.predicate(\"D\",4)"
   ]
  },
  {
   "cell_type": "code",
   "execution_count": null,
   "metadata": {
    "colab": {
     "base_uri": "https://localhost:8080/",
     "height": 34
    },
    "colab_type": "code",
    "executionInfo": {
     "elapsed": 554,
     "status": "ok",
     "timestamp": 1589448794049,
     "user": {
      "displayName": "Benedikt J. Wagner",
      "photoUrl": "",
      "userId": "17708217500073810160"
     },
     "user_tz": -60
    },
    "id": "46WI2-u8KWg6",
    "outputId": "8cb43c29-fc56-40ca-da1a-976e041aeca5"
   },
   "outputs": [
    {
     "data": {
      "text/plain": [
       "tensor([0.3526], device='cuda:0', grad_fn=<MulBackward0>)"
      ]
     },
     "execution_count": 21,
     "metadata": {
      "tags": []
     },
     "output_type": "execute_result"
    }
   ],
   "source": [
    "ltnw.axiom(\"forall ?data_def: D(?data_def)\")\n",
    "ltnw.axiom(\"forall ?data_ndef: ~D(?data_ndef)\")"
   ]
  },
  {
   "cell_type": "code",
   "execution_count": null,
   "metadata": {
    "colab": {},
    "colab_type": "code",
    "id": "7JYSh3Erj55x"
   },
   "outputs": [],
   "source": [
    "#TENSORFLOW\n",
    "# ltnw.initialize_knowledgebase(initial_sat_level_threshold=.1)\n",
    "# sat_level=ltnw.train(track_sat_levels=1000,sat_level_epsilon=.99,max_epochs=100000)"
   ]
  },
  {
   "cell_type": "code",
   "execution_count": null,
   "metadata": {
    "colab": {
     "base_uri": "https://localhost:8080/",
     "height": 102
    },
    "colab_type": "code",
    "executionInfo": {
     "elapsed": 15348,
     "status": "ok",
     "timestamp": 1589448817272,
     "user": {
      "displayName": "Benedikt J. Wagner",
      "photoUrl": "",
      "userId": "17708217500073810160"
     },
     "user_tz": -60
    },
    "id": "tlh-JLvBiLBw",
    "outputId": "394db7db-ccbf-496d-8b16-f01af3b1dbb1"
   },
   "outputs": [
    {
     "name": "stderr",
     "output_type": "stream",
     "text": [
      "INFO:logictensornetworks_wrapper:Initializing knowledgebase\n",
      "INFO:logictensornetworks_wrapper:Initializing optimizer\n",
      "INFO:logictensornetworks_wrapper:INITIALIZED with sat level = tensor(0.4889, device='cuda:0', grad_fn=<RsubBackward1>)\n",
      "INFO:logictensornetworks_wrapper:TRAINING 0 sat level -----> tensor(0.4889, device='cuda:0', grad_fn=<MeanBackward0>)\n",
      "INFO:logictensornetworks_wrapper:TRAINING 500 sat level -----> tensor(0.5804, device='cuda:0', grad_fn=<MeanBackward0>)\n"
     ]
    }
   ],
   "source": [
    "#PYTORCH\n",
    "ltnw.initialize_knowledgebase(initial_sat_level_threshold=.99)\n",
    "sat_level=ltnw.train(track_sat_levels=500,sat_level_epsilon=.01,max_epochs=1000)"
   ]
  },
  {
   "cell_type": "code",
   "execution_count": null,
   "metadata": {
    "colab": {
     "base_uri": "https://localhost:8080/",
     "height": 357
    },
    "colab_type": "code",
    "executionInfo": {
     "elapsed": 145905,
     "status": "ok",
     "timestamp": 1589448966584,
     "user": {
      "displayName": "Benedikt J. Wagner",
      "photoUrl": "",
      "userId": "17708217500073810160"
     },
     "user_tz": -60
    },
    "id": "yifXwqkvEHHG",
    "outputId": "b038068b-74a8-45df-ec99-7e1e10fe8c70"
   },
   "outputs": [
    {
     "name": "stderr",
     "output_type": "stream",
     "text": [
      "INFO:logictensornetworks_wrapper:TRAINING 0 sat level -----> tensor(0.6024, device='cuda:0', grad_fn=<MeanBackward0>)\n",
      "INFO:logictensornetworks_wrapper:TRAINING 500 sat level -----> tensor(0.6041, device='cuda:0', grad_fn=<MeanBackward0>)\n",
      "INFO:logictensornetworks_wrapper:TRAINING 1000 sat level -----> tensor(0.6067, device='cuda:0', grad_fn=<MeanBackward0>)\n",
      "INFO:logictensornetworks_wrapper:TRAINING 1500 sat level -----> tensor(0.6107, device='cuda:0', grad_fn=<MeanBackward0>)\n",
      "INFO:logictensornetworks_wrapper:TRAINING 2000 sat level -----> tensor(0.6135, device='cuda:0', grad_fn=<MeanBackward0>)\n",
      "INFO:logictensornetworks_wrapper:TRAINING 2500 sat level -----> tensor(0.6148, device='cuda:0', grad_fn=<MeanBackward0>)\n",
      "INFO:logictensornetworks_wrapper:TRAINING 3000 sat level -----> tensor(0.6157, device='cuda:0', grad_fn=<MeanBackward0>)\n",
      "INFO:logictensornetworks_wrapper:TRAINING 3500 sat level -----> tensor(0.6161, device='cuda:0', grad_fn=<MeanBackward0>)\n",
      "INFO:logictensornetworks_wrapper:TRAINING 4000 sat level -----> tensor(0.6161, device='cuda:0', grad_fn=<MeanBackward0>)\n",
      "INFO:logictensornetworks_wrapper:TRAINING 4500 sat level -----> tensor(0.6162, device='cuda:0', grad_fn=<MeanBackward0>)\n",
      "INFO:logictensornetworks_wrapper:TRAINING 5000 sat level -----> tensor(0.6162, device='cuda:0', grad_fn=<MeanBackward0>)\n",
      "INFO:logictensornetworks_wrapper:TRAINING 5500 sat level -----> tensor(0.6162, device='cuda:0', grad_fn=<MeanBackward0>)\n",
      "INFO:logictensornetworks_wrapper:TRAINING 6000 sat level -----> tensor(0.6162, device='cuda:0', grad_fn=<MeanBackward0>)\n",
      "INFO:logictensornetworks_wrapper:TRAINING 6500 sat level -----> tensor(0.6162, device='cuda:0', grad_fn=<MeanBackward0>)\n",
      "INFO:logictensornetworks_wrapper:TRAINING 7000 sat level -----> tensor(0.6162, device='cuda:0', grad_fn=<MeanBackward0>)\n",
      "INFO:logictensornetworks_wrapper:TRAINING 7500 sat level -----> tensor(0.6162, device='cuda:0', grad_fn=<MeanBackward0>)\n",
      "INFO:logictensornetworks_wrapper:TRAINING 8000 sat level -----> tensor(0.6162, device='cuda:0', grad_fn=<MeanBackward0>)\n",
      "INFO:logictensornetworks_wrapper:TRAINING 8500 sat level -----> tensor(0.6162, device='cuda:0', grad_fn=<MeanBackward0>)\n",
      "INFO:logictensornetworks_wrapper:TRAINING 9000 sat level -----> tensor(0.6162, device='cuda:0', grad_fn=<MeanBackward0>)\n",
      "INFO:logictensornetworks_wrapper:TRAINING 9500 sat level -----> tensor(0.6162, device='cuda:0', grad_fn=<MeanBackward0>)\n"
     ]
    }
   ],
   "source": [
    "sat_level=ltnw.train(track_sat_levels=500,sat_level_epsilon=.01,max_epochs=10000)"
   ]
  },
  {
   "cell_type": "code",
   "execution_count": null,
   "metadata": {
    "colab": {},
    "colab_type": "code",
    "id": "lKyqV6Lqj583"
   },
   "outputs": [],
   "source": [
    "# import tensorflow as tf\n",
    "# ltnw.re_initialize_knowledgebase(initial_sat_level_threshold=.1,optimizer=tf.train.AdagradOptimizer(learning_rate=0.1))\n",
    "# ltnw.train(track_sat_levels=1000,sat_level_epsilon=.99,max_epochs=200000)"
   ]
  },
  {
   "cell_type": "code",
   "execution_count": null,
   "metadata": {
    "colab": {},
    "colab_type": "code",
    "id": "_pBAl9gZ72IE"
   },
   "outputs": [],
   "source": [
    "ltnw.ask(\"D(?data_def)\")"
   ]
  },
  {
   "cell_type": "code",
   "execution_count": null,
   "metadata": {
    "colab": {},
    "colab_type": "code",
    "id": "5lbFnCzpZ29I"
   },
   "outputs": [],
   "source": [
    "#data_def"
   ]
  },
  {
   "cell_type": "code",
   "execution_count": null,
   "metadata": {
    "colab": {},
    "colab_type": "code",
    "id": "7Llkqgoh-x-h"
   },
   "outputs": [],
   "source": [
    "ltnw.ask(\"D(?data_ndef)\")"
   ]
  },
  {
   "cell_type": "code",
   "execution_count": null,
   "metadata": {
    "colab": {
     "base_uri": "https://localhost:8080/",
     "height": 83,
     "referenced_widgets": [
      "29d6ba5313a64f979dd4919e6a8975da",
      "9d3574fb2bab4815a47a53e439b82c86",
      "1c7b53f8227a4fd4bc80e51b0abd5fec",
      "2630d2da2bb740bdb526628e541c7df2",
      "b2f628f52d684638bb4e09578fafdf80",
      "dabd4400ba5b452b94975beb3cbd4d99",
      "5b06b60deca34911a8f0e25c4fe411dc",
      "29d59a2d0a4c4180b4f74afb39202268"
     ]
    },
    "colab_type": "code",
    "executionInfo": {
     "elapsed": 322238,
     "status": "ok",
     "timestamp": 1589449348799,
     "user": {
      "displayName": "Benedikt J. Wagner",
      "photoUrl": "",
      "userId": "17708217500073810160"
     },
     "user_tz": -60
    },
    "id": "TfJZokUpG9un",
    "outputId": "c1996166-874c-45b5-e6b6-7b7e980078a6"
   },
   "outputs": [
    {
     "data": {
      "application/vnd.jupyter.widget-view+json": {
       "model_id": "29d6ba5313a64f979dd4919e6a8975da",
       "version_major": 2,
       "version_minor": 0
      },
      "text/plain": [
       "HBox(children=(FloatProgress(value=0.0, max=10000.0), HTML(value='')))"
      ]
     },
     "metadata": {
      "tags": []
     },
     "output_type": "display_data"
    },
    {
     "name": "stderr",
     "output_type": "stream",
     "text": [
      "l1_reg=\"auto\" is deprecated and in the next version (v0.29) the behavior will change from a conditional use of AIC to simply \"num_features(10)\"!\n"
     ]
    },
    {
     "name": "stdout",
     "output_type": "stream",
     "text": [
      "\n"
     ]
    }
   ],
   "source": [
    "def f(X):\n",
    "  ltnw.variable(\"?X\", X)\n",
    "  return ltnw.ask(\"D(?X)\")\n",
    "\n",
    "logger = logging.getLogger()\n",
    "logger.setLevel(logging.CRITICAL)\n",
    "\n",
    "explainer = shap.KernelExplainer(f, shap.sample(X_A_norm.iloc[:,:-1], 100))\n",
    "shap_values = explainer.shap_values(X_A_norm.iloc[:,:-1])"
   ]
  },
  {
   "cell_type": "code",
   "execution_count": null,
   "metadata": {
    "colab": {
     "base_uri": "https://localhost:8080/",
     "height": 282
    },
    "colab_type": "code",
    "executionInfo": {
     "elapsed": 602,
     "status": "ok",
     "timestamp": 1589450314124,
     "user": {
      "displayName": "Benedikt J. Wagner",
      "photoUrl": "",
      "userId": "17708217500073810160"
     },
     "user_tz": -60
    },
    "id": "xUMyGM4FHNN2",
    "outputId": "4855c74c-39cc-415f-9445-762053152a9c"
   },
   "outputs": [
    {
     "data": {
      "text/plain": [
       "<BarContainer object of 1 artists>"
      ]
     },
     "execution_count": 26,
     "metadata": {
      "tags": []
     },
     "output_type": "execute_result"
    },
    {
     "data": {
      "image/png": "[encoded data removed]",
      "text/plain": [
       "<Figure size 432x288 with 1 Axes>"
      ]
     },
     "metadata": {
      "image/png": {
       "height": 248,
       "width": 369
      },
      "needs_background": "light",
      "tags": []
     },
     "output_type": "display_data"
    }
   ],
   "source": [
    "import matplotlib.pyplot as plt\n",
    "fig, ax = plt.subplots()\n",
    "ax.set_xlim(xmin, xmax)\n",
    "ax.get_yaxis().set_visible(False)\n",
    "ax.set_xlabel = glabel\n",
    "ax.barh(0,height=0.1, width=(shap_values[0].sum(1)[sex_A].mean()-shap_values[0].sum(1)[sex_A==False].mean()))"
   ]
  },
  {
   "cell_type": "code",
   "execution_count": null,
   "metadata": {
    "colab": {
     "base_uri": "https://localhost:8080/",
     "height": 282
    },
    "colab_type": "code",
    "executionInfo": {
     "elapsed": 710,
     "status": "ok",
     "timestamp": 1589450315440,
     "user": {
      "displayName": "Benedikt J. Wagner",
      "photoUrl": "",
      "userId": "17708217500073810160"
     },
     "user_tz": -60
    },
    "id": "WifG4UhQOq4R",
    "outputId": "817ca98b-35a5-47db-a52c-8b910d52358d"
   },
   "outputs": [
    {
     "data": {
      "text/plain": [
       "<BarContainer object of 4 artists>"
      ]
     },
     "execution_count": 27,
     "metadata": {
      "tags": []
     },
     "output_type": "execute_result"
    },
    {
     "data": {
      "image/png": "[encoded data removed]",
      "text/plain": [
       "<Figure size 432x288 with 1 Axes>"
      ]
     },
     "metadata": {
      "image/png": {
       "height": 248,
       "width": 369
      },
      "needs_background": "light",
      "tags": []
     },
     "output_type": "display_data"
    }
   ],
   "source": [
    "fig, ax = plt.subplots()\n",
    "ax.set_xlim(xmin, xmax)\n",
    "ax.get_yaxis().set_visible(False)\n",
    "ax.set_xlabel = glabel\n",
    "wdt = [shap_values[0][:,0][sex_A].mean() - shap_values[0][:,0][sex_A==False].mean(),\n",
    "       shap_values[0][:,1][sex_A].mean() - shap_values[0][:,1][sex_A==False].mean(),\n",
    "       shap_values[0][:,2][sex_A].mean() - shap_values[0][:,2][sex_A==False].mean(),\n",
    "       shap_values[0][:,3][sex_A].mean() - shap_values[0][:,3][sex_A==False].mean()]\n",
    "ax.barh(y=[1,2,3,4], width=wdt)"
   ]
  },
  {
   "cell_type": "code",
   "execution_count": null,
   "metadata": {
    "colab": {},
    "colab_type": "code",
    "id": "5ueHN2Zpj6Dy"
   },
   "outputs": [],
   "source": [
    "# ltnw.ask(\"DEF(fem)\")\n",
    "# ltnw.ask(\"DEF(mal)\")\n",
    "# ltnw.ask(\"forall ?data_def: DEF(?data_fem)\")\n",
    "# ltnw.ask(\"forall ?data_def: DEF(?mal)\")"
   ]
  },
  {
   "cell_type": "markdown",
   "metadata": {
    "colab_type": "text",
    "id": "k1k8_o5upCvg"
   },
   "source": [
    "Fairness LTN"
   ]
  },
  {
   "cell_type": "code",
   "execution_count": null,
   "metadata": {
    "colab": {},
    "colab_type": "code",
    "id": "N6JJ5Csijnqy"
   },
   "outputs": [],
   "source": [
    "ltnw.AXIOMS = {}"
   ]
  },
  {
   "cell_type": "code",
   "execution_count": null,
   "metadata": {
    "colab": {
     "base_uri": "https://localhost:8080/",
     "height": 419
    },
    "colab_type": "code",
    "executionInfo": {
     "elapsed": 404,
     "status": "ok",
     "timestamp": 1589450343579,
     "user": {
      "displayName": "Benedikt J. Wagner",
      "photoUrl": "",
      "userId": "17708217500073810160"
     },
     "user_tz": -60
    },
    "id": "mbHWnorppBwy",
    "outputId": "79f2e517-3122-4dd5-86a1-a7bd0cd7758a"
   },
   "outputs": [
    {
     "data": {
      "text/html": [
       "<div>\n",
       "<style scoped>\n",
       "    .dataframe tbody tr th:only-of-type {\n",
       "        vertical-align: middle;\n",
       "    }\n",
       "\n",
       "    .dataframe tbody tr th {\n",
       "        vertical-align: top;\n",
       "    }\n",
       "\n",
       "    .dataframe thead th {\n",
       "        text-align: right;\n",
       "    }\n",
       "</style>\n",
       "<table border=\"1\" class=\"dataframe\">\n",
       "  <thead>\n",
       "    <tr style=\"text-align: right;\">\n",
       "      <th></th>\n",
       "      <th>Job history</th>\n",
       "      <th>Reported income</th>\n",
       "      <th>Credit inquiries</th>\n",
       "      <th>Late payments</th>\n",
       "    </tr>\n",
       "  </thead>\n",
       "  <tbody>\n",
       "    <tr>\n",
       "      <th>0</th>\n",
       "      <td>-0.427085</td>\n",
       "      <td>-0.316675</td>\n",
       "      <td>-0.614789</td>\n",
       "      <td>-0.728159</td>\n",
       "    </tr>\n",
       "    <tr>\n",
       "      <th>1</th>\n",
       "      <td>-1.003802</td>\n",
       "      <td>0.150949</td>\n",
       "      <td>0.061695</td>\n",
       "      <td>1.333154</td>\n",
       "    </tr>\n",
       "    <tr>\n",
       "      <th>2</th>\n",
       "      <td>-1.205117</td>\n",
       "      <td>-0.555176</td>\n",
       "      <td>-0.614789</td>\n",
       "      <td>1.333154</td>\n",
       "    </tr>\n",
       "    <tr>\n",
       "      <th>3</th>\n",
       "      <td>-0.382479</td>\n",
       "      <td>0.463826</td>\n",
       "      <td>-0.614789</td>\n",
       "      <td>1.333154</td>\n",
       "    </tr>\n",
       "    <tr>\n",
       "      <th>4</th>\n",
       "      <td>-1.192617</td>\n",
       "      <td>1.892378</td>\n",
       "      <td>-0.614789</td>\n",
       "      <td>0.302498</td>\n",
       "    </tr>\n",
       "    <tr>\n",
       "      <th>...</th>\n",
       "      <td>...</td>\n",
       "      <td>...</td>\n",
       "      <td>...</td>\n",
       "      <td>...</td>\n",
       "    </tr>\n",
       "    <tr>\n",
       "      <th>9995</th>\n",
       "      <td>-0.781406</td>\n",
       "      <td>-0.070730</td>\n",
       "      <td>-0.614789</td>\n",
       "      <td>1.333154</td>\n",
       "    </tr>\n",
       "    <tr>\n",
       "      <th>9996</th>\n",
       "      <td>-1.344929</td>\n",
       "      <td>-0.439090</td>\n",
       "      <td>1.414665</td>\n",
       "      <td>0.302498</td>\n",
       "    </tr>\n",
       "    <tr>\n",
       "      <th>9997</th>\n",
       "      <td>0.159821</td>\n",
       "      <td>0.644409</td>\n",
       "      <td>0.061695</td>\n",
       "      <td>1.333154</td>\n",
       "    </tr>\n",
       "    <tr>\n",
       "      <th>9998</th>\n",
       "      <td>-0.603925</td>\n",
       "      <td>0.119477</td>\n",
       "      <td>1.414665</td>\n",
       "      <td>-0.728159</td>\n",
       "    </tr>\n",
       "    <tr>\n",
       "      <th>9999</th>\n",
       "      <td>-1.641033</td>\n",
       "      <td>-0.510223</td>\n",
       "      <td>-0.614789</td>\n",
       "      <td>1.333154</td>\n",
       "    </tr>\n",
       "  </tbody>\n",
       "</table>\n",
       "<p>10000 rows × 4 columns</p>\n",
       "</div>"
      ],
      "text/plain": [
       "      Job history  Reported income  Credit inquiries  Late payments\n",
       "0       -0.427085        -0.316675         -0.614789      -0.728159\n",
       "1       -1.003802         0.150949          0.061695       1.333154\n",
       "2       -1.205117        -0.555176         -0.614789       1.333154\n",
       "3       -0.382479         0.463826         -0.614789       1.333154\n",
       "4       -1.192617         1.892378         -0.614789       0.302498\n",
       "...           ...              ...               ...            ...\n",
       "9995    -0.781406        -0.070730         -0.614789       1.333154\n",
       "9996    -1.344929        -0.439090          1.414665       0.302498\n",
       "9997     0.159821         0.644409          0.061695       1.333154\n",
       "9998    -0.603925         0.119477          1.414665      -0.728159\n",
       "9999    -1.641033        -0.510223         -0.614789       1.333154\n",
       "\n",
       "[10000 rows x 4 columns]"
      ]
     },
     "execution_count": 29,
     "metadata": {
      "tags": []
     },
     "output_type": "execute_result"
    }
   ],
   "source": [
    "X_B_norm = (X_B-X_B.mean())/X_B.std()\n",
    "X_B_norm"
   ]
  },
  {
   "cell_type": "code",
   "execution_count": null,
   "metadata": {
    "colab": {},
    "colab_type": "code",
    "id": "UTqp2Llpnp-b"
   },
   "outputs": [],
   "source": [
    "defsB = X_B_norm[y]\n",
    "non_defsB = X_B_norm[y==False]\n",
    "inp_defB = defs.astype(np.float32).to_numpy()\n",
    "inp_ndefB = non_defs.astype(np.float32).to_numpy()"
   ]
  },
  {
   "cell_type": "code",
   "execution_count": null,
   "metadata": {
    "colab": {
     "base_uri": "https://localhost:8080/",
     "height": 136
    },
    "colab_type": "code",
    "executionInfo": {
     "elapsed": 370,
     "status": "ok",
     "timestamp": 1589450345640,
     "user": {
      "displayName": "Benedikt J. Wagner",
      "photoUrl": "",
      "userId": "17708217500073810160"
     },
     "user_tz": -60
    },
    "id": "g16xJyrvn4s1",
    "outputId": "b057b9cc-fca9-474d-841c-d0d08b6f6556"
   },
   "outputs": [
    {
     "data": {
      "text/plain": [
       "tensor([[-0.4271, -0.5825, -0.6148, -0.7281],\n",
       "        [-1.0038,  0.3048,  0.0617,  1.3331],\n",
       "        [-0.3825,  0.2177, -0.6148,  1.3331],\n",
       "        ...,\n",
       "        [ 0.3591, -1.1149, -0.6148,  0.3025],\n",
       "        [ 0.1598,  0.4028,  0.0617,  1.3331],\n",
       "        [-0.6039,  0.8462,  1.4147, -0.7281]])"
      ]
     },
     "execution_count": 31,
     "metadata": {
      "tags": []
     },
     "output_type": "execute_result"
    }
   ],
   "source": [
    "ltnw.variable(\"?data_defB\",inp_defB)\n",
    "ltnw.variable(\"?data_ndefB\",inp_ndefB)"
   ]
  },
  {
   "cell_type": "code",
   "execution_count": null,
   "metadata": {
    "colab": {
     "base_uri": "https://localhost:8080/",
     "height": 51
    },
    "colab_type": "code",
    "executionInfo": {
     "elapsed": 380,
     "status": "ok",
     "timestamp": 1589451054654,
     "user": {
      "displayName": "Benedikt J. Wagner",
      "photoUrl": "",
      "userId": "17708217500073810160"
     },
     "user_tz": -60
    },
    "id": "w4upJvZip6jo",
    "outputId": "cfe23aa7-a271-492a-aaef-4435267cea9d"
   },
   "outputs": [
    {
     "data": {
      "text/plain": [
       "{'forall ?data_defB: D(?data_defB)': tensor([0.6162], device='cuda:0', grad_fn=<MulBackward0>),\n",
       " 'forall ?data_ndefB: ~D(?data_ndefB)': tensor([0.6163], device='cuda:0', grad_fn=<MulBackward0>)}"
      ]
     },
     "execution_count": 55,
     "metadata": {
      "tags": []
     },
     "output_type": "execute_result"
    }
   ],
   "source": [
    "ltnw.axiom(\"forall ?data_defB: D(?data_defB)\")\n",
    "ltnw.axiom(\"forall ?data_ndefB: ~D(?data_ndefB)\")\n",
    "ltnw.AXIOMS"
   ]
  },
  {
   "cell_type": "code",
   "execution_count": null,
   "metadata": {
    "colab": {
     "base_uri": "https://localhost:8080/",
     "height": 102
    },
    "colab_type": "code",
    "executionInfo": {
     "elapsed": 15328,
     "status": "ok",
     "timestamp": 1589450370952,
     "user": {
      "displayName": "Benedikt J. Wagner",
      "photoUrl": "",
      "userId": "17708217500073810160"
     },
     "user_tz": -60
    },
    "id": "FCT2Ud10qFqQ",
    "outputId": "981745fe-0a9c-49e3-aa55-8e73941ecda0"
   },
   "outputs": [
    {
     "name": "stderr",
     "output_type": "stream",
     "text": [
      "INFO:logictensornetworks_wrapper:Initializing knowledgebase\n",
      "INFO:logictensornetworks_wrapper:Initializing optimizer\n",
      "INFO:logictensornetworks_wrapper:INITIALIZED with sat level = tensor(0.6162, device='cuda:0', grad_fn=<RsubBackward1>)\n",
      "INFO:logictensornetworks_wrapper:TRAINING 0 sat level -----> tensor(0.6162, device='cuda:0', grad_fn=<MeanBackward0>)\n",
      "INFO:logictensornetworks_wrapper:TRAINING 500 sat level -----> tensor(0.6162, device='cuda:0', grad_fn=<MeanBackward0>)\n"
     ]
    }
   ],
   "source": [
    "logger.setLevel(logging.INFO)\n",
    "\n",
    "ltnw.initialize_knowledgebase(initial_sat_level_threshold=.99)\n",
    "sat_level=ltnw.train(track_sat_levels=500, sat_level_epsilon=.01,max_epochs=1000)"
   ]
  },
  {
   "cell_type": "code",
   "execution_count": null,
   "metadata": {
    "colab": {
     "base_uri": "https://localhost:8080/",
     "height": 357
    },
    "colab_type": "code",
    "executionInfo": {
     "elapsed": 148544,
     "status": "ok",
     "timestamp": 1589450521842,
     "user": {
      "displayName": "Benedikt J. Wagner",
      "photoUrl": "",
      "userId": "17708217500073810160"
     },
     "user_tz": -60
    },
    "id": "B_O9uhavrE-R",
    "outputId": "593d2cf8-5cb9-4867-ff5f-c418587e1b11"
   },
   "outputs": [
    {
     "name": "stderr",
     "output_type": "stream",
     "text": [
      "INFO:logictensornetworks_wrapper:TRAINING 0 sat level -----> tensor(0.6162, device='cuda:0', grad_fn=<MeanBackward0>)\n",
      "INFO:logictensornetworks_wrapper:TRAINING 500 sat level -----> tensor(0.6162, device='cuda:0', grad_fn=<MeanBackward0>)\n",
      "INFO:logictensornetworks_wrapper:TRAINING 1000 sat level -----> tensor(0.6162, device='cuda:0', grad_fn=<MeanBackward0>)\n",
      "INFO:logictensornetworks_wrapper:TRAINING 1500 sat level -----> tensor(0.6162, device='cuda:0', grad_fn=<MeanBackward0>)\n",
      "INFO:logictensornetworks_wrapper:TRAINING 2000 sat level -----> tensor(0.6162, device='cuda:0', grad_fn=<MeanBackward0>)\n",
      "INFO:logictensornetworks_wrapper:TRAINING 2500 sat level -----> tensor(0.6162, device='cuda:0', grad_fn=<MeanBackward0>)\n",
      "INFO:logictensornetworks_wrapper:TRAINING 3000 sat level -----> tensor(0.6162, device='cuda:0', grad_fn=<MeanBackward0>)\n",
      "INFO:logictensornetworks_wrapper:TRAINING 3500 sat level -----> tensor(0.6162, device='cuda:0', grad_fn=<MeanBackward0>)\n",
      "INFO:logictensornetworks_wrapper:TRAINING 4000 sat level -----> tensor(0.6162, device='cuda:0', grad_fn=<MeanBackward0>)\n",
      "INFO:logictensornetworks_wrapper:TRAINING 4500 sat level -----> tensor(0.6162, device='cuda:0', grad_fn=<MeanBackward0>)\n",
      "INFO:logictensornetworks_wrapper:TRAINING 5000 sat level -----> tensor(0.6162, device='cuda:0', grad_fn=<MeanBackward0>)\n",
      "INFO:logictensornetworks_wrapper:TRAINING 5500 sat level -----> tensor(0.6162, device='cuda:0', grad_fn=<MeanBackward0>)\n",
      "INFO:logictensornetworks_wrapper:TRAINING 6000 sat level -----> tensor(0.6162, device='cuda:0', grad_fn=<MeanBackward0>)\n",
      "INFO:logictensornetworks_wrapper:TRAINING 6500 sat level -----> tensor(0.6162, device='cuda:0', grad_fn=<MeanBackward0>)\n",
      "INFO:logictensornetworks_wrapper:TRAINING 7000 sat level -----> tensor(0.6162, device='cuda:0', grad_fn=<MeanBackward0>)\n",
      "INFO:logictensornetworks_wrapper:TRAINING 7500 sat level -----> tensor(0.6162, device='cuda:0', grad_fn=<MeanBackward0>)\n",
      "INFO:logictensornetworks_wrapper:TRAINING 8000 sat level -----> tensor(0.6162, device='cuda:0', grad_fn=<MeanBackward0>)\n",
      "INFO:logictensornetworks_wrapper:TRAINING 8500 sat level -----> tensor(0.6162, device='cuda:0', grad_fn=<MeanBackward0>)\n",
      "INFO:logictensornetworks_wrapper:TRAINING 9000 sat level -----> tensor(0.6162, device='cuda:0', grad_fn=<MeanBackward0>)\n",
      "INFO:logictensornetworks_wrapper:TRAINING 9500 sat level -----> tensor(0.6162, device='cuda:0', grad_fn=<MeanBackward0>)\n"
     ]
    }
   ],
   "source": [
    "sat_level=ltnw.train(track_sat_levels=500, sat_level_epsilon=.01,max_epochs=10000)"
   ]
  },
  {
   "cell_type": "code",
   "execution_count": null,
   "metadata": {
    "colab": {
     "base_uri": "https://localhost:8080/",
     "height": 83,
     "referenced_widgets": [
      "7eea8d0283a84a9fbe86bb546cb92fae",
      "f174e202ef7c4ca39e484c44181a004b",
      "99d7c258453f43b09afb263f0647c629",
      "97f62db4432f4e32aa71928c04598ff8",
      "15b8d5c932d545b0942bd9ef6388e5dd",
      "0b6ee18ff2a240169b13fdd40555a780",
      "9a6af53ff2724caf91f47b754702e815",
      "b282641a7f1b42589d8c8fdcaaa6b312"
     ]
    },
    "colab_type": "code",
    "executionInfo": {
     "elapsed": 314919,
     "status": "ok",
     "timestamp": 1589450836783,
     "user": {
      "displayName": "Benedikt J. Wagner",
      "photoUrl": "",
      "userId": "17708217500073810160"
     },
     "user_tz": -60
    },
    "id": "Mpx-EJv_smr1",
    "outputId": "eafc857a-f56a-42f3-ed20-c1b187feb68f"
   },
   "outputs": [
    {
     "data": {
      "application/vnd.jupyter.widget-view+json": {
       "model_id": "7eea8d0283a84a9fbe86bb546cb92fae",
       "version_major": 2,
       "version_minor": 0
      },
      "text/plain": [
       "HBox(children=(FloatProgress(value=0.0, max=10000.0), HTML(value='')))"
      ]
     },
     "metadata": {
      "tags": []
     },
     "output_type": "display_data"
    },
    {
     "name": "stderr",
     "output_type": "stream",
     "text": [
      "l1_reg=\"auto\" is deprecated and in the next version (v0.29) the behavior will change from a conditional use of AIC to simply \"num_features(10)\"!\n"
     ]
    },
    {
     "name": "stdout",
     "output_type": "stream",
     "text": [
      "\n"
     ]
    }
   ],
   "source": [
    "logger.setLevel(logging.CRITICAL)\n",
    "explainer_B = shap.KernelExplainer(f, shap.sample(X_B_norm, 100))\n",
    "shap_values_B = explainer_B.shap_values(X_B_norm)"
   ]
  },
  {
   "cell_type": "code",
   "execution_count": null,
   "metadata": {
    "colab": {
     "base_uri": "https://localhost:8080/",
     "height": 282
    },
    "colab_type": "code",
    "executionInfo": {
     "elapsed": 1937,
     "status": "ok",
     "timestamp": 1589388942034,
     "user": {
      "displayName": "Benedikt J. Wagner",
      "photoUrl": "",
      "userId": "17708217500073810160"
     },
     "user_tz": -60
    },
    "id": "vaucMLwqsmzi",
    "outputId": "8aafa342-ab77-4c79-e234-d413b584328a"
   },
   "outputs": [
    {
     "data": {
      "text/plain": [
       "<BarContainer object of 1 artists>"
      ]
     },
     "execution_count": 43,
     "metadata": {
      "tags": []
     },
     "output_type": "execute_result"
    },
    {
     "data": {
      "image/png": "[encoded data removed]",
      "text/plain": [
       "<Figure size 432x288 with 1 Axes>"
      ]
     },
     "metadata": {
      "image/png": {
       "height": 248,
       "width": 369
      },
      "needs_background": "light",
      "tags": []
     },
     "output_type": "display_data"
    }
   ],
   "source": [
    "fig, ax = plt.subplots()\n",
    "ax.set_xlim(-0.4, 0.4)\n",
    "ax.get_yaxis().set_visible(False)\n",
    "ax.set_xlabel = glabel\n",
    "ax.barh(0,height=0.1, width=(shap_values_B[0].sum(1)[sex_B].mean()-shap_values_B[0].sum(1)[sex_B==False].mean()))"
   ]
  },
  {
   "cell_type": "code",
   "execution_count": null,
   "metadata": {
    "colab": {
     "base_uri": "https://localhost:8080/",
     "height": 282
    },
    "colab_type": "code",
    "executionInfo": {
     "elapsed": 597,
     "status": "ok",
     "timestamp": 1589450879906,
     "user": {
      "displayName": "Benedikt J. Wagner",
      "photoUrl": "",
      "userId": "17708217500073810160"
     },
     "user_tz": -60
    },
    "id": "9nDUM11yvGCG",
    "outputId": "a3ba23b7-cbfa-4be8-e4fa-718fb002fa36"
   },
   "outputs": [
    {
     "data": {
      "text/plain": [
       "<BarContainer object of 4 artists>"
      ]
     },
     "execution_count": 36,
     "metadata": {
      "tags": []
     },
     "output_type": "execute_result"
    },
    {
     "data": {
      "image/png": "[encoded data removed]",
      "text/plain": [
       "<Figure size 432x288 with 1 Axes>"
      ]
     },
     "metadata": {
      "image/png": {
       "height": 248,
       "width": 369
      },
      "needs_background": "light",
      "tags": []
     },
     "output_type": "display_data"
    }
   ],
   "source": [
    "fig, ax = plt.subplots()\n",
    "ax.set_xlim(-0.4, 0.4)\n",
    "ax.get_yaxis().set_visible(False)\n",
    "ax.set_xlabel = glabel\n",
    "wdt = [shap_values_B[0][:,0][sex_B].mean() - shap_values_B[0][:,0][sex_B==False].mean(),\n",
    "       shap_values_B[0][:,1][sex_B].mean() - shap_values_B[0][:,1][sex_B==False].mean(),\n",
    "       shap_values_B[0][:,2][sex_B].mean() - shap_values_B[0][:,2][sex_B==False].mean(),\n",
    "       shap_values_B[0][:,3][sex_B].mean() - shap_values_B[0][:,3][sex_B==False].mean()]\n",
    "ax.barh(y=[1,2,3,4], width=wdt)"
   ]
  },
  {
   "cell_type": "code",
   "execution_count": null,
   "metadata": {
    "colab": {},
    "colab_type": "code",
    "id": "4dFKsEnHpB1v"
   },
   "outputs": [],
   "source": [
    "X_B_norm['customer quality'] = cquality\n",
    "X_B_norm['customer class'] = pd.qcut(X_B_norm['customer quality'],5, labels=[0,1,2,3,4])"
   ]
  },
  {
   "cell_type": "code",
   "execution_count": null,
   "metadata": {
    "colab": {
     "base_uri": "https://localhost:8080/",
     "height": 119
    },
    "colab_type": "code",
    "executionInfo": {
     "elapsed": 497,
     "status": "ok",
     "timestamp": 1589454306414,
     "user": {
      "displayName": "Benedikt J. Wagner",
      "photoUrl": "",
      "userId": "17708217500073810160"
     },
     "user_tz": -60
    },
    "id": "9P66zicZgpoU",
    "outputId": "92825cff-f0c2-4f09-d13f-89374300ae42"
   },
   "outputs": [
    {
     "data": {
      "text/plain": [
       "0    1022\n",
       "2    1016\n",
       "4     992\n",
       "1     946\n",
       "3     939\n",
       "Name: customer class, dtype: int64"
      ]
     },
     "execution_count": 76,
     "metadata": {
      "tags": []
     },
     "output_type": "execute_result"
    }
   ],
   "source": [
    "X_B_norm[sex_B==False]['customer class'].value_counts()"
   ]
  },
  {
   "cell_type": "code",
   "execution_count": null,
   "metadata": {
    "colab": {
     "base_uri": "https://localhost:8080/",
     "height": 238
    },
    "colab_type": "code",
    "executionInfo": {
     "elapsed": 360,
     "status": "ok",
     "timestamp": 1589454369919,
     "user": {
      "displayName": "Benedikt J. Wagner",
      "photoUrl": "",
      "userId": "17708217500073810160"
     },
     "user_tz": -60
    },
    "id": "F89e6cD53Gur",
    "outputId": "b13e6a65-7343-4e2c-d7cf-5324bf19e4f5"
   },
   "outputs": [
    {
     "data": {
      "text/plain": [
       "1       2\n",
       "2       0\n",
       "4       4\n",
       "5       4\n",
       "6       2\n",
       "       ..\n",
       "9989    3\n",
       "9991    1\n",
       "9994    2\n",
       "9996    1\n",
       "9998    4\n",
       "Name: customer class, Length: 5085, dtype: category\n",
       "Categories (5, int64): [0 < 1 < 2 < 3 < 4]"
      ]
     },
     "execution_count": 79,
     "metadata": {
      "tags": []
     },
     "output_type": "execute_result"
    }
   ],
   "source": [
    "X_B_norm[sex_B]['customer class']"
   ]
  },
  {
   "cell_type": "code",
   "execution_count": null,
   "metadata": {
    "colab": {
     "base_uri": "https://localhost:8080/",
     "height": 419
    },
    "colab_type": "code",
    "executionInfo": {
     "elapsed": 371,
     "status": "ok",
     "timestamp": 1589450889570,
     "user": {
      "displayName": "Benedikt J. Wagner",
      "photoUrl": "",
      "userId": "17708217500073810160"
     },
     "user_tz": -60
    },
    "id": "pmvI55Oupo5C",
    "outputId": "c58780e0-0d39-4846-bcc6-5bedd0510ac1"
   },
   "outputs": [
    {
     "data": {
      "text/html": [
       "<div>\n",
       "<style scoped>\n",
       "    .dataframe tbody tr th:only-of-type {\n",
       "        vertical-align: middle;\n",
       "    }\n",
       "\n",
       "    .dataframe tbody tr th {\n",
       "        vertical-align: top;\n",
       "    }\n",
       "\n",
       "    .dataframe thead th {\n",
       "        text-align: right;\n",
       "    }\n",
       "</style>\n",
       "<table border=\"1\" class=\"dataframe\">\n",
       "  <thead>\n",
       "    <tr style=\"text-align: right;\">\n",
       "      <th></th>\n",
       "      <th>Job history</th>\n",
       "      <th>Reported income</th>\n",
       "      <th>Credit inquiries</th>\n",
       "      <th>Late payments</th>\n",
       "      <th>customer quality</th>\n",
       "      <th>customer class</th>\n",
       "    </tr>\n",
       "  </thead>\n",
       "  <tbody>\n",
       "    <tr>\n",
       "      <th>0</th>\n",
       "      <td>-0.427085</td>\n",
       "      <td>-0.316675</td>\n",
       "      <td>-0.614789</td>\n",
       "      <td>-0.728159</td>\n",
       "      <td>0.098709</td>\n",
       "      <td>3</td>\n",
       "    </tr>\n",
       "    <tr>\n",
       "      <th>1</th>\n",
       "      <td>-1.003802</td>\n",
       "      <td>0.150949</td>\n",
       "      <td>0.061695</td>\n",
       "      <td>1.333154</td>\n",
       "      <td>0.031823</td>\n",
       "      <td>2</td>\n",
       "    </tr>\n",
       "    <tr>\n",
       "      <th>2</th>\n",
       "      <td>-1.205117</td>\n",
       "      <td>-0.555176</td>\n",
       "      <td>-0.614789</td>\n",
       "      <td>1.333154</td>\n",
       "      <td>0.000962</td>\n",
       "      <td>0</td>\n",
       "    </tr>\n",
       "    <tr>\n",
       "      <th>3</th>\n",
       "      <td>-0.382479</td>\n",
       "      <td>0.463826</td>\n",
       "      <td>-0.614789</td>\n",
       "      <td>1.333154</td>\n",
       "      <td>0.018471</td>\n",
       "      <td>2</td>\n",
       "    </tr>\n",
       "    <tr>\n",
       "      <th>4</th>\n",
       "      <td>-1.192617</td>\n",
       "      <td>1.892378</td>\n",
       "      <td>-0.614789</td>\n",
       "      <td>0.302498</td>\n",
       "      <td>0.137896</td>\n",
       "      <td>4</td>\n",
       "    </tr>\n",
       "    <tr>\n",
       "      <th>...</th>\n",
       "      <td>...</td>\n",
       "      <td>...</td>\n",
       "      <td>...</td>\n",
       "      <td>...</td>\n",
       "      <td>...</td>\n",
       "      <td>...</td>\n",
       "    </tr>\n",
       "    <tr>\n",
       "      <th>9995</th>\n",
       "      <td>-0.781406</td>\n",
       "      <td>-0.070730</td>\n",
       "      <td>-0.614789</td>\n",
       "      <td>1.333154</td>\n",
       "      <td>0.015061</td>\n",
       "      <td>1</td>\n",
       "    </tr>\n",
       "    <tr>\n",
       "      <th>9996</th>\n",
       "      <td>-1.344929</td>\n",
       "      <td>-0.439090</td>\n",
       "      <td>1.414665</td>\n",
       "      <td>0.302498</td>\n",
       "      <td>0.004611</td>\n",
       "      <td>1</td>\n",
       "    </tr>\n",
       "    <tr>\n",
       "      <th>9997</th>\n",
       "      <td>0.159821</td>\n",
       "      <td>0.644409</td>\n",
       "      <td>0.061695</td>\n",
       "      <td>1.333154</td>\n",
       "      <td>0.037017</td>\n",
       "      <td>2</td>\n",
       "    </tr>\n",
       "    <tr>\n",
       "      <th>9998</th>\n",
       "      <td>-0.603925</td>\n",
       "      <td>0.119477</td>\n",
       "      <td>1.414665</td>\n",
       "      <td>-0.728159</td>\n",
       "      <td>0.122765</td>\n",
       "      <td>4</td>\n",
       "    </tr>\n",
       "    <tr>\n",
       "      <th>9999</th>\n",
       "      <td>-1.641033</td>\n",
       "      <td>-0.510223</td>\n",
       "      <td>-0.614789</td>\n",
       "      <td>1.333154</td>\n",
       "      <td>0.002211</td>\n",
       "      <td>0</td>\n",
       "    </tr>\n",
       "  </tbody>\n",
       "</table>\n",
       "<p>10000 rows × 6 columns</p>\n",
       "</div>"
      ],
      "text/plain": [
       "      Job history  Reported income  ...  customer quality  customer class\n",
       "0       -0.427085        -0.316675  ...          0.098709               3\n",
       "1       -1.003802         0.150949  ...          0.031823               2\n",
       "2       -1.205117        -0.555176  ...          0.000962               0\n",
       "3       -0.382479         0.463826  ...          0.018471               2\n",
       "4       -1.192617         1.892378  ...          0.137896               4\n",
       "...           ...              ...  ...               ...             ...\n",
       "9995    -0.781406        -0.070730  ...          0.015061               1\n",
       "9996    -1.344929        -0.439090  ...          0.004611               1\n",
       "9997     0.159821         0.644409  ...          0.037017               2\n",
       "9998    -0.603925         0.119477  ...          0.122765               4\n",
       "9999    -1.641033        -0.510223  ...          0.002211               0\n",
       "\n",
       "[10000 rows x 6 columns]"
      ]
     },
     "execution_count": 39,
     "metadata": {
      "tags": []
     },
     "output_type": "execute_result"
    }
   ],
   "source": [
    "X_B_norm"
   ]
  },
  {
   "cell_type": "code",
   "execution_count": null,
   "metadata": {
    "colab": {},
    "colab_type": "code",
    "id": "QtGzL5NngBzt"
   },
   "outputs": [],
   "source": [
    "# defs = X_A_norm[y].iloc[:,:-1]\n",
    "# non_defs = X_A_norm[y==False].iloc[:,:-1]\n",
    "# print(defs.shape,non_defs.shape)"
   ]
  },
  {
   "cell_type": "markdown",
   "metadata": {
    "colab_type": "text",
    "id": "Pnkr8IEPaW3C"
   },
   "source": [
    "Discretize variable into equal-sized buckets based on rank or based on sample quantiles. For example 1000 values for 10 quantiles would produce a Categorical object indicating quantile membership for each data point."
   ]
  },
  {
   "cell_type": "code",
   "execution_count": null,
   "metadata": {
    "colab": {
     "base_uri": "https://localhost:8080/",
     "height": 34
    },
    "colab_type": "code",
    "executionInfo": {
     "elapsed": 347,
     "status": "ok",
     "timestamp": 1589450899467,
     "user": {
      "displayName": "Benedikt J. Wagner",
      "photoUrl": "",
      "userId": "17708217500073810160"
     },
     "user_tz": -60
    },
    "id": "5KLZmUIya6UB",
    "outputId": "0418b188-02ab-41c5-a4b5-17ba45c97444"
   },
   "outputs": [
    {
     "name": "stdout",
     "output_type": "stream",
     "text": [
      "(5085, 6) (4915, 6)\n"
     ]
    }
   ],
   "source": [
    "X_A_F = X_B_norm[sex_B]\n",
    "X_A_M = X_B_norm[sex_B==False]\n",
    "print(X_A_F.shape,X_A_M.shape)"
   ]
  },
  {
   "cell_type": "code",
   "execution_count": null,
   "metadata": {
    "colab": {},
    "colab_type": "code",
    "id": "o_7xPdmj_ejP"
   },
   "outputs": [],
   "source": []
  },
  {
   "cell_type": "code",
   "execution_count": null,
   "metadata": {
    "colab": {},
    "colab_type": "code",
    "id": "fKLjhGZZbsuq"
   },
   "outputs": [],
   "source": [
    "class1F = X_A_F[X_A_F['customer class'] == 0]\n",
    "class2F = X_A_F[X_A_F['customer class'] == 1]\n",
    "class3F = X_A_F[X_A_F['customer class'] == 2]\n",
    "class4F = X_A_F[X_A_F['customer class'] == 3]\n",
    "class5F = X_A_F[X_A_F['customer class'] == 4]\n",
    "class1M = X_A_M[X_A_M['customer class'] == 0]\n",
    "class2M = X_A_M[X_A_M['customer class'] == 1]\n",
    "class3M = X_A_M[X_A_M['customer class'] == 2]\n",
    "class4M = X_A_M[X_A_M['customer class'] == 3]\n",
    "class5M = X_A_M[X_A_M['customer class'] == 4]"
   ]
  },
  {
   "cell_type": "code",
   "execution_count": null,
   "metadata": {
    "colab": {
     "base_uri": "https://localhost:8080/",
     "height": 419
    },
    "colab_type": "code",
    "executionInfo": {
     "elapsed": 370,
     "status": "ok",
     "timestamp": 1589450904591,
     "user": {
      "displayName": "Benedikt J. Wagner",
      "photoUrl": "",
      "userId": "17708217500073810160"
     },
     "user_tz": -60
    },
    "id": "iiTa0dQOyN_U",
    "outputId": "c6b8f5a6-5440-4170-d14c-a5b8ab2459b3"
   },
   "outputs": [
    {
     "data": {
      "text/html": [
       "<div>\n",
       "<style scoped>\n",
       "    .dataframe tbody tr th:only-of-type {\n",
       "        vertical-align: middle;\n",
       "    }\n",
       "\n",
       "    .dataframe tbody tr th {\n",
       "        vertical-align: top;\n",
       "    }\n",
       "\n",
       "    .dataframe thead th {\n",
       "        text-align: right;\n",
       "    }\n",
       "</style>\n",
       "<table border=\"1\" class=\"dataframe\">\n",
       "  <thead>\n",
       "    <tr style=\"text-align: right;\">\n",
       "      <th></th>\n",
       "      <th>Job history</th>\n",
       "      <th>Reported income</th>\n",
       "      <th>Credit inquiries</th>\n",
       "      <th>Late payments</th>\n",
       "      <th>customer quality</th>\n",
       "      <th>customer class</th>\n",
       "    </tr>\n",
       "  </thead>\n",
       "  <tbody>\n",
       "    <tr>\n",
       "      <th>14</th>\n",
       "      <td>-0.657942</td>\n",
       "      <td>0.748368</td>\n",
       "      <td>2.767634</td>\n",
       "      <td>1.333154</td>\n",
       "      <td>0.003796</td>\n",
       "      <td>1</td>\n",
       "    </tr>\n",
       "    <tr>\n",
       "      <th>18</th>\n",
       "      <td>-0.195440</td>\n",
       "      <td>0.273449</td>\n",
       "      <td>0.061695</td>\n",
       "      <td>1.333154</td>\n",
       "      <td>0.008075</td>\n",
       "      <td>1</td>\n",
       "    </tr>\n",
       "    <tr>\n",
       "      <th>23</th>\n",
       "      <td>-0.784525</td>\n",
       "      <td>0.904446</td>\n",
       "      <td>1.414665</td>\n",
       "      <td>0.302498</td>\n",
       "      <td>0.011983</td>\n",
       "      <td>1</td>\n",
       "    </tr>\n",
       "    <tr>\n",
       "      <th>40</th>\n",
       "      <td>-1.207946</td>\n",
       "      <td>0.902666</td>\n",
       "      <td>0.061695</td>\n",
       "      <td>1.333154</td>\n",
       "      <td>0.003760</td>\n",
       "      <td>1</td>\n",
       "    </tr>\n",
       "    <tr>\n",
       "      <th>48</th>\n",
       "      <td>-1.649408</td>\n",
       "      <td>0.046727</td>\n",
       "      <td>-0.614789</td>\n",
       "      <td>-0.728159</td>\n",
       "      <td>0.014877</td>\n",
       "      <td>1</td>\n",
       "    </tr>\n",
       "    <tr>\n",
       "      <th>...</th>\n",
       "      <td>...</td>\n",
       "      <td>...</td>\n",
       "      <td>...</td>\n",
       "      <td>...</td>\n",
       "      <td>...</td>\n",
       "      <td>...</td>\n",
       "    </tr>\n",
       "    <tr>\n",
       "      <th>9969</th>\n",
       "      <td>1.381641</td>\n",
       "      <td>-0.774827</td>\n",
       "      <td>0.738180</td>\n",
       "      <td>-0.728159</td>\n",
       "      <td>0.004279</td>\n",
       "      <td>1</td>\n",
       "    </tr>\n",
       "    <tr>\n",
       "      <th>9973</th>\n",
       "      <td>1.262467</td>\n",
       "      <td>-0.114822</td>\n",
       "      <td>0.738180</td>\n",
       "      <td>1.333154</td>\n",
       "      <td>0.004398</td>\n",
       "      <td>1</td>\n",
       "    </tr>\n",
       "    <tr>\n",
       "      <th>9987</th>\n",
       "      <td>1.343894</td>\n",
       "      <td>0.182106</td>\n",
       "      <td>0.738180</td>\n",
       "      <td>-0.728159</td>\n",
       "      <td>0.011893</td>\n",
       "      <td>1</td>\n",
       "    </tr>\n",
       "    <tr>\n",
       "      <th>9992</th>\n",
       "      <td>-0.856477</td>\n",
       "      <td>0.967530</td>\n",
       "      <td>1.414665</td>\n",
       "      <td>-0.728159</td>\n",
       "      <td>0.013503</td>\n",
       "      <td>1</td>\n",
       "    </tr>\n",
       "    <tr>\n",
       "      <th>9995</th>\n",
       "      <td>-0.781406</td>\n",
       "      <td>-0.070730</td>\n",
       "      <td>-0.614789</td>\n",
       "      <td>1.333154</td>\n",
       "      <td>0.015061</td>\n",
       "      <td>1</td>\n",
       "    </tr>\n",
       "  </tbody>\n",
       "</table>\n",
       "<p>946 rows × 6 columns</p>\n",
       "</div>"
      ],
      "text/plain": [
       "      Job history  Reported income  ...  customer quality  customer class\n",
       "14      -0.657942         0.748368  ...          0.003796               1\n",
       "18      -0.195440         0.273449  ...          0.008075               1\n",
       "23      -0.784525         0.904446  ...          0.011983               1\n",
       "40      -1.207946         0.902666  ...          0.003760               1\n",
       "48      -1.649408         0.046727  ...          0.014877               1\n",
       "...           ...              ...  ...               ...             ...\n",
       "9969     1.381641        -0.774827  ...          0.004279               1\n",
       "9973     1.262467        -0.114822  ...          0.004398               1\n",
       "9987     1.343894         0.182106  ...          0.011893               1\n",
       "9992    -0.856477         0.967530  ...          0.013503               1\n",
       "9995    -0.781406        -0.070730  ...          0.015061               1\n",
       "\n",
       "[946 rows x 6 columns]"
      ]
     },
     "execution_count": 43,
     "metadata": {
      "tags": []
     },
     "output_type": "execute_result"
    }
   ],
   "source": [
    "class2M"
   ]
  },
  {
   "cell_type": "code",
   "execution_count": null,
   "metadata": {
    "colab": {},
    "colab_type": "code",
    "id": "MsS3nWp89b7e"
   },
   "outputs": [],
   "source": [
    "inpclass1f = class1F.iloc[:,:-2].astype(np.float32).to_numpy()\n",
    "inpclass2f = class2F.iloc[:,:-2].astype(np.float32).to_numpy()\n",
    "inpclass3f = class3F.iloc[:,:-2].astype(np.float32).to_numpy()\n",
    "inpclass4f = class4F.iloc[:,:-2].astype(np.float32).to_numpy()\n",
    "inpclass5f = class5F.iloc[:,:-2].astype(np.float32).to_numpy()\n",
    "\n",
    "inpclass1m = class1M.iloc[:,:-2].astype(np.float32).to_numpy()\n",
    "inpclass2m = class2M.iloc[:,:-2].astype(np.float32).to_numpy()\n",
    "inpclass3m = class3M.iloc[:,:-2].astype(np.float32).to_numpy()\n",
    "inpclass4m = class4M.iloc[:,:-2].astype(np.float32).to_numpy()\n",
    "inpclass5m = class5M.iloc[:,:-2].astype(np.float32).to_numpy()"
   ]
  },
  {
   "cell_type": "code",
   "execution_count": null,
   "metadata": {
    "colab": {
     "base_uri": "https://localhost:8080/",
     "height": 51
    },
    "colab_type": "code",
    "executionInfo": {
     "elapsed": 403,
     "status": "ok",
     "timestamp": 1589450908164,
     "user": {
      "displayName": "Benedikt J. Wagner",
      "photoUrl": "",
      "userId": "17708217500073810160"
     },
     "user_tz": -60
    },
    "id": "KCZOH3Rkv-AO",
    "outputId": "00ffc34e-89d6-4af1-949c-514b994f0fe1"
   },
   "outputs": [
    {
     "data": {
      "text/plain": [
       "{'forall ?data_defB: D(?data_defB)': tensor([0.6162], device='cuda:0', grad_fn=<MulBackward0>),\n",
       " 'forall ?data_ndefB: ~D(?data_ndefB)': tensor([0.6162], device='cuda:0', grad_fn=<MulBackward0>)}"
      ]
     },
     "execution_count": 45,
     "metadata": {
      "tags": []
     },
     "output_type": "execute_result"
    }
   ],
   "source": [
    "ltnw.AXIOMS"
   ]
  },
  {
   "cell_type": "code",
   "execution_count": null,
   "metadata": {
    "colab": {
     "base_uri": "https://localhost:8080/",
     "height": 136
    },
    "colab_type": "code",
    "executionInfo": {
     "elapsed": 362,
     "status": "ok",
     "timestamp": 1589450912026,
     "user": {
      "displayName": "Benedikt J. Wagner",
      "photoUrl": "",
      "userId": "17708217500073810160"
     },
     "user_tz": -60
    },
    "id": "EFzVdpYMk_IA",
    "outputId": "6c0f2589-3d3a-4382-c6f7-4071f573986c"
   },
   "outputs": [
    {
     "data": {
      "text/plain": [
       "tensor([[ 0.2824,  0.4560, -0.6148,  0.3025],\n",
       "        [-0.5601,  0.4195, -0.6148, -0.7282],\n",
       "        [ 0.7287,  0.6018,  0.7382,  0.3025],\n",
       "        ...,\n",
       "        [ 0.1843, -0.8009, -0.6148, -0.7282],\n",
       "        [ 1.2814,  1.1268, -0.6148,  0.3025],\n",
       "        [ 0.1331,  1.1190, -0.6148, -1.7588]])"
      ]
     },
     "execution_count": 46,
     "metadata": {
      "tags": []
     },
     "output_type": "execute_result"
    }
   ],
   "source": [
    "ltnw.variable(\"?class1F\",inpclass1f)\n",
    "ltnw.variable(\"?class2F\",inpclass2f)\n",
    "ltnw.variable(\"?class3F\",inpclass3f)\n",
    "ltnw.variable(\"?class4F\",inpclass4f)\n",
    "ltnw.variable(\"?class5F\",inpclass5f)\n",
    "\n",
    "ltnw.variable(\"?class1M\",inpclass1m)\n",
    "ltnw.variable(\"?class2M\",inpclass2m)\n",
    "ltnw.variable(\"?class3M\",inpclass3m)\n",
    "ltnw.variable(\"?class4M\",inpclass4m)\n",
    "ltnw.variable(\"?class5M\",inpclass5m)"
   ]
  },
  {
   "cell_type": "code",
   "execution_count": null,
   "metadata": {
    "colab": {},
    "colab_type": "code",
    "id": "ZLejVk5Nz0Xw"
   },
   "outputs": [],
   "source": [
    "ltnw.AXIOMS = {}"
   ]
  },
  {
   "cell_type": "code",
   "execution_count": null,
   "metadata": {
    "colab": {
     "base_uri": "https://localhost:8080/",
     "height": 34
    },
    "colab_type": "code",
    "executionInfo": {
     "elapsed": 364,
     "status": "ok",
     "timestamp": 1589451067910,
     "user": {
      "displayName": "Benedikt J. Wagner",
      "photoUrl": "",
      "userId": "17708217500073810160"
     },
     "user_tz": -60
    },
    "id": "XSIMQz-1k_Ka",
    "outputId": "46632217-f7b8-4ecb-b096-8872dc2b49b7"
   },
   "outputs": [
    {
     "data": {
      "text/plain": [
       "tensor([0.7802], device='cuda:0', grad_fn=<MulBackward0>)"
      ]
     },
     "execution_count": 56,
     "metadata": {
      "tags": []
     },
     "output_type": "execute_result"
    }
   ],
   "source": [
    "ltnw.axiom(\"forall ?class1F, ?class1M: D(?class1F) % D(?class1M)\")\n",
    "ltnw.axiom(\"forall ?class2F, ?class2M: D(?class2F) % D(?class2M)\")\n",
    "# ltnw.axiom(\"forall ?class3F, ?class3M: D(?class3F) % D(?class3M)\")\n",
    "ltnw.axiom(\"forall ?class4F, ?class4M: D(?class4F) % D(?class4M)\")\n",
    "# ltnw.axiom(\"forall ?class5F, ?class5M: D(?class5F) % D(?class5M)\")"
   ]
  },
  {
   "cell_type": "code",
   "execution_count": null,
   "metadata": {
    "colab": {
     "base_uri": "https://localhost:8080/",
     "height": 102
    },
    "colab_type": "code",
    "executionInfo": {
     "elapsed": 390,
     "status": "ok",
     "timestamp": 1589451081965,
     "user": {
      "displayName": "Benedikt J. Wagner",
      "photoUrl": "",
      "userId": "17708217500073810160"
     },
     "user_tz": -60
    },
    "id": "KLY-JZ_NqrDT",
    "outputId": "f06d582c-49f6-4684-8433-c6ddf708a017"
   },
   "outputs": [
    {
     "data": {
      "text/plain": [
       "{'forall ?class1F, ?class1M: D(?class1F) % D(?class1M)': tensor([0.7505], device='cuda:0', grad_fn=<MulBackward0>),\n",
       " 'forall ?class2F, ?class2M: D(?class2F) % D(?class2M)': tensor([0.7377], device='cuda:0', grad_fn=<MulBackward0>),\n",
       " 'forall ?class4F, ?class4M: D(?class4F) % D(?class4M)': tensor([0.7802], device='cuda:0', grad_fn=<MulBackward0>),\n",
       " 'forall ?data_defB: D(?data_defB)': tensor([0.6162], device='cuda:0', grad_fn=<MulBackward0>),\n",
       " 'forall ?data_ndefB: ~D(?data_ndefB)': tensor([0.6163], device='cuda:0', grad_fn=<MulBackward0>)}"
      ]
     },
     "execution_count": 57,
     "metadata": {
      "tags": []
     },
     "output_type": "execute_result"
    }
   ],
   "source": [
    "ltnw.AXIOMS"
   ]
  },
  {
   "cell_type": "code",
   "execution_count": null,
   "metadata": {
    "colab": {
     "base_uri": "https://localhost:8080/",
     "height": 136
    },
    "colab_type": "code",
    "executionInfo": {
     "elapsed": 405,
     "status": "ok",
     "timestamp": 1589450966023,
     "user": {
      "displayName": "Benedikt J. Wagner",
      "photoUrl": "",
      "userId": "17708217500073810160"
     },
     "user_tz": -60
    },
    "id": "YDZa018DxjhE",
    "outputId": "c723d2ea-78d7-4520-e7a6-02a21eda24be"
   },
   "outputs": [
    {
     "data": {
      "text/plain": [
       "{'forall ?class1F, ?class1M: D(?class1F) % D(?class1M)': tensor([0.7505], device='cuda:0', grad_fn=<MulBackward0>),\n",
       " 'forall ?class2F, ?class2M: D(?class2F) % D(?class2M)': tensor([0.7377], device='cuda:0', grad_fn=<MulBackward0>),\n",
       " 'forall ?class3F, ?class3M: D(?class3F) % D(?class3M)': tensor([1.], device='cuda:0', grad_fn=<CopyBackwards>),\n",
       " 'forall ?class4F, ?class4M: D(?class4F) % D(?class4M)': tensor([0.7802], device='cuda:0', grad_fn=<MulBackward0>),\n",
       " 'forall ?class5F, ?class5M: D(?class5F) % D(?class5M)': tensor([1.], device='cuda:0', grad_fn=<CopyBackwards>),\n",
       " 'forall ?data_defB: D(?data_defB)': tensor([0.6162], device='cuda:0', grad_fn=<MulBackward0>),\n",
       " 'forall ?data_ndefB: ~D(?data_ndefB)': tensor([0.6162], device='cuda:0', grad_fn=<MulBackward0>)}"
      ]
     },
     "execution_count": 52,
     "metadata": {
      "tags": []
     },
     "output_type": "execute_result"
    }
   ],
   "source": [
    "import torch\n",
    "device = torch.device('cuda' if torch.cuda.is_available() else 'cpu')\n",
    "for i in ltnw.AXIOMS:\n",
    "  ltnw.AXIOMS[\"{axi}\".format(axi=i)] = ltnw.AXIOMS[\"{axi}\".format(axi=i)].to(device)\n",
    "ltnw.AXIOMS"
   ]
  },
  {
   "cell_type": "code",
   "execution_count": null,
   "metadata": {
    "colab": {},
    "colab_type": "code",
    "id": "ANOJP8TR13Fi"
   },
   "outputs": [],
   "source": [
    "# ltnw.AXIOMS.values().to(device)"
   ]
  },
  {
   "cell_type": "code",
   "execution_count": null,
   "metadata": {
    "colab": {
     "base_uri": "https://localhost:8080/",
     "height": 136
    },
    "colab_type": "code",
    "executionInfo": {
     "elapsed": 366,
     "status": "ok",
     "timestamp": 1589450952723,
     "user": {
      "displayName": "Benedikt J. Wagner",
      "photoUrl": "",
      "userId": "17708217500073810160"
     },
     "user_tz": -60
    },
    "id": "Yxar3qk0_wVJ",
    "outputId": "67614b02-bd34-4dbb-d2f6-eb8f4d5c5972"
   },
   "outputs": [
    {
     "data": {
      "text/plain": [
       "{'forall ?class1F, ?class1M: D(?class1F) % D(?class1M)': tensor([0.7505], device='cuda:0', grad_fn=<MulBackward0>),\n",
       " 'forall ?class2F, ?class2M: D(?class2F) % D(?class2M)': tensor([0.7377], device='cuda:0', grad_fn=<MulBackward0>),\n",
       " 'forall ?class3F, ?class3M: D(?class3F) % D(?class3M)': tensor([1.], requires_grad=True),\n",
       " 'forall ?class4F, ?class4M: D(?class4F) % D(?class4M)': tensor([0.7802], device='cuda:0', grad_fn=<MulBackward0>),\n",
       " 'forall ?class5F, ?class5M: D(?class5F) % D(?class5M)': tensor([1.], requires_grad=True),\n",
       " 'forall ?data_defB: D(?data_defB)': tensor([0.6162], device='cuda:0', grad_fn=<MulBackward0>),\n",
       " 'forall ?data_ndefB: ~D(?data_ndefB)': tensor([0.6162], device='cuda:0', grad_fn=<MulBackward0>)}"
      ]
     },
     "execution_count": 51,
     "metadata": {
      "tags": []
     },
     "output_type": "execute_result"
    }
   ],
   "source": [
    "ltnw.AXIOMS"
   ]
  },
  {
   "cell_type": "code",
   "execution_count": null,
   "metadata": {
    "colab": {
     "base_uri": "https://localhost:8080/",
     "height": 408
    },
    "colab_type": "code",
    "executionInfo": {
     "elapsed": 1032809,
     "status": "ok",
     "timestamp": 1589452127822,
     "user": {
      "displayName": "Benedikt J. Wagner",
      "photoUrl": "",
      "userId": "17708217500073810160"
     },
     "user_tz": -60
    },
    "id": "2JIa_jpBw9LC",
    "outputId": "de3744fd-f652-442c-cc5a-a953b8a2fb56"
   },
   "outputs": [
    {
     "name": "stderr",
     "output_type": "stream",
     "text": [
      "INFO:logictensornetworks_wrapper:Initializing knowledgebase\n",
      "INFO:logictensornetworks_wrapper:Initializing optimizer\n",
      "INFO:logictensornetworks_wrapper:INITIALIZED with sat level = tensor(0.7002, device='cuda:0', grad_fn=<RsubBackward1>)\n",
      "INFO:logictensornetworks_wrapper:TRAINING 0 sat level -----> tensor(0.7002, device='cuda:0', grad_fn=<MeanBackward0>)\n",
      "INFO:logictensornetworks_wrapper:TRAINING 500 sat level -----> tensor(0.7884, device='cuda:0', grad_fn=<MeanBackward0>)\n",
      "INFO:logictensornetworks_wrapper:TRAINING 1000 sat level -----> tensor(0.7998, device='cuda:0', grad_fn=<MeanBackward0>)\n",
      "INFO:logictensornetworks_wrapper:TRAINING 1500 sat level -----> tensor(0.8000, device='cuda:0', grad_fn=<MeanBackward0>)\n",
      "INFO:logictensornetworks_wrapper:TRAINING 2000 sat level -----> tensor(0.8000, device='cuda:0', grad_fn=<MeanBackward0>)\n",
      "INFO:logictensornetworks_wrapper:TRAINING 2500 sat level -----> tensor(0.8000, device='cuda:0', grad_fn=<MeanBackward0>)\n",
      "INFO:logictensornetworks_wrapper:TRAINING 3000 sat level -----> tensor(0.8000, device='cuda:0', grad_fn=<MeanBackward0>)\n",
      "INFO:logictensornetworks_wrapper:TRAINING 3500 sat level -----> tensor(0.8000, device='cuda:0', grad_fn=<MeanBackward0>)\n",
      "INFO:logictensornetworks_wrapper:TRAINING 4000 sat level -----> tensor(0.8000, device='cuda:0', grad_fn=<MeanBackward0>)\n",
      "INFO:logictensornetworks_wrapper:TRAINING 4500 sat level -----> tensor(0.8000, device='cuda:0', grad_fn=<MeanBackward0>)\n",
      "INFO:logictensornetworks_wrapper:TRAINING 5000 sat level -----> tensor(0.8000, device='cuda:0', grad_fn=<MeanBackward0>)\n",
      "INFO:logictensornetworks_wrapper:TRAINING 5500 sat level -----> tensor(0.8000, device='cuda:0', grad_fn=<MeanBackward0>)\n",
      "INFO:logictensornetworks_wrapper:TRAINING 6000 sat level -----> tensor(0.8000, device='cuda:0', grad_fn=<MeanBackward0>)\n",
      "INFO:logictensornetworks_wrapper:TRAINING 6500 sat level -----> tensor(0.8000, device='cuda:0', grad_fn=<MeanBackward0>)\n",
      "INFO:logictensornetworks_wrapper:TRAINING 7000 sat level -----> tensor(0.8000, device='cuda:0', grad_fn=<MeanBackward0>)\n",
      "INFO:logictensornetworks_wrapper:TRAINING 7500 sat level -----> tensor(0.8000, device='cuda:0', grad_fn=<MeanBackward0>)\n",
      "INFO:logictensornetworks_wrapper:TRAINING 8000 sat level -----> tensor(0.8000, device='cuda:0', grad_fn=<MeanBackward0>)\n",
      "INFO:logictensornetworks_wrapper:TRAINING 8500 sat level -----> tensor(0.8000, device='cuda:0', grad_fn=<MeanBackward0>)\n",
      "INFO:logictensornetworks_wrapper:TRAINING 9000 sat level -----> tensor(0.8000, device='cuda:0', grad_fn=<MeanBackward0>)\n",
      "INFO:logictensornetworks_wrapper:TRAINING 9500 sat level -----> tensor(0.8000, device='cuda:0', grad_fn=<MeanBackward0>)\n"
     ]
    }
   ],
   "source": [
    "logger.setLevel(logging.INFO)\n",
    "\n",
    "ltnw.initialize_knowledgebase(initial_sat_level_threshold=.99)\n",
    "sat_level=ltnw.train(track_sat_levels=500, sat_level_epsilon=.01,max_epochs=10000)"
   ]
  },
  {
   "cell_type": "code",
   "execution_count": null,
   "metadata": {
    "colab": {
     "base_uri": "https://localhost:8080/",
     "height": 83,
     "referenced_widgets": [
      "50198712402e431281a85b38146f1cfe",
      "81daa7ab23304f1f9de9069e9296e139",
      "fa4ffb9ef11347528232d28353526ffe",
      "7ed7264755e54760b6c3cd4cd9c68900",
      "5ce92712243d41a992bc5612ea09e3f6",
      "ada0ff3f8fd9447d9e985aa74302176c",
      "4eba57de3aac41e097395c2854b1d8c4",
      "9a419b65c24d4746ae981f79db2b1dd3"
     ]
    },
    "colab_type": "code",
    "executionInfo": {
     "elapsed": 310674,
     "status": "ok",
     "timestamp": 1589452801903,
     "user": {
      "displayName": "Benedikt J. Wagner",
      "photoUrl": "",
      "userId": "17708217500073810160"
     },
     "user_tz": -60
    },
    "id": "zGWqo1NYxVki",
    "outputId": "0a217824-2cef-4408-8f4b-6ee61b10c5ff"
   },
   "outputs": [
    {
     "data": {
      "application/vnd.jupyter.widget-view+json": {
       "model_id": "50198712402e431281a85b38146f1cfe",
       "version_major": 2,
       "version_minor": 0
      },
      "text/plain": [
       "HBox(children=(FloatProgress(value=0.0, max=10000.0), HTML(value='')))"
      ]
     },
     "metadata": {
      "tags": []
     },
     "output_type": "display_data"
    },
    {
     "name": "stderr",
     "output_type": "stream",
     "text": [
      "l1_reg=\"auto\" is deprecated and in the next version (v0.29) the behavior will change from a conditional use of AIC to simply \"num_features(10)\"!\n"
     ]
    },
    {
     "name": "stdout",
     "output_type": "stream",
     "text": [
      "\n"
     ]
    }
   ],
   "source": [
    "logger.setLevel(logging.CRITICAL)\n",
    "explainer_C = shap.KernelExplainer(f, shap.sample(X_B_norm.iloc[:,:-2], 100))\n",
    "shap_values_C = explainer_C.shap_values(X_B_norm.iloc[:,:-2])"
   ]
  },
  {
   "cell_type": "code",
   "execution_count": null,
   "metadata": {
    "colab": {
     "base_uri": "https://localhost:8080/",
     "height": 34
    },
    "colab_type": "code",
    "executionInfo": {
     "elapsed": 1708,
     "status": "ok",
     "timestamp": 1589391203720,
     "user": {
      "displayName": "Benedikt J. Wagner",
      "photoUrl": "",
      "userId": "17708217500073810160"
     },
     "user_tz": -60
    },
    "id": "Mhzh0KoWGMN8",
    "outputId": "a02a1cfb-5e0b-4736-9f7d-a137336fb9f6"
   },
   "outputs": [
    {
     "data": {
      "text/plain": [
       "(10000, 4)"
      ]
     },
     "execution_count": 84,
     "metadata": {
      "tags": []
     },
     "output_type": "execute_result"
    }
   ],
   "source": [
    "shap_values_C[0].shape"
   ]
  },
  {
   "cell_type": "code",
   "execution_count": null,
   "metadata": {
    "colab": {
     "base_uri": "https://localhost:8080/",
     "height": 282
    },
    "colab_type": "code",
    "executionInfo": {
     "elapsed": 541,
     "status": "ok",
     "timestamp": 1589453156072,
     "user": {
      "displayName": "Benedikt J. Wagner",
      "photoUrl": "",
      "userId": "17708217500073810160"
     },
     "user_tz": -60
    },
    "id": "iCol7ZFlBw1G",
    "outputId": "439a408b-7821-4983-b310-bd2f41457266"
   },
   "outputs": [
    {
     "data": {
      "text/plain": [
       "<BarContainer object of 1 artists>"
      ]
     },
     "execution_count": 67,
     "metadata": {
      "tags": []
     },
     "output_type": "execute_result"
    },
    {
     "data": {
      "image/png": "[encoded data removed]",
      "text/plain": [
       "<Figure size 432x288 with 1 Axes>"
      ]
     },
     "metadata": {
      "image/png": {
       "height": 248,
       "width": 375
      },
      "needs_background": "light",
      "tags": []
     },
     "output_type": "display_data"
    }
   ],
   "source": [
    "fig, ax = plt.subplots()\n",
    "# ax.set_xlim(-0.00005, 0.00005)\n",
    "ax.set_xlim(-0.04, 0.04)\n",
    "ax.get_yaxis().set_visible(False)\n",
    "ax.set_xlabel = glabel\n",
    "ax.barh(0,height=0.1, width=(shap_values_C[0].sum(1)[sex_B].mean()-shap_values_C[0].sum(1)[sex_B==False].mean()))"
   ]
  },
  {
   "cell_type": "code",
   "execution_count": null,
   "metadata": {
    "colab": {
     "base_uri": "https://localhost:8080/",
     "height": 282
    },
    "colab_type": "code",
    "executionInfo": {
     "elapsed": 561,
     "status": "ok",
     "timestamp": 1589453180399,
     "user": {
      "displayName": "Benedikt J. Wagner",
      "photoUrl": "",
      "userId": "17708217500073810160"
     },
     "user_tz": -60
    },
    "id": "KaxmfSM0B2Y5",
    "outputId": "2eb7dfc9-2604-4acc-bbb6-ef6c04e5d584"
   },
   "outputs": [
    {
     "data": {
      "text/plain": [
       "<BarContainer object of 4 artists>"
      ]
     },
     "execution_count": 69,
     "metadata": {
      "tags": []
     },
     "output_type": "execute_result"
    },
    {
     "data": {
      "image/png": "[encoded data removed]",
      "text/plain": [
       "<Figure size 432x288 with 1 Axes>"
      ]
     },
     "metadata": {
      "image/png": {
       "height": 248,
       "width": 375
      },
      "needs_background": "light",
      "tags": []
     },
     "output_type": "display_data"
    }
   ],
   "source": [
    "fig, ax = plt.subplots()\n",
    "# ax.set_xlim(-0.00005, 0.00005)\n",
    "ax.set_xlim(-0.04, 0.04)\n",
    "ax.get_yaxis().set_visible(False)\n",
    "ax.set_xlabel = glabel\n",
    "wdt = [shap_values_C[0][:,0][sex_B].mean() - shap_values_C[0][:,0][sex_B==False].mean(),\n",
    "       shap_values_C[0][:,1][sex_B].mean() - shap_values_C[0][:,1][sex_B==False].mean(),\n",
    "       shap_values_C[0][:,2][sex_B].mean() - shap_values_C[0][:,2][sex_B==False].mean(),\n",
    "       shap_values_C[0][:,3][sex_B].mean() - shap_values_C[0][:,3][sex_B==False].mean()]\n",
    "ax.barh(y=[1,2,3,4], width=wdt)"
   ]
  },
  {
   "cell_type": "code",
   "execution_count": null,
   "metadata": {
    "colab": {
     "base_uri": "https://localhost:8080/",
     "height": 34
    },
    "colab_type": "code",
    "executionInfo": {
     "elapsed": 861,
     "status": "ok",
     "timestamp": 1589391259235,
     "user": {
      "displayName": "Benedikt J. Wagner",
      "photoUrl": "",
      "userId": "17708217500073810160"
     },
     "user_tz": -60
    },
    "id": "EXE3BUXcEf2m",
    "outputId": "f9d3fd0f-854f-40e2-c67e-7a60b6c8fdbe"
   },
   "outputs": [
    {
     "data": {
      "text/plain": [
       "3.819995483270322e-07"
      ]
     },
     "execution_count": 88,
     "metadata": {
      "tags": []
     },
     "output_type": "execute_result"
    }
   ],
   "source": [
    "shap_values_C[0][:,0][sex_B].mean() - shap_values_C[0][:,0][sex_B==False].mean()"
   ]
  },
  {
   "cell_type": "code",
   "execution_count": null,
   "metadata": {
    "colab": {},
    "colab_type": "code",
    "id": "LMFZtvUQGfKf"
   },
   "outputs": [],
   "source": []
  }
 ],
 "metadata": {
  "accelerator": "GPU",
  "colab": {
   "collapsed_sections": [],
   "name": "FairnessLTN.ipynb",
   "provenance": []
  },
  "kernelspec": {
   "display_name": "Python (tf2)",
   "language": "python",
   "name": "tf2"
  },
  "language_info": {
   "codemirror_mode": {
    "name": "ipython",
    "version": 3
   },
   "file_extension": ".py",
   "mimetype": "text/x-python",
   "name": "python",
   "nbconvert_exporter": "python",
   "pygments_lexer": "ipython3",
   "version": "3.7.7"
  },
  "widgets": {
   "application/vnd.jupyter.widget-state+json": {
    "0b6ee18ff2a240169b13fdd40555a780": {
     "model_module": "@jupyter-widgets/base",
     "model_name": "LayoutModel",
     "state": {
      "_model_module": "@jupyter-widgets/base",
      "_model_module_version": "1.2.0",
      "_model_name": "LayoutModel",
      "_view_count": null,
      "_view_module": "@jupyter-widgets/base",
      "_view_module_version": "1.2.0",
      "_view_name": "LayoutView",
      "align_content": null,
      "align_items": null,
      "align_self": null,
      "border": null,
      "bottom": null,
      "display": null,
      "flex": null,
      "flex_flow": null,
      "grid_area": null,
      "grid_auto_columns": null,
      "grid_auto_flow": null,
      "grid_auto_rows": null,
      "grid_column": null,
      "grid_gap": null,
      "grid_row": null,
      "grid_template_areas": null,
      "grid_template_columns": null,
      "grid_template_rows": null,
      "height": null,
      "justify_content": null,
      "justify_items": null,
      "left": null,
      "margin": null,
      "max_height": null,
      "max_width": null,
      "min_height": null,
      "min_width": null,
      "object_fit": null,
      "object_position": null,
      "order": null,
      "overflow": null,
      "overflow_x": null,
      "overflow_y": null,
      "padding": null,
      "right": null,
      "top": null,
      "visibility": null,
      "width": null
     }
    },
    "15b8d5c932d545b0942bd9ef6388e5dd": {
     "model_module": "@jupyter-widgets/controls",
     "model_name": "ProgressStyleModel",
     "state": {
      "_model_module": "@jupyter-widgets/controls",
      "_model_module_version": "1.5.0",
      "_model_name": "ProgressStyleModel",
      "_view_count": null,
      "_view_module": "@jupyter-widgets/base",
      "_view_module_version": "1.2.0",
      "_view_name": "StyleView",
      "bar_color": null,
      "description_width": "initial"
     }
    },
    "1c7b53f8227a4fd4bc80e51b0abd5fec": {
     "model_module": "@jupyter-widgets/controls",
     "model_name": "FloatProgressModel",
     "state": {
      "_dom_classes": [],
      "_model_module": "@jupyter-widgets/controls",
      "_model_module_version": "1.5.0",
      "_model_name": "FloatProgressModel",
      "_view_count": null,
      "_view_module": "@jupyter-widgets/controls",
      "_view_module_version": "1.5.0",
      "_view_name": "ProgressView",
      "bar_style": "success",
      "description": "100%",
      "description_tooltip": null,
      "layout": "IPY_MODEL_dabd4400ba5b452b94975beb3cbd4d99",
      "max": 10000,
      "min": 0,
      "orientation": "horizontal",
      "style": "IPY_MODEL_b2f628f52d684638bb4e09578fafdf80",
      "value": 10000
     }
    },
    "2630d2da2bb740bdb526628e541c7df2": {
     "model_module": "@jupyter-widgets/controls",
     "model_name": "HTMLModel",
     "state": {
      "_dom_classes": [],
      "_model_module": "@jupyter-widgets/controls",
      "_model_module_version": "1.5.0",
      "_model_name": "HTMLModel",
      "_view_count": null,
      "_view_module": "@jupyter-widgets/controls",
      "_view_module_version": "1.5.0",
      "_view_name": "HTMLView",
      "description": "",
      "description_tooltip": null,
      "layout": "IPY_MODEL_29d59a2d0a4c4180b4f74afb39202268",
      "placeholder": "​",
      "style": "IPY_MODEL_5b06b60deca34911a8f0e25c4fe411dc",
      "value": " 10000/10000 [22:09&lt;00:00,  7.52it/s]"
     }
    },
    "29d59a2d0a4c4180b4f74afb39202268": {
     "model_module": "@jupyter-widgets/base",
     "model_name": "LayoutModel",
     "state": {
      "_model_module": "@jupyter-widgets/base",
      "_model_module_version": "1.2.0",
      "_model_name": "LayoutModel",
      "_view_count": null,
      "_view_module": "@jupyter-widgets/base",
      "_view_module_version": "1.2.0",
      "_view_name": "LayoutView",
      "align_content": null,
      "align_items": null,
      "align_self": null,
      "border": null,
      "bottom": null,
      "display": null,
      "flex": null,
      "flex_flow": null,
      "grid_area": null,
      "grid_auto_columns": null,
      "grid_auto_flow": null,
      "grid_auto_rows": null,
      "grid_column": null,
      "grid_gap": null,
      "grid_row": null,
      "grid_template_areas": null,
      "grid_template_columns": null,
      "grid_template_rows": null,
      "height": null,
      "justify_content": null,
      "justify_items": null,
      "left": null,
      "margin": null,
      "max_height": null,
      "max_width": null,
      "min_height": null,
      "min_width": null,
      "object_fit": null,
      "object_position": null,
      "order": null,
      "overflow": null,
      "overflow_x": null,
      "overflow_y": null,
      "padding": null,
      "right": null,
      "top": null,
      "visibility": null,
      "width": null
     }
    },
    "29d6ba5313a64f979dd4919e6a8975da": {
     "model_module": "@jupyter-widgets/controls",
     "model_name": "HBoxModel",
     "state": {
      "_dom_classes": [],
      "_model_module": "@jupyter-widgets/controls",
      "_model_module_version": "1.5.0",
      "_model_name": "HBoxModel",
      "_view_count": null,
      "_view_module": "@jupyter-widgets/controls",
      "_view_module_version": "1.5.0",
      "_view_name": "HBoxView",
      "box_style": "",
      "children": [
       "IPY_MODEL_1c7b53f8227a4fd4bc80e51b0abd5fec",
       "IPY_MODEL_2630d2da2bb740bdb526628e541c7df2"
      ],
      "layout": "IPY_MODEL_9d3574fb2bab4815a47a53e439b82c86"
     }
    },
    "4eba57de3aac41e097395c2854b1d8c4": {
     "model_module": "@jupyter-widgets/controls",
     "model_name": "DescriptionStyleModel",
     "state": {
      "_model_module": "@jupyter-widgets/controls",
      "_model_module_version": "1.5.0",
      "_model_name": "DescriptionStyleModel",
      "_view_count": null,
      "_view_module": "@jupyter-widgets/base",
      "_view_module_version": "1.2.0",
      "_view_name": "StyleView",
      "description_width": ""
     }
    },
    "50198712402e431281a85b38146f1cfe": {
     "model_module": "@jupyter-widgets/controls",
     "model_name": "HBoxModel",
     "state": {
      "_dom_classes": [],
      "_model_module": "@jupyter-widgets/controls",
      "_model_module_version": "1.5.0",
      "_model_name": "HBoxModel",
      "_view_count": null,
      "_view_module": "@jupyter-widgets/controls",
      "_view_module_version": "1.5.0",
      "_view_name": "HBoxView",
      "box_style": "",
      "children": [
       "IPY_MODEL_fa4ffb9ef11347528232d28353526ffe",
       "IPY_MODEL_7ed7264755e54760b6c3cd4cd9c68900"
      ],
      "layout": "IPY_MODEL_81daa7ab23304f1f9de9069e9296e139"
     }
    },
    "5b06b60deca34911a8f0e25c4fe411dc": {
     "model_module": "@jupyter-widgets/controls",
     "model_name": "DescriptionStyleModel",
     "state": {
      "_model_module": "@jupyter-widgets/controls",
      "_model_module_version": "1.5.0",
      "_model_name": "DescriptionStyleModel",
      "_view_count": null,
      "_view_module": "@jupyter-widgets/base",
      "_view_module_version": "1.2.0",
      "_view_name": "StyleView",
      "description_width": ""
     }
    },
    "5ce92712243d41a992bc5612ea09e3f6": {
     "model_module": "@jupyter-widgets/controls",
     "model_name": "ProgressStyleModel",
     "state": {
      "_model_module": "@jupyter-widgets/controls",
      "_model_module_version": "1.5.0",
      "_model_name": "ProgressStyleModel",
      "_view_count": null,
      "_view_module": "@jupyter-widgets/base",
      "_view_module_version": "1.2.0",
      "_view_name": "StyleView",
      "bar_color": null,
      "description_width": "initial"
     }
    },
    "7ed7264755e54760b6c3cd4cd9c68900": {
     "model_module": "@jupyter-widgets/controls",
     "model_name": "HTMLModel",
     "state": {
      "_dom_classes": [],
      "_model_module": "@jupyter-widgets/controls",
      "_model_module_version": "1.5.0",
      "_model_name": "HTMLModel",
      "_view_count": null,
      "_view_module": "@jupyter-widgets/controls",
      "_view_module_version": "1.5.0",
      "_view_name": "HTMLView",
      "description": "",
      "description_tooltip": null,
      "layout": "IPY_MODEL_9a419b65c24d4746ae981f79db2b1dd3",
      "placeholder": "​",
      "style": "IPY_MODEL_4eba57de3aac41e097395c2854b1d8c4",
      "value": " 10000/10000 [05:10&lt;00:00, 32.23it/s]"
     }
    },
    "7eea8d0283a84a9fbe86bb546cb92fae": {
     "model_module": "@jupyter-widgets/controls",
     "model_name": "HBoxModel",
     "state": {
      "_dom_classes": [],
      "_model_module": "@jupyter-widgets/controls",
      "_model_module_version": "1.5.0",
      "_model_name": "HBoxModel",
      "_view_count": null,
      "_view_module": "@jupyter-widgets/controls",
      "_view_module_version": "1.5.0",
      "_view_name": "HBoxView",
      "box_style": "",
      "children": [
       "IPY_MODEL_99d7c258453f43b09afb263f0647c629",
       "IPY_MODEL_97f62db4432f4e32aa71928c04598ff8"
      ],
      "layout": "IPY_MODEL_f174e202ef7c4ca39e484c44181a004b"
     }
    },
    "81daa7ab23304f1f9de9069e9296e139": {
     "model_module": "@jupyter-widgets/base",
     "model_name": "LayoutModel",
     "state": {
      "_model_module": "@jupyter-widgets/base",
      "_model_module_version": "1.2.0",
      "_model_name": "LayoutModel",
      "_view_count": null,
      "_view_module": "@jupyter-widgets/base",
      "_view_module_version": "1.2.0",
      "_view_name": "LayoutView",
      "align_content": null,
      "align_items": null,
      "align_self": null,
      "border": null,
      "bottom": null,
      "display": null,
      "flex": null,
      "flex_flow": null,
      "grid_area": null,
      "grid_auto_columns": null,
      "grid_auto_flow": null,
      "grid_auto_rows": null,
      "grid_column": null,
      "grid_gap": null,
      "grid_row": null,
      "grid_template_areas": null,
      "grid_template_columns": null,
      "grid_template_rows": null,
      "height": null,
      "justify_content": null,
      "justify_items": null,
      "left": null,
      "margin": null,
      "max_height": null,
      "max_width": null,
      "min_height": null,
      "min_width": null,
      "object_fit": null,
      "object_position": null,
      "order": null,
      "overflow": null,
      "overflow_x": null,
      "overflow_y": null,
      "padding": null,
      "right": null,
      "top": null,
      "visibility": null,
      "width": null
     }
    },
    "97f62db4432f4e32aa71928c04598ff8": {
     "model_module": "@jupyter-widgets/controls",
     "model_name": "HTMLModel",
     "state": {
      "_dom_classes": [],
      "_model_module": "@jupyter-widgets/controls",
      "_model_module_version": "1.5.0",
      "_model_name": "HTMLModel",
      "_view_count": null,
      "_view_module": "@jupyter-widgets/controls",
      "_view_module_version": "1.5.0",
      "_view_name": "HTMLView",
      "description": "",
      "description_tooltip": null,
      "layout": "IPY_MODEL_b282641a7f1b42589d8c8fdcaaa6b312",
      "placeholder": "​",
      "style": "IPY_MODEL_9a6af53ff2724caf91f47b754702e815",
      "value": " 10000/10000 [07:28&lt;00:00, 22.28it/s]"
     }
    },
    "99d7c258453f43b09afb263f0647c629": {
     "model_module": "@jupyter-widgets/controls",
     "model_name": "FloatProgressModel",
     "state": {
      "_dom_classes": [],
      "_model_module": "@jupyter-widgets/controls",
      "_model_module_version": "1.5.0",
      "_model_name": "FloatProgressModel",
      "_view_count": null,
      "_view_module": "@jupyter-widgets/controls",
      "_view_module_version": "1.5.0",
      "_view_name": "ProgressView",
      "bar_style": "success",
      "description": "100%",
      "description_tooltip": null,
      "layout": "IPY_MODEL_0b6ee18ff2a240169b13fdd40555a780",
      "max": 10000,
      "min": 0,
      "orientation": "horizontal",
      "style": "IPY_MODEL_15b8d5c932d545b0942bd9ef6388e5dd",
      "value": 10000
     }
    },
    "9a419b65c24d4746ae981f79db2b1dd3": {
     "model_module": "@jupyter-widgets/base",
     "model_name": "LayoutModel",
     "state": {
      "_model_module": "@jupyter-widgets/base",
      "_model_module_version": "1.2.0",
      "_model_name": "LayoutModel",
      "_view_count": null,
      "_view_module": "@jupyter-widgets/base",
      "_view_module_version": "1.2.0",
      "_view_name": "LayoutView",
      "align_content": null,
      "align_items": null,
      "align_self": null,
      "border": null,
      "bottom": null,
      "display": null,
      "flex": null,
      "flex_flow": null,
      "grid_area": null,
      "grid_auto_columns": null,
      "grid_auto_flow": null,
      "grid_auto_rows": null,
      "grid_column": null,
      "grid_gap": null,
      "grid_row": null,
      "grid_template_areas": null,
      "grid_template_columns": null,
      "grid_template_rows": null,
      "height": null,
      "justify_content": null,
      "justify_items": null,
      "left": null,
      "margin": null,
      "max_height": null,
      "max_width": null,
      "min_height": null,
      "min_width": null,
      "object_fit": null,
      "object_position": null,
      "order": null,
      "overflow": null,
      "overflow_x": null,
      "overflow_y": null,
      "padding": null,
      "right": null,
      "top": null,
      "visibility": null,
      "width": null
     }
    },
    "9a6af53ff2724caf91f47b754702e815": {
     "model_module": "@jupyter-widgets/controls",
     "model_name": "DescriptionStyleModel",
     "state": {
      "_model_module": "@jupyter-widgets/controls",
      "_model_module_version": "1.5.0",
      "_model_name": "DescriptionStyleModel",
      "_view_count": null,
      "_view_module": "@jupyter-widgets/base",
      "_view_module_version": "1.2.0",
      "_view_name": "StyleView",
      "description_width": ""
     }
    },
    "9d3574fb2bab4815a47a53e439b82c86": {
     "model_module": "@jupyter-widgets/base",
     "model_name": "LayoutModel",
     "state": {
      "_model_module": "@jupyter-widgets/base",
      "_model_module_version": "1.2.0",
      "_model_name": "LayoutModel",
      "_view_count": null,
      "_view_module": "@jupyter-widgets/base",
      "_view_module_version": "1.2.0",
      "_view_name": "LayoutView",
      "align_content": null,
      "align_items": null,
      "align_self": null,
      "border": null,
      "bottom": null,
      "display": null,
      "flex": null,
      "flex_flow": null,
      "grid_area": null,
      "grid_auto_columns": null,
      "grid_auto_flow": null,
      "grid_auto_rows": null,
      "grid_column": null,
      "grid_gap": null,
      "grid_row": null,
      "grid_template_areas": null,
      "grid_template_columns": null,
      "grid_template_rows": null,
      "height": null,
      "justify_content": null,
      "justify_items": null,
      "left": null,
      "margin": null,
      "max_height": null,
      "max_width": null,
      "min_height": null,
      "min_width": null,
      "object_fit": null,
      "object_position": null,
      "order": null,
      "overflow": null,
      "overflow_x": null,
      "overflow_y": null,
      "padding": null,
      "right": null,
      "top": null,
      "visibility": null,
      "width": null
     }
    },
    "ada0ff3f8fd9447d9e985aa74302176c": {
     "model_module": "@jupyter-widgets/base",
     "model_name": "LayoutModel",
     "state": {
      "_model_module": "@jupyter-widgets/base",
      "_model_module_version": "1.2.0",
      "_model_name": "LayoutModel",
      "_view_count": null,
      "_view_module": "@jupyter-widgets/base",
      "_view_module_version": "1.2.0",
      "_view_name": "LayoutView",
      "align_content": null,
      "align_items": null,
      "align_self": null,
      "border": null,
      "bottom": null,
      "display": null,
      "flex": null,
      "flex_flow": null,
      "grid_area": null,
      "grid_auto_columns": null,
      "grid_auto_flow": null,
      "grid_auto_rows": null,
      "grid_column": null,
      "grid_gap": null,
      "grid_row": null,
      "grid_template_areas": null,
      "grid_template_columns": null,
      "grid_template_rows": null,
      "height": null,
      "justify_content": null,
      "justify_items": null,
      "left": null,
      "margin": null,
      "max_height": null,
      "max_width": null,
      "min_height": null,
      "min_width": null,
      "object_fit": null,
      "object_position": null,
      "order": null,
      "overflow": null,
      "overflow_x": null,
      "overflow_y": null,
      "padding": null,
      "right": null,
      "top": null,
      "visibility": null,
      "width": null
     }
    },
    "b282641a7f1b42589d8c8fdcaaa6b312": {
     "model_module": "@jupyter-widgets/base",
     "model_name": "LayoutModel",
     "state": {
      "_model_module": "@jupyter-widgets/base",
      "_model_module_version": "1.2.0",
      "_model_name": "LayoutModel",
      "_view_count": null,
      "_view_module": "@jupyter-widgets/base",
      "_view_module_version": "1.2.0",
      "_view_name": "LayoutView",
      "align_content": null,
      "align_items": null,
      "align_self": null,
      "border": null,
      "bottom": null,
      "display": null,
      "flex": null,
      "flex_flow": null,
      "grid_area": null,
      "grid_auto_columns": null,
      "grid_auto_flow": null,
      "grid_auto_rows": null,
      "grid_column": null,
      "grid_gap": null,
      "grid_row": null,
      "grid_template_areas": null,
      "grid_template_columns": null,
      "grid_template_rows": null,
      "height": null,
      "justify_content": null,
      "justify_items": null,
      "left": null,
      "margin": null,
      "max_height": null,
      "max_width": null,
      "min_height": null,
      "min_width": null,
      "object_fit": null,
      "object_position": null,
      "order": null,
      "overflow": null,
      "overflow_x": null,
      "overflow_y": null,
      "padding": null,
      "right": null,
      "top": null,
      "visibility": null,
      "width": null
     }
    },
    "b2f628f52d684638bb4e09578fafdf80": {
     "model_module": "@jupyter-widgets/controls",
     "model_name": "ProgressStyleModel",
     "state": {
      "_model_module": "@jupyter-widgets/controls",
      "_model_module_version": "1.5.0",
      "_model_name": "ProgressStyleModel",
      "_view_count": null,
      "_view_module": "@jupyter-widgets/base",
      "_view_module_version": "1.2.0",
      "_view_name": "StyleView",
      "bar_color": null,
      "description_width": "initial"
     }
    },
    "dabd4400ba5b452b94975beb3cbd4d99": {
     "model_module": "@jupyter-widgets/base",
     "model_name": "LayoutModel",
     "state": {
      "_model_module": "@jupyter-widgets/base",
      "_model_module_version": "1.2.0",
      "_model_name": "LayoutModel",
      "_view_count": null,
      "_view_module": "@jupyter-widgets/base",
      "_view_module_version": "1.2.0",
      "_view_name": "LayoutView",
      "align_content": null,
      "align_items": null,
      "align_self": null,
      "border": null,
      "bottom": null,
      "display": null,
      "flex": null,
      "flex_flow": null,
      "grid_area": null,
      "grid_auto_columns": null,
      "grid_auto_flow": null,
      "grid_auto_rows": null,
      "grid_column": null,
      "grid_gap": null,
      "grid_row": null,
      "grid_template_areas": null,
      "grid_template_columns": null,
      "grid_template_rows": null,
      "height": null,
      "justify_content": null,
      "justify_items": null,
      "left": null,
      "margin": null,
      "max_height": null,
      "max_width": null,
      "min_height": null,
      "min_width": null,
      "object_fit": null,
      "object_position": null,
      "order": null,
      "overflow": null,
      "overflow_x": null,
      "overflow_y": null,
      "padding": null,
      "right": null,
      "top": null,
      "visibility": null,
      "width": null
     }
    },
    "f174e202ef7c4ca39e484c44181a004b": {
     "model_module": "@jupyter-widgets/base",
     "model_name": "LayoutModel",
     "state": {
      "_model_module": "@jupyter-widgets/base",
      "_model_module_version": "1.2.0",
      "_model_name": "LayoutModel",
      "_view_count": null,
      "_view_module": "@jupyter-widgets/base",
      "_view_module_version": "1.2.0",
      "_view_name": "LayoutView",
      "align_content": null,
      "align_items": null,
      "align_self": null,
      "border": null,
      "bottom": null,
      "display": null,
      "flex": null,
      "flex_flow": null,
      "grid_area": null,
      "grid_auto_columns": null,
      "grid_auto_flow": null,
      "grid_auto_rows": null,
      "grid_column": null,
      "grid_gap": null,
      "grid_row": null,
      "grid_template_areas": null,
      "grid_template_columns": null,
      "grid_template_rows": null,
      "height": null,
      "justify_content": null,
      "justify_items": null,
      "left": null,
      "margin": null,
      "max_height": null,
      "max_width": null,
      "min_height": null,
      "min_width": null,
      "object_fit": null,
      "object_position": null,
      "order": null,
      "overflow": null,
      "overflow_x": null,
      "overflow_y": null,
      "padding": null,
      "right": null,
      "top": null,
      "visibility": null,
      "width": null
     }
    },
    "fa4ffb9ef11347528232d28353526ffe": {
     "model_module": "@jupyter-widgets/controls",
     "model_name": "FloatProgressModel",
     "state": {
      "_dom_classes": [],
      "_model_module": "@jupyter-widgets/controls",
      "_model_module_version": "1.5.0",
      "_model_name": "FloatProgressModel",
      "_view_count": null,
      "_view_module": "@jupyter-widgets/controls",
      "_view_module_version": "1.5.0",
      "_view_name": "ProgressView",
      "bar_style": "success",
      "description": "100%",
      "description_tooltip": null,
      "layout": "IPY_MODEL_ada0ff3f8fd9447d9e985aa74302176c",
      "max": 10000,
      "min": 0,
      "orientation": "horizontal",
      "style": "IPY_MODEL_5ce92712243d41a992bc5612ea09e3f6",
      "value": 10000
     }
    }
   }
  }
 },
 "nbformat": 4,
 "nbformat_minor": 1
}
