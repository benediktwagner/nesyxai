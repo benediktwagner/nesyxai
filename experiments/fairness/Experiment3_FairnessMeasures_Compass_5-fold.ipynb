{
 "cells": [
  {
   "cell_type": "code",
   "execution_count": 1,
   "metadata": {
    "colab": {},
    "colab_type": "code",
    "executionInfo": {
     "elapsed": 7576,
     "status": "ok",
     "timestamp": 1595319959933,
     "user": {
      "displayName": "Benedikt J. Wagner",
      "photoUrl": "",
      "userId": "17708217500073810160"
     },
     "user_tz": -60
    },
    "id": "GrGrfnZIKLOl"
   },
   "outputs": [],
   "source": [
    "%matplotlib inline\n",
    "import logging;logging.basicConfig(level=logging.INFO)\n",
    "import sys\n",
    "import pandas as pd\n",
    "\n",
    "sys.path.append(\"../\")\n",
    "from aif360.datasets import AdultDataset, GermanDataset, CompasDataset\n",
    "from aif360.metrics import ClassificationMetric\n",
    "\n",
    "from IPython.display import Markdown, display\n",
    "from sklearn.metrics import accuracy_score\n",
    "import tensorflow as tf"
   ]
  },
  {
   "cell_type": "code",
   "execution_count": 2,
   "metadata": {
    "colab": {
     "base_uri": "https://localhost:8080/",
     "height": 34
    },
    "colab_type": "code",
    "executionInfo": {
     "elapsed": 14070,
     "status": "ok",
     "timestamp": 1595319969043,
     "user": {
      "displayName": "Benedikt J. Wagner",
      "photoUrl": "",
      "userId": "17708217500073810160"
     },
     "user_tz": -60
    },
    "id": "WxBWsJJWSgTe",
    "outputId": "10dfa4b2-3240-4de7-c383-07215161d980"
   },
   "outputs": [
    {
     "name": "stderr",
     "output_type": "stream",
     "text": [
      "WARNING:root:Missing Data: 5 rows removed from CompasDataset.\n"
     ]
    }
   ],
   "source": [
    "## import dataset\n",
    "dataset_used = \"compas\" # \"adult\", \"german\", \"compas\"\n",
    "protected_attribute_used = 2 # 1, 2\n",
    "\n",
    "if dataset_used == \"adult\":\n",
    "    dataset_orig = AdultDataset()\n",
    "    if protected_attribute_used == 1:\n",
    "        privileged_groups = [{'sex': 1}]\n",
    "        unprivileged_groups = [{'sex': 0}]\n",
    "    else:\n",
    "        privileged_groups = [{'race': 1}]\n",
    "        unprivileged_groups = [{'race': 0}]\n",
    "    \n",
    "elif dataset_used == \"german\":\n",
    "    dataset_orig = GermanDataset()\n",
    "    if protected_attribute_used == 1:\n",
    "        privileged_groups = [{'sex': 1}]\n",
    "        unprivileged_groups = [{'sex': 0}]\n",
    "    else:\n",
    "        privileged_groups = [{'age': 1}]\n",
    "        unprivileged_groups = [{'age': 0}]\n",
    "    \n",
    "elif dataset_used == \"compas\":\n",
    "    dataset_orig = CompasDataset()\n",
    "    if protected_attribute_used == 1:\n",
    "        privileged_groups = [{'sex': 1}]\n",
    "        unprivileged_groups = [{'sex': 0}]\n",
    "    else:\n",
    "        privileged_groups = [{'race': 1}]\n",
    "        unprivileged_groups = [{'race': 0}]    "
   ]
  },
  {
   "cell_type": "code",
   "execution_count": 3,
   "metadata": {
    "colab": {},
    "colab_type": "code",
    "executionInfo": {
     "elapsed": 14380,
     "status": "ok",
     "timestamp": 1595319972782,
     "user": {
      "displayName": "Benedikt J. Wagner",
      "photoUrl": "",
      "userId": "17708217500073810160"
     },
     "user_tz": -60
    },
    "id": "2RFdt_YYdcdO"
   },
   "outputs": [],
   "source": [
    "import logictensornetworks2 as ltn\n",
    "import logictensornetworks2.fuzzy_ops as fuzzy_ops\n",
    "from sklearn.preprocessing import StandardScaler,RobustScaler,MinMaxScaler\n",
    "from sklearn.model_selection import cross_val_score, KFold\n",
    "import numpy as np"
   ]
  },
  {
   "cell_type": "code",
   "execution_count": 4,
   "metadata": {
    "colab": {},
    "colab_type": "code",
    "executionInfo": {
     "elapsed": 12371,
     "status": "ok",
     "timestamp": 1595319972782,
     "user": {
      "displayName": "Benedikt J. Wagner",
      "photoUrl": "",
      "userId": "17708217500073810160"
     },
     "user_tz": -60
    },
    "id": "8aR71jqd5UKX"
   },
   "outputs": [],
   "source": [
    "Not = ltn.Wrapper_ConnectiveOp(fuzzy_ops.Not_Std())\n",
    "And = ltn.Wrapper_ConnectiveOp(fuzzy_ops.And_Prod())\n",
    "Or = ltn.Wrapper_ConnectiveOp(fuzzy_ops.Or_ProbSum())\n",
    "Implies = ltn.Wrapper_ConnectiveOp(fuzzy_ops.Implies_Reichenbach())\n",
    "Equiv = ltn.Wrapper_ConnectiveOp(fuzzy_ops.Equiv(And,Implies))\n",
    "Forall = ltn.experimental.Wrapper_AggregationOp(ltn.experimental.Aggreg_pMeanError(p=5))\n",
    "Exists = ltn.experimental.Wrapper_AggregationOp(ltn.experimental.Aggreg_pMean(p=5))\n",
    "scale_orig = StandardScaler()"
   ]
  },
  {
   "cell_type": "code",
   "execution_count": 5,
   "metadata": {
    "pycharm": {
     "name": "#%%\n"
    }
   },
   "outputs": [],
   "source": [
    "def f(input):\n",
    "  var_data = ltn.variable(\"input\", input)\n",
    "  result = D(var_data)\n",
    "  return result.numpy()\n",
    "\n",
    "class Predpred(object):\n",
    "  def __init__(self, oracle):\n",
    "        self.oracle = oracle\n",
    "  def predict(self, data):\n",
    "      var_data = ltn.variable(\"input\", data)\n",
    "      result = self.oracle(var_data)\n",
    "      y_test_pred_prob = result.numpy()\n",
    "      class_thresh = 0.5\n",
    "      y_test_pred = np.zeros_like(y_test_pred_prob)\n",
    "      y_test_pred[y_test_pred_prob >= class_thresh] = 1\n",
    "      y_test_pred[~(y_test_pred_prob >= class_thresh)] = 0\n",
    "      return y_test_pred"
   ]
  },
  {
   "cell_type": "code",
   "execution_count": 6,
   "metadata": {},
   "outputs": [],
   "source": [
    "kf = KFold(n_splits=5)\n",
    "Xs = scale_orig.fit_transform(dataset_orig.features)\n",
    "ys = dataset_orig.labels.ravel()"
   ]
  },
  {
   "cell_type": "code",
   "execution_count": 7,
   "metadata": {},
   "outputs": [
    {
     "name": "stdout",
     "output_type": "stream",
     "text": [
      "Epoch 0: Sat Level 0.390 Epoch 0: Train-Accuracy 0.584\n",
      "Epoch 200: Sat Level 0.556 Epoch 200: Train-Accuracy 0.817\n",
      "Epoch 400: Sat Level 0.575 Epoch 400: Train-Accuracy 0.852\n",
      "Epoch 600: Sat Level 0.580 Epoch 600: Train-Accuracy 0.871\n",
      "Epoch 800: Sat Level 0.586 Epoch 800: Train-Accuracy 0.875\n",
      "Epoch 1000: Sat Level 0.592 Epoch 1000: Train-Accuracy 0.888\n",
      "Epoch 1200: Sat Level 0.596 Epoch 1200: Train-Accuracy 0.895\n",
      "Epoch 1400: Sat Level 0.600 Epoch 1400: Train-Accuracy 0.883\n",
      "Epoch 1600: Sat Level 0.599 Epoch 1600: Train-Accuracy 0.903\n",
      "Epoch 1800: Sat Level 0.609 Epoch 1800: Train-Accuracy 0.907\n",
      "Epoch 2000: Sat Level 0.609 Epoch 2000: Train-Accuracy 0.913\n",
      "Epoch 2200: Sat Level 0.611 Epoch 2200: Train-Accuracy 0.915\n",
      "Epoch 2400: Sat Level 0.609 Epoch 2400: Train-Accuracy 0.913\n",
      "Epoch 2600: Sat Level 0.614 Epoch 2600: Train-Accuracy 0.918\n",
      "Epoch 2800: Sat Level 0.617 Epoch 2800: Train-Accuracy 0.923\n",
      "Training finished at Epoch 2999 with Sat Level 0.616 Epoch 2999: Test-Accuracy 0.611\n",
      "Epoch 0: Sat Level 0.448 Epoch 0: Train-Accuracy 0.816\n",
      "Epoch 200: Sat Level 0.532 Epoch 200: Train-Accuracy 0.909\n",
      "Epoch 400: Sat Level 0.538 Epoch 400: Train-Accuracy 0.915\n",
      "Epoch 600: Sat Level 0.531 Epoch 600: Train-Accuracy 0.916\n",
      "Epoch 800: Sat Level 0.532 Epoch 800: Train-Accuracy 0.919\n",
      "Epoch 1000: Sat Level 0.534 Epoch 1000: Train-Accuracy 0.901\n",
      "Epoch 1200: Sat Level 0.536 Epoch 1200: Train-Accuracy 0.917\n",
      "Epoch 1400: Sat Level 0.512 Epoch 1400: Train-Accuracy 0.880\n",
      "Epoch 1600: Sat Level 0.536 Epoch 1600: Train-Accuracy 0.924\n",
      "Epoch 1800: Sat Level 0.534 Epoch 1800: Train-Accuracy 0.919\n",
      "Epoch 2000: Sat Level 0.530 Epoch 2000: Train-Accuracy 0.920\n",
      "Epoch 2200: Sat Level 0.531 Epoch 2200: Train-Accuracy 0.917\n",
      "Epoch 2400: Sat Level 0.487 Epoch 2400: Train-Accuracy 0.868\n",
      "Epoch 2600: Sat Level 0.531 Epoch 2600: Train-Accuracy 0.927\n",
      "Epoch 2800: Sat Level 0.530 Epoch 2800: Train-Accuracy 0.916\n",
      "Training finished at Epoch 2999 with Sat Level 0.532 Epoch 2999: Test-Accuracy 0.665\n",
      "Epoch 0: Sat Level 0.441 Epoch 0: Train-Accuracy 0.862\n",
      "Epoch 200: Sat Level 0.496 Epoch 200: Train-Accuracy 0.911\n",
      "Epoch 400: Sat Level 0.496 Epoch 400: Train-Accuracy 0.908\n",
      "Epoch 600: Sat Level 0.497 Epoch 600: Train-Accuracy 0.893\n",
      "Epoch 800: Sat Level 0.499 Epoch 800: Train-Accuracy 0.909\n",
      "Epoch 1000: Sat Level 0.496 Epoch 1000: Train-Accuracy 0.904\n",
      "Epoch 1200: Sat Level 0.500 Epoch 1200: Train-Accuracy 0.919\n",
      "Epoch 1400: Sat Level 0.499 Epoch 1400: Train-Accuracy 0.916\n",
      "Epoch 1600: Sat Level 0.501 Epoch 1600: Train-Accuracy 0.911\n",
      "Epoch 1800: Sat Level 0.498 Epoch 1800: Train-Accuracy 0.903\n",
      "Epoch 2000: Sat Level 0.499 Epoch 2000: Train-Accuracy 0.912\n",
      "Epoch 2200: Sat Level 0.501 Epoch 2200: Train-Accuracy 0.919\n",
      "Epoch 2400: Sat Level 0.478 Epoch 2400: Train-Accuracy 0.892\n",
      "Epoch 2600: Sat Level 0.502 Epoch 2600: Train-Accuracy 0.924\n",
      "Epoch 2800: Sat Level 0.501 Epoch 2800: Train-Accuracy 0.905\n",
      "Training finished at Epoch 2999 with Sat Level 0.504 Epoch 2999: Test-Accuracy 0.708\n",
      "Epoch 0: Sat Level 0.439 Epoch 0: Train-Accuracy 0.865\n",
      "Epoch 200: Sat Level 0.482 Epoch 200: Train-Accuracy 0.908\n",
      "Epoch 400: Sat Level 0.483 Epoch 400: Train-Accuracy 0.910\n",
      "Epoch 600: Sat Level 0.481 Epoch 600: Train-Accuracy 0.888\n",
      "Epoch 800: Sat Level 0.483 Epoch 800: Train-Accuracy 0.908\n",
      "Epoch 1000: Sat Level 0.484 Epoch 1000: Train-Accuracy 0.911\n",
      "Epoch 1200: Sat Level 0.483 Epoch 1200: Train-Accuracy 0.899\n",
      "Epoch 1400: Sat Level 0.483 Epoch 1400: Train-Accuracy 0.907\n",
      "Epoch 1600: Sat Level 0.483 Epoch 1600: Train-Accuracy 0.907\n",
      "Epoch 1800: Sat Level 0.485 Epoch 1800: Train-Accuracy 0.913\n",
      "Epoch 2000: Sat Level 0.483 Epoch 2000: Train-Accuracy 0.904\n",
      "Epoch 2200: Sat Level 0.483 Epoch 2200: Train-Accuracy 0.910\n",
      "Epoch 2400: Sat Level 0.484 Epoch 2400: Train-Accuracy 0.913\n",
      "Epoch 2600: Sat Level 0.484 Epoch 2600: Train-Accuracy 0.905\n",
      "Epoch 2800: Sat Level 0.454 Epoch 2800: Train-Accuracy 0.859\n",
      "Training finished at Epoch 2999 with Sat Level 0.481 Epoch 2999: Test-Accuracy 0.758\n",
      "Epoch 0: Sat Level 0.440 Epoch 0: Train-Accuracy 0.870\n",
      "Epoch 200: Sat Level 0.475 Epoch 200: Train-Accuracy 0.900\n",
      "Epoch 400: Sat Level 0.476 Epoch 400: Train-Accuracy 0.895\n",
      "Epoch 600: Sat Level 0.475 Epoch 600: Train-Accuracy 0.892\n",
      "Epoch 800: Sat Level 0.464 Epoch 800: Train-Accuracy 0.889\n",
      "Epoch 1000: Sat Level 0.478 Epoch 1000: Train-Accuracy 0.913\n",
      "Epoch 1200: Sat Level 0.478 Epoch 1200: Train-Accuracy 0.907\n",
      "Epoch 1400: Sat Level 0.478 Epoch 1400: Train-Accuracy 0.910\n",
      "Epoch 1600: Sat Level 0.476 Epoch 1600: Train-Accuracy 0.900\n",
      "Epoch 1800: Sat Level 0.444 Epoch 1800: Train-Accuracy 0.872\n",
      "Epoch 2000: Sat Level 0.477 Epoch 2000: Train-Accuracy 0.913\n",
      "Epoch 2200: Sat Level 0.477 Epoch 2200: Train-Accuracy 0.911\n",
      "Epoch 2400: Sat Level 0.476 Epoch 2400: Train-Accuracy 0.909\n",
      "Epoch 2600: Sat Level 0.478 Epoch 2600: Train-Accuracy 0.913\n",
      "Epoch 2800: Sat Level 0.478 Epoch 2800: Train-Accuracy 0.912\n",
      "Training finished at Epoch 2999 with Sat Level 0.476 Epoch 2999: Test-Accuracy 0.734\n"
     ]
    }
   ],
   "source": [
    "D = ltn.Predicate.MLP([401],hidden_layer_sizes=(100,50))\n",
    "trainable_variables = D.trainable_variables\n",
    "optimizer = tf.keras.optimizers.Adam(learning_rate=0.01)\n",
    "formula_aggregator = ltn.fuzzy_ops.Aggreg_pMeanError(p=5)\n",
    "\n",
    "kv = {}\n",
    "for k, (train, test) in enumerate(kf.split(Xs, ys)):\n",
    "    kv[\"posits{0}\".format(k)] = Xs[train][ys[train]==1].astype(np.float32)\n",
    "    kv[\"negats{0}\".format(k)] = Xs[train][ys[train]==0].astype(np.float32)\n",
    "    kv[\"Xtrain{0}\".format(k)] = Xs[train].astype(np.float32)\n",
    "    kv[\"ytrain{0}\".format(k)] = ys[train].astype(np.float32)\n",
    "    kv[\"Xtest{0}\".format(k)] = Xs[test].astype(np.float32)\n",
    "    kv[\"ytest{0}\".format(k)] = ys[test].astype(np.float32)\n",
    "    \n",
    "    var_posit = ltn.variable(\"posits\",kv[\"posits{0}\".format(k)])\n",
    "    var_negat = ltn.variable(\"negats\",kv[\"negats{0}\".format(k)])\n",
    "    oracle = Predpred(D)\n",
    "    \n",
    "    @tf.function\n",
    "    @ltn.domains()\n",
    "    def axioms():\n",
    "        axioms = []\n",
    "        weights = []\n",
    "        # forall data_A: A(data_A)\n",
    "        axioms.append(Forall(ltn.bound(var_posit), D(var_posit)))\n",
    "        # forall data_B: B(data_B)\n",
    "        axioms.append(Forall(ltn.bound(var_negat), Not(D(var_negat))))\n",
    "        axioms = tf.stack([tf.squeeze(ax) for ax in axioms])\n",
    "        sat_level = formula_aggregator(axioms)\n",
    "        return sat_level, axioms\n",
    "\n",
    "    for epoch in range(3000):\n",
    "        with tf.GradientTape() as tape:\n",
    "            loss = 1. - axioms()[0]\n",
    "        grads = tape.gradient(loss, trainable_variables)\n",
    "        optimizer.apply_gradients(zip(grads, trainable_variables))\n",
    "        if epoch%200 == 0:\n",
    "            print(\"Epoch %d: Sat Level %.3f\"%(epoch, axioms()[0]),\n",
    "                  \"Epoch %d: Train-Accuracy %.3f\"%(epoch, \n",
    "                                                   accuracy_score(kv[\"ytrain{0}\".format(k)],\n",
    "                                                                  oracle.predict(kv[\"Xtrain{0}\".format(k)]))))\n",
    "    print(\"Training finished at Epoch %d with Sat Level %.3f\"%(epoch, axioms()[0]),\"Epoch %d: Test-Accuracy %.3f\"%(epoch, accuracy_score(kv[\"ytest{0}\".format(k)], oracle.predict(kv[\"Xtest{0}\".format(k)]))))\n",
    "    kv[\"test_acc{0}\".format(k)] = accuracy_score(kv[\"ytest{0}\".format(k)], oracle.predict(kv[\"Xtest{0}\".format(k)]))\n",
    "    \n",
    "    dataset_orig_test_pred = dataset_orig.subset(test).copy(deepcopy=True)\n",
    "    dataset_orig_test_pred.labels = oracle.predict(scale_orig.transform(dataset_orig.subset(test).features))\n",
    "    classified_metric_debiasing_test = ClassificationMetric(dataset_orig.subset(test), \n",
    "                                                     dataset_orig_test_pred,\n",
    "                                                     unprivileged_groups=unprivileged_groups,\n",
    "                                                     privileged_groups=privileged_groups)\n",
    "    \n",
    "    kv[\"Disparate_impact{0}\".format(k)] = classified_metric_debiasing_test.disparate_impact()\n",
    "    kv[\"Parity_Difference{0}\".format(k)] = classified_metric_debiasing_test.statistical_parity_difference()"
   ]
  },
  {
   "cell_type": "code",
   "execution_count": 8,
   "metadata": {},
   "outputs": [
    {
     "data": {
      "text/markdown": [
       "#### Model - with bias - classification metrics"
      ],
      "text/plain": [
       "<IPython.core.display.Markdown object>"
      ]
     },
     "metadata": {},
     "output_type": "display_data"
    },
    {
     "name": "stdout",
     "output_type": "stream",
     "text": [
      "Dataset: Classification accuracy = 0.868494\n",
      "Dataset: Disparate impact = 0.839907\n",
      "Dataset: Parity Difference = -0.088203\n"
     ]
    }
   ],
   "source": [
    "dataset_orig_test_pred = dataset_orig.copy(deepcopy=True)\n",
    "dataset_orig_test_pred.labels = oracle.predict(scale_orig.transform(dataset_orig.features))\n",
    "display(Markdown(\"#### Model - with bias - classification metrics\"))\n",
    "classified_metric_debiasing_test = ClassificationMetric(dataset_orig, \n",
    "                                                 dataset_orig_test_pred,\n",
    "                                                 unprivileged_groups=unprivileged_groups,\n",
    "                                                 privileged_groups=privileged_groups)\n",
    "print(\"Dataset: Classification accuracy = %f\" % classified_metric_debiasing_test.accuracy())\n",
    "print(\"Dataset: Disparate impact = %f\" % classified_metric_debiasing_test.disparate_impact())\n",
    "print(\"Dataset: Parity Difference = %f\" % classified_metric_debiasing_test.statistical_parity_difference())"
   ]
  },
  {
   "cell_type": "code",
   "execution_count": 9,
   "metadata": {},
   "outputs": [
    {
     "name": "stderr",
     "output_type": "stream",
     "text": [
      "C:\\Users\\Ben\\anaconda3\\envs\\tf2\\lib\\site-packages\\ipykernel_launcher.py:6: SettingWithCopyWarning: \n",
      "A value is trying to be set on a copy of a slice from a DataFrame.\n",
      "Try using .loc[row_indexer,col_indexer] = value instead\n",
      "\n",
      "See the caveats in the documentation: https://pandas.pydata.org/pandas-docs/stable/user_guide/indexing.html#returning-a-view-versus-a-copy\n",
      "  \n",
      "C:\\Users\\Ben\\anaconda3\\envs\\tf2\\lib\\site-packages\\ipykernel_launcher.py:7: SettingWithCopyWarning: \n",
      "A value is trying to be set on a copy of a slice from a DataFrame.\n",
      "Try using .loc[row_indexer,col_indexer] = value instead\n",
      "\n",
      "See the caveats in the documentation: https://pandas.pydata.org/pandas-docs/stable/user_guide/indexing.html#returning-a-view-versus-a-copy\n",
      "  import sys\n",
      "C:\\Users\\Ben\\anaconda3\\envs\\tf2\\lib\\site-packages\\ipykernel_launcher.py:9: UserWarning: Boolean Series key will be reindexed to match DataFrame index.\n",
      "  if __name__ == '__main__':\n",
      "C:\\Users\\Ben\\anaconda3\\envs\\tf2\\lib\\site-packages\\ipykernel_launcher.py:10: UserWarning: Boolean Series key will be reindexed to match DataFrame index.\n",
      "  # Remove the CWD from sys.path while we load stuff.\n",
      "C:\\Users\\Ben\\anaconda3\\envs\\tf2\\lib\\site-packages\\ipykernel_launcher.py:11: UserWarning: Boolean Series key will be reindexed to match DataFrame index.\n",
      "  # This is added back by InteractiveShellApp.init_path()\n",
      "C:\\Users\\Ben\\anaconda3\\envs\\tf2\\lib\\site-packages\\ipykernel_launcher.py:12: UserWarning: Boolean Series key will be reindexed to match DataFrame index.\n",
      "  if sys.path[0] == '':\n",
      "C:\\Users\\Ben\\anaconda3\\envs\\tf2\\lib\\site-packages\\ipykernel_launcher.py:13: UserWarning: Boolean Series key will be reindexed to match DataFrame index.\n",
      "  del sys.path[0]\n",
      "C:\\Users\\Ben\\anaconda3\\envs\\tf2\\lib\\site-packages\\ipykernel_launcher.py:14: UserWarning: Boolean Series key will be reindexed to match DataFrame index.\n",
      "  \n",
      "C:\\Users\\Ben\\anaconda3\\envs\\tf2\\lib\\site-packages\\ipykernel_launcher.py:15: UserWarning: Boolean Series key will be reindexed to match DataFrame index.\n",
      "  from ipykernel import kernelapp as app\n",
      "C:\\Users\\Ben\\anaconda3\\envs\\tf2\\lib\\site-packages\\ipykernel_launcher.py:16: UserWarning: Boolean Series key will be reindexed to match DataFrame index.\n",
      "  app.launch_new_instance()\n",
      "C:\\Users\\Ben\\anaconda3\\envs\\tf2\\lib\\site-packages\\ipykernel_launcher.py:17: UserWarning: Boolean Series key will be reindexed to match DataFrame index.\n",
      "C:\\Users\\Ben\\anaconda3\\envs\\tf2\\lib\\site-packages\\ipykernel_launcher.py:18: UserWarning: Boolean Series key will be reindexed to match DataFrame index.\n"
     ]
    }
   ],
   "source": [
    "X_df = pd.DataFrame(Xs,columns=dataset_orig.feature_names)\n",
    "X_r_preds = f(np.asarray(Xs).astype(np.float32))\n",
    "X_df['customer_risk_pred'] = X_r_preds\n",
    "X_female_df = X_df[X_df['race'] == X_df['race'].unique()[0]]\n",
    "X_male_df = X_df[X_df['race'] == X_df['race'].unique()[1]]\n",
    "X_female_df['customer class'] = pd.qcut(X_female_df['customer_risk_pred'],5, labels=[0,1,2,3,4])\n",
    "X_male_df['customer class'] = pd.qcut(X_male_df['customer_risk_pred'],5, labels=[0,1,2,3,4])\n",
    "X_inp = pd.concat([X_male_df,X_female_df])\n",
    "class1F = X_inp[X_inp['race'] == X_inp['race'].unique()[0]][X_inp['customer class'] == 0]\n",
    "class2F = X_inp[X_inp['race'] == X_inp['race'].unique()[0]][X_inp['customer class'] == 1]\n",
    "class3F = X_inp[X_inp['race'] == X_inp['race'].unique()[0]][X_inp['customer class'] == 2]\n",
    "class4F = X_inp[X_inp['race'] == X_inp['race'].unique()[0]][X_inp['customer class'] == 3]\n",
    "class5F = X_inp[X_inp['race'] == X_inp['race'].unique()[0]][X_inp['customer class'] == 4]\n",
    "class1M = X_inp[X_inp['race'] == X_inp['race'].unique()[1]][X_inp['customer class'] == 0]\n",
    "class2M = X_inp[X_inp['race'] == X_inp['race'].unique()[1]][X_inp['customer class'] == 1]\n",
    "class3M = X_inp[X_inp['race'] == X_inp['race'].unique()[1]][X_inp['customer class'] == 2]\n",
    "class4M = X_inp[X_inp['race'] == X_inp['race'].unique()[1]][X_inp['customer class'] == 3]\n",
    "class5M = X_inp[X_inp['race'] == X_inp['race'].unique()[1]][X_inp['customer class'] == 4]"
   ]
  },
  {
   "cell_type": "code",
   "execution_count": 10,
   "metadata": {},
   "outputs": [],
   "source": [
    "inpclass1f = class1F.iloc[:,:-2].astype(np.float32).to_numpy()\n",
    "inpclass2f = class2F.iloc[:,:-2].astype(np.float32).to_numpy()\n",
    "inpclass3f = class3F.iloc[:,:-2].astype(np.float32).to_numpy()\n",
    "inpclass4f = class4F.iloc[:,:-2].astype(np.float32).to_numpy()\n",
    "inpclass5f = class5F.iloc[:,:-2].astype(np.float32).to_numpy()\n",
    "\n",
    "inpclass1m = class1M.iloc[:,:-2].astype(np.float32).to_numpy()\n",
    "inpclass2m = class2M.iloc[:,:-2].astype(np.float32).to_numpy()\n",
    "inpclass3m = class3M.iloc[:,:-2].astype(np.float32).to_numpy()\n",
    "inpclass4m = class4M.iloc[:,:-2].astype(np.float32).to_numpy()\n",
    "inpclass5m = class5M.iloc[:,:-2].astype(np.float32).to_numpy()\n",
    "\n",
    "var_class1f = ltn.variable(\"?class1F\",inpclass1f)\n",
    "var_class2f = ltn.variable(\"?class2F\",inpclass2f)\n",
    "var_class3f = ltn.variable(\"?class3F\",inpclass3f)\n",
    "var_class4f = ltn.variable(\"?class4F\",inpclass4f)\n",
    "var_class5f = ltn.variable(\"?class5F\",inpclass5f)\n",
    "\n",
    "var_class1m = ltn.variable(\"?class1M\",inpclass1m)\n",
    "var_class2m = ltn.variable(\"?class2M\",inpclass2m)\n",
    "var_class3m = ltn.variable(\"?class3M\",inpclass3m)\n",
    "var_class4m = ltn.variable(\"?class4M\",inpclass4m)\n",
    "var_class5m = ltn.variable(\"?class5M\",inpclass5m)"
   ]
  },
  {
   "cell_type": "code",
   "execution_count": 13,
   "metadata": {},
   "outputs": [],
   "source": [
    "D = ltn.Predicate.MLP([401],hidden_layer_sizes=(100,50))\n",
    "trainable_variables = D.trainable_variables\n",
    "optimizer = tf.keras.optimizers.Adam(learning_rate=0.01)\n",
    "formula_aggregator = ltn.fuzzy_ops.Aggreg_pMeanError(p=4)"
   ]
  },
  {
   "cell_type": "code",
   "execution_count": 14,
   "metadata": {},
   "outputs": [
    {
     "name": "stdout",
     "output_type": "stream",
     "text": [
      "Epoch 0: Sat Level 0.570 Epoch 0: Train-Accuracy 0.861\n",
      "Epoch 200: Sat Level 0.661 Epoch 200: Train-Accuracy 0.861\n",
      "Epoch 400: Sat Level 0.667 Epoch 400: Train-Accuracy 0.861\n",
      "Epoch 600: Sat Level 0.668 Epoch 600: Train-Accuracy 0.861\n",
      "Epoch 800: Sat Level 0.672 Epoch 800: Train-Accuracy 0.861\n",
      "Training finished at Epoch 999 with Sat Level 0.674 Epoch 999: Test-Accuracy 0.899\n",
      "Epoch 0: Sat Level 0.630 Epoch 0: Train-Accuracy 0.863\n",
      "Epoch 200: Sat Level 0.667 Epoch 200: Train-Accuracy 0.863\n",
      "Epoch 400: Sat Level 0.670 Epoch 400: Train-Accuracy 0.863\n",
      "Epoch 600: Sat Level 0.673 Epoch 600: Train-Accuracy 0.863\n",
      "Epoch 800: Sat Level 0.674 Epoch 800: Train-Accuracy 0.863\n",
      "Training finished at Epoch 999 with Sat Level 0.674 Epoch 999: Test-Accuracy 0.891\n",
      "Epoch 0: Sat Level 0.628 Epoch 0: Train-Accuracy 0.862\n",
      "Epoch 200: Sat Level 0.669 Epoch 200: Train-Accuracy 0.862\n",
      "Epoch 400: Sat Level 0.670 Epoch 400: Train-Accuracy 0.862\n",
      "Epoch 600: Sat Level 0.672 Epoch 600: Train-Accuracy 0.862\n",
      "Epoch 800: Sat Level 0.672 Epoch 800: Train-Accuracy 0.862\n",
      "Training finished at Epoch 999 with Sat Level 0.671 Epoch 999: Test-Accuracy 0.896\n",
      "Epoch 0: Sat Level 0.619 Epoch 0: Train-Accuracy 0.855\n",
      "Epoch 200: Sat Level 0.668 Epoch 200: Train-Accuracy 0.855\n",
      "Epoch 400: Sat Level 0.670 Epoch 400: Train-Accuracy 0.855\n",
      "Epoch 600: Sat Level 0.671 Epoch 600: Train-Accuracy 0.855\n",
      "Epoch 800: Sat Level 0.670 Epoch 800: Train-Accuracy 0.855\n",
      "Training finished at Epoch 999 with Sat Level 0.671 Epoch 999: Test-Accuracy 0.922\n",
      "Epoch 0: Sat Level 0.618 Epoch 0: Train-Accuracy 0.902\n",
      "Epoch 200: Sat Level 0.719 Epoch 200: Train-Accuracy 0.902\n",
      "Epoch 400: Sat Level 0.724 Epoch 400: Train-Accuracy 0.902\n",
      "Epoch 600: Sat Level 0.725 Epoch 600: Train-Accuracy 0.902\n",
      "Epoch 800: Sat Level 0.729 Epoch 800: Train-Accuracy 0.902\n",
      "Training finished at Epoch 999 with Sat Level 0.727 Epoch 999: Test-Accuracy 0.734\n"
     ]
    }
   ],
   "source": [
    "kv = {}\n",
    "for k, (train, test) in enumerate(kf.split(Xs, ys)):\n",
    "    kv[\"posits{0}\".format(k)] = Xs[train][ys[train]==1].astype(np.float32)\n",
    "    kv[\"negats{0}\".format(k)] = Xs[train][ys[train]==0].astype(np.float32)\n",
    "    kv[\"Xtrain{0}\".format(k)] = Xs[train].astype(np.float32)\n",
    "    kv[\"ytrain{0}\".format(k)] = ys[train].astype(np.float32)\n",
    "    kv[\"Xtest{0}\".format(k)] = Xs[test].astype(np.float32)\n",
    "    kv[\"ytest{0}\".format(k)] = ys[test].astype(np.float32)\n",
    "    \n",
    "\n",
    "    var_posit = ltn.variable(\"posits\",kv[\"posits{0}\".format(k)])\n",
    "    var_negat = ltn.variable(\"negats\",kv[\"negats{0}\".format(k)])\n",
    "\n",
    "    @tf.function\n",
    "    @ltn.domains()\n",
    "    def axioms():\n",
    "        axioms = []\n",
    "        weights = []\n",
    "        # forall data_A: A(data_A)\n",
    "        axioms.append(Forall(ltn.bound(var_posit), D(var_posit)))\n",
    "        weights.append(2.)\n",
    "        # forall data_B: B(data_B)\n",
    "        axioms.append(Forall(ltn.bound(var_negat), Not(D(var_negat))))\n",
    "        weights.append(2.)\n",
    "        # Equality Constraints\n",
    "        axioms.append(Forall(ltn.bound(var_class1f,var_class1m), Equiv(D(var_class1f),D(var_class1m)),p=2))\n",
    "        weights.append(1.)\n",
    "        axioms.append(Forall(ltn.bound(var_class2f,var_class2m), Equiv(D(var_class2f),D(var_class2m)),p=2))\n",
    "        weights.append(1.)\n",
    "        axioms.append(Forall(ltn.bound(var_class3f,var_class3m), Equiv(D(var_class3f),D(var_class3m)),p=2))\n",
    "        weights.append(1.)\n",
    "        axioms.append(Forall(ltn.bound(var_class4f,var_class4m), Equiv(D(var_class4f),D(var_class4m)),p=2))\n",
    "        weights.append(1.)\n",
    "        axioms.append(Forall(ltn.bound(var_class5f,var_class5m), Equiv(D(var_class5f),D(var_class5m)),p=2))\n",
    "        weights.append(1.)\n",
    "        axioms = tf.stack([tf.squeeze(ax) for ax in axioms])\n",
    "        weights = tf.stack(weights)\n",
    "        weighted_axioms = weights*axioms\n",
    "        sat_level = formula_aggregator(weighted_axioms)\n",
    "        return sat_level, axioms\n",
    "\n",
    "    for epoch in range(1000):\n",
    "        with tf.GradientTape() as tape:\n",
    "            loss = 1. - axioms()[0]\n",
    "        grads = tape.gradient(loss, trainable_variables)\n",
    "        optimizer.apply_gradients(zip(grads, trainable_variables))\n",
    "        if epoch%200 == 0:\n",
    "            print(\"Epoch %d: Sat Level %.3f\"%(epoch, axioms()[0]),\n",
    "                  \"Epoch %d: Train-Accuracy %.3f\"%(epoch, \n",
    "                                                   accuracy_score(kv[\"ytrain{0}\".format(k)],\n",
    "                                                                  oracle.predict(kv[\"Xtrain{0}\".format(k)]))))\n",
    "    print(\"Training finished at Epoch %d with Sat Level %.3f\"%(epoch, axioms()[0]),\"Epoch %d: Test-Accuracy %.3f\"%(epoch, accuracy_score(kv[\"ytest{0}\".format(k)], oracle.predict(kv[\"Xtest{0}\".format(k)]))))\n",
    "    kv[\"test_acc{0}\".format(k)] = accuracy_score(kv[\"ytest{0}\".format(k)], oracle.predict(kv[\"Xtest{0}\".format(k)]))\n",
    "    \n",
    "    dataset_orig_test_pred = dataset_orig.subset(test).copy(deepcopy=True)\n",
    "    dataset_orig_test_pred.labels = oracle.predict(scale_orig.transform(dataset_orig.subset(test).features))\n",
    "    classified_metric_debiasing_test = ClassificationMetric(dataset_orig.subset(test), \n",
    "                                                     dataset_orig_test_pred,\n",
    "                                                     unprivileged_groups=unprivileged_groups,\n",
    "                                                     privileged_groups=privileged_groups)\n",
    "    \n",
    "    kv[\"Disparate_impact{0}\".format(k)] = classified_metric_debiasing_test.disparate_impact()\n",
    "    kv[\"Parity_Difference{0}\".format(k)] = classified_metric_debiasing_test.statistical_parity_difference()"
   ]
  },
  {
   "cell_type": "markdown",
   "metadata": {},
   "source": [
    "#### Average Test Accuracy"
   ]
  },
  {
   "cell_type": "code",
   "execution_count": 15,
   "metadata": {},
   "outputs": [
    {
     "data": {
      "text/plain": [
       "0.8684849775422242"
      ]
     },
     "execution_count": 15,
     "metadata": {},
     "output_type": "execute_result"
    }
   ],
   "source": [
    "(kv[\"test_acc0\"]+kv[\"test_acc1\"]+kv[\"test_acc2\"]+kv[\"test_acc3\"]+kv[\"test_acc4\"])/5"
   ]
  },
  {
   "cell_type": "markdown",
   "metadata": {},
   "source": [
    "#### Average Demographic Parity"
   ]
  },
  {
   "cell_type": "code",
   "execution_count": 16,
   "metadata": {},
   "outputs": [
    {
     "data": {
      "text/plain": [
       "0.8391295536514767"
      ]
     },
     "execution_count": 16,
     "metadata": {},
     "output_type": "execute_result"
    }
   ],
   "source": [
    "(kv[\"Disparate_impact0\"]+kv[\"Disparate_impact1\"]+kv[\"Disparate_impact2\"]+kv[\"Disparate_impact3\"]+kv[\"Disparate_impact4\"])/5"
   ]
  },
  {
   "cell_type": "markdown",
   "metadata": {},
   "source": [
    "#### Average Disparate Impact"
   ]
  },
  {
   "cell_type": "code",
   "execution_count": 17,
   "metadata": {},
   "outputs": [
    {
     "data": {
      "text/plain": [
       "-0.08904916580745693"
      ]
     },
     "execution_count": 17,
     "metadata": {},
     "output_type": "execute_result"
    }
   ],
   "source": [
    "(kv[\"Parity_Difference0\"]+kv[\"Parity_Difference1\"]+kv[\"Parity_Difference2\"]+kv[\"Parity_Difference3\"]+kv[\"Parity_Difference4\"])/5"
   ]
  },
  {
   "cell_type": "code",
   "execution_count": 18,
   "metadata": {},
   "outputs": [
    {
     "data": {
      "text/markdown": [
       "#### Model - without bias - classification metrics"
      ],
      "text/plain": [
       "<IPython.core.display.Markdown object>"
      ]
     },
     "metadata": {},
     "output_type": "display_data"
    },
    {
     "name": "stdout",
     "output_type": "stream",
     "text": [
      "Dataset: Classification accuracy = 0.868494\n",
      "Dataset: Disparate impact = 0.839907\n",
      "Dataset: Parity Difference = -0.088203\n"
     ]
    }
   ],
   "source": [
    "dataset_orig_test_pred = dataset_orig.copy(deepcopy=True)\n",
    "dataset_orig_test_pred.labels = oracle.predict(scale_orig.transform(dataset_orig.features))\n",
    "display(Markdown(\"#### Model - without bias - classification metrics\"))\n",
    "classified_metric_debiasing_test = ClassificationMetric(dataset_orig, \n",
    "                                                 dataset_orig_test_pred,\n",
    "                                                 unprivileged_groups=unprivileged_groups,\n",
    "                                                 privileged_groups=privileged_groups)\n",
    "print(\"Dataset: Classification accuracy = %f\" % classified_metric_debiasing_test.accuracy())\n",
    "print(\"Dataset: Disparate impact = %f\" % classified_metric_debiasing_test.disparate_impact())\n",
    "print(\"Dataset: Parity Difference = %f\" % classified_metric_debiasing_test.statistical_parity_difference())"
   ]
  },
  {
   "cell_type": "code",
   "execution_count": null,
   "metadata": {},
   "outputs": [],
   "source": []
  }
 ],
 "metadata": {
  "accelerator": "GPU",
  "colab": {
   "authorship_tag": "ABX9TyPvjTe7yG+k8kXL2c8+ARTd",
   "collapsed_sections": [],
   "name": "LTN2_FairnessMeasures",
   "provenance": [
    {
     "file_id": "1iixzamRwIEOAxXzhtFq98EwKZaauIEkj",
     "timestamp": 1595253671546
    }
   ]
  },
  "kernelspec": {
   "display_name": "Python (tf2)",
   "language": "python",
   "name": "tf2"
  },
  "language_info": {
   "codemirror_mode": {
    "name": "ipython",
    "version": 3
   },
   "file_extension": ".py",
   "mimetype": "text/x-python",
   "name": "python",
   "nbconvert_exporter": "python",
   "pygments_lexer": "ipython3",
   "version": "3.7.7"
  }
 },
 "nbformat": 4,
 "nbformat_minor": 1
}
